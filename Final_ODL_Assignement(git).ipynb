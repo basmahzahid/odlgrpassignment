{
  "nbformat": 4,
  "nbformat_minor": 0,
  "metadata": {
    "colab": {
      "provenance": [],
      "collapsed_sections": [
        "WTvkGsz9BdZu",
        "oFdh6fw0P0wq",
        "i9fMYrFwkEVD",
        "Re98qYYESIjG",
        "2_Nx-3Z13EJ1",
        "pHfR5nx22TV4",
        "NQnlW_8_1wXe",
        "u-R6S4KyAFed",
        "p3zyUTRDAMHu",
        "Hup8CKrZqt_V"
      ]
    },
    "kernelspec": {
      "name": "python3",
      "display_name": "Python 3"
    },
    "language_info": {
      "name": "python"
    }
  },
  "cells": [
    {
      "cell_type": "markdown",
      "metadata": {
        "id": "UAH7n3gn2hCA"
      },
      "source": [
        "# *CRIME PREDICTION MODELS*"
      ]
    },
    {
      "cell_type": "code",
      "metadata": {
        "colab": {
          "base_uri": "https://localhost:8080/"
        },
        "id": "KmKaqPMzG5Tw",
        "outputId": "d1424001-4b06-44bd-961c-9f930497d23f"
      },
      "source": [
        "#Mounting of drive to access relevant files\n",
        "from google.colab import drive\n",
        "drive.mount('/content/drive')"
      ],
      "execution_count": 1,
      "outputs": [
        {
          "output_type": "stream",
          "name": "stdout",
          "text": [
            "Mounted at /content/drive\n"
          ]
        }
      ]
    },
    {
      "cell_type": "code",
      "metadata": {
        "id": "QiT2J85XHjv7"
      },
      "source": [
        "#Importing libraries for EDA and preprocessing\n",
        "import sklearn\n",
        "import pandas as pd\n",
        "import numpy as np\n",
        "import seaborn as sns\n",
        "import matplotlib.pyplot as plt\n",
        "# Reading Crime Data File of the crimes of January 2021\n",
        "df = pd.read_csv ('/content/drive/MyDrive/Colab Notebooks/ODL/Assignment_ODL/Crimes-Jan-2021-data.csv')\n"
      ],
      "execution_count": 2,
      "outputs": []
    },
    {
      "cell_type": "markdown",
      "metadata": {
        "id": "lquw5motQSH0"
      },
      "source": [
        "# **TABLE OF CONTENT**\n",
        "\n",
        "**Pre-processing**\n",
        "1. Importing libraries\n",
        "2. Importing dataset\n",
        "3. Handling missing data\n",
        "\n",
        "**Exploratory Data Analysis**\n",
        "\n",
        "**Model Construction**\n",
        "1. Handling categorical data\n",
        "2. Drop Columns\n",
        "3. Columns Encoding\n",
        "2. Splitting dataset into training and testing dataset\n",
        "3. Feature scaling\n",
        "\n",
        "\n",
        "\n"
      ]
    },
    {
      "cell_type": "markdown",
      "metadata": {
        "id": "WTvkGsz9BdZu"
      },
      "source": [
        "# **PRE-PROCESSING**\n"
      ]
    },
    {
      "cell_type": "code",
      "metadata": {
        "id": "eK5cwqE5lnky",
        "colab": {
          "base_uri": "https://localhost:8080/"
        },
        "outputId": "91a29287-f812-4917-939d-390d0c64635f"
      },
      "source": [
        "#datatypes to see types of data\n",
        "df.dtypes"
      ],
      "execution_count": 3,
      "outputs": [
        {
          "output_type": "execute_result",
          "data": {
            "text/plain": [
              "Unnamed: 0                int64\n",
              "ID                        int64\n",
              "Case Number              object\n",
              "Date                     object\n",
              "Block                    object\n",
              "IUCR                     object\n",
              "Primary Type             object\n",
              "Description              object\n",
              "Location Description     object\n",
              "Arrest                     bool\n",
              "Domestic                   bool\n",
              "Beat                      int64\n",
              "District                  int64\n",
              "Ward                    float64\n",
              "Community Area          float64\n",
              "FBI Code                 object\n",
              "X Coordinate            float64\n",
              "Y Coordinate            float64\n",
              "Year                      int64\n",
              "Updated On               object\n",
              "Latitude                float64\n",
              "Longitude               float64\n",
              "Location                 object\n",
              "year                      int64\n",
              "month                     int64\n",
              "day                       int64\n",
              "time                     object\n",
              "dtype: object"
            ]
          },
          "metadata": {},
          "execution_count": 3
        }
      ]
    },
    {
      "cell_type": "code",
      "metadata": {
        "id": "odXKll_-z1Fv",
        "colab": {
          "base_uri": "https://localhost:8080/"
        },
        "outputId": "a67ad758-4007-4d03-ca6c-fa59768fe51e"
      },
      "source": [
        "#to view columns and rows\n",
        "df.shape"
      ],
      "execution_count": 4,
      "outputs": [
        {
          "output_type": "execute_result",
          "data": {
            "text/plain": [
              "(19801, 27)"
            ]
          },
          "metadata": {},
          "execution_count": 4
        }
      ]
    },
    {
      "cell_type": "code",
      "metadata": {
        "id": "LFfLbp960GdM",
        "colab": {
          "base_uri": "https://localhost:8080/",
          "height": 594
        },
        "outputId": "24f28af3-769c-4e58-98ac-ebcce41cf4f9"
      },
      "source": [
        "#view first 5 records\n",
        "df.head(5)"
      ],
      "execution_count": 5,
      "outputs": [
        {
          "output_type": "execute_result",
          "data": {
            "text/plain": [
              "   Unnamed: 0        ID Case Number           Date                  Block  \\\n",
              "0           0  12016034    JD193556  1/1/2020 0:00  018XX N WINNEBAGO AVE   \n",
              "1           1  12220321    JD430436  1/1/2020 0:00     091XX S DREXEL AVE   \n",
              "2           2  12013828    JD191019  1/1/2020 0:00   044XX S LAVERGNE AVE   \n",
              "3           3  12019692    JD197444  1/1/2020 0:00    032XX N LINCOLN AVE   \n",
              "4           4  12036792    JD216459  1/1/2020 0:00     072XX S WHIPPLE ST   \n",
              "\n",
              "   IUCR                Primary Type  \\\n",
              "0  1153          DECEPTIVE PRACTICE   \n",
              "1  1752  OFFENSE INVOLVING CHILDREN   \n",
              "2   281     CRIMINAL SEXUAL ASSAULT   \n",
              "3  1153          DECEPTIVE PRACTICE   \n",
              "4  1154          DECEPTIVE PRACTICE   \n",
              "\n",
              "                                         Description Location Description  \\\n",
              "0                FINANCIAL IDENTITY THEFT OVER $ 300            APARTMENT   \n",
              "1  AGGRAVATED CRIMINAL SEXUAL ABUSE BY FAMILY MEMBER            RESIDENCE   \n",
              "2                                     NON-AGGRAVATED            APARTMENT   \n",
              "3                FINANCIAL IDENTITY THEFT OVER $ 300            APARTMENT   \n",
              "4            FINANCIAL IDENTITY THEFT $300 AND UNDER            RESIDENCE   \n",
              "\n",
              "   Arrest  ...  Y Coordinate  Year              Updated On   Latitude  \\\n",
              "0   False  ...     1912391.0  2020  03/26/2020 03:45:12 PM  41.915306   \n",
              "1   False  ...     1844395.0  2020  12/19/2020 03:45:59 PM  41.728192   \n",
              "2   False  ...     1874726.0  2020  03/28/2020 03:47:02 PM  41.812274   \n",
              "3   False  ...     1921507.0  2020          4/1/2020 15:50  41.940222   \n",
              "4   False  ...     1856526.0  2020  04/29/2020 03:53:17 PM  41.762067   \n",
              "\n",
              "   Longitude                       Location  year  month  day      time  \n",
              "0 -87.686639  (41.915306069, -87.686639247)  2020      1    1  00:00:00  \n",
              "1 -87.600985  (41.728192429, -87.600985433)  2020      1    1  00:00:00  \n",
              "2 -87.748177   (41.81227369, -87.748176594)  2020      1    1  00:00:00  \n",
              "3 -87.669039  (41.940221932, -87.669039008)  2020      1    1  00:00:00  \n",
              "4 -87.699077  (41.762066981, -87.699077348)  2020      1    1  00:00:00  \n",
              "\n",
              "[5 rows x 27 columns]"
            ],
            "text/html": [
              "\n",
              "  <div id=\"df-23b419d5-501a-4147-b52d-fbd0925ee013\">\n",
              "    <div class=\"colab-df-container\">\n",
              "      <div>\n",
              "<style scoped>\n",
              "    .dataframe tbody tr th:only-of-type {\n",
              "        vertical-align: middle;\n",
              "    }\n",
              "\n",
              "    .dataframe tbody tr th {\n",
              "        vertical-align: top;\n",
              "    }\n",
              "\n",
              "    .dataframe thead th {\n",
              "        text-align: right;\n",
              "    }\n",
              "</style>\n",
              "<table border=\"1\" class=\"dataframe\">\n",
              "  <thead>\n",
              "    <tr style=\"text-align: right;\">\n",
              "      <th></th>\n",
              "      <th>Unnamed: 0</th>\n",
              "      <th>ID</th>\n",
              "      <th>Case Number</th>\n",
              "      <th>Date</th>\n",
              "      <th>Block</th>\n",
              "      <th>IUCR</th>\n",
              "      <th>Primary Type</th>\n",
              "      <th>Description</th>\n",
              "      <th>Location Description</th>\n",
              "      <th>Arrest</th>\n",
              "      <th>...</th>\n",
              "      <th>Y Coordinate</th>\n",
              "      <th>Year</th>\n",
              "      <th>Updated On</th>\n",
              "      <th>Latitude</th>\n",
              "      <th>Longitude</th>\n",
              "      <th>Location</th>\n",
              "      <th>year</th>\n",
              "      <th>month</th>\n",
              "      <th>day</th>\n",
              "      <th>time</th>\n",
              "    </tr>\n",
              "  </thead>\n",
              "  <tbody>\n",
              "    <tr>\n",
              "      <th>0</th>\n",
              "      <td>0</td>\n",
              "      <td>12016034</td>\n",
              "      <td>JD193556</td>\n",
              "      <td>1/1/2020 0:00</td>\n",
              "      <td>018XX N WINNEBAGO AVE</td>\n",
              "      <td>1153</td>\n",
              "      <td>DECEPTIVE PRACTICE</td>\n",
              "      <td>FINANCIAL IDENTITY THEFT OVER $ 300</td>\n",
              "      <td>APARTMENT</td>\n",
              "      <td>False</td>\n",
              "      <td>...</td>\n",
              "      <td>1912391.0</td>\n",
              "      <td>2020</td>\n",
              "      <td>03/26/2020 03:45:12 PM</td>\n",
              "      <td>41.915306</td>\n",
              "      <td>-87.686639</td>\n",
              "      <td>(41.915306069, -87.686639247)</td>\n",
              "      <td>2020</td>\n",
              "      <td>1</td>\n",
              "      <td>1</td>\n",
              "      <td>00:00:00</td>\n",
              "    </tr>\n",
              "    <tr>\n",
              "      <th>1</th>\n",
              "      <td>1</td>\n",
              "      <td>12220321</td>\n",
              "      <td>JD430436</td>\n",
              "      <td>1/1/2020 0:00</td>\n",
              "      <td>091XX S DREXEL AVE</td>\n",
              "      <td>1752</td>\n",
              "      <td>OFFENSE INVOLVING CHILDREN</td>\n",
              "      <td>AGGRAVATED CRIMINAL SEXUAL ABUSE BY FAMILY MEMBER</td>\n",
              "      <td>RESIDENCE</td>\n",
              "      <td>False</td>\n",
              "      <td>...</td>\n",
              "      <td>1844395.0</td>\n",
              "      <td>2020</td>\n",
              "      <td>12/19/2020 03:45:59 PM</td>\n",
              "      <td>41.728192</td>\n",
              "      <td>-87.600985</td>\n",
              "      <td>(41.728192429, -87.600985433)</td>\n",
              "      <td>2020</td>\n",
              "      <td>1</td>\n",
              "      <td>1</td>\n",
              "      <td>00:00:00</td>\n",
              "    </tr>\n",
              "    <tr>\n",
              "      <th>2</th>\n",
              "      <td>2</td>\n",
              "      <td>12013828</td>\n",
              "      <td>JD191019</td>\n",
              "      <td>1/1/2020 0:00</td>\n",
              "      <td>044XX S LAVERGNE AVE</td>\n",
              "      <td>281</td>\n",
              "      <td>CRIMINAL SEXUAL ASSAULT</td>\n",
              "      <td>NON-AGGRAVATED</td>\n",
              "      <td>APARTMENT</td>\n",
              "      <td>False</td>\n",
              "      <td>...</td>\n",
              "      <td>1874726.0</td>\n",
              "      <td>2020</td>\n",
              "      <td>03/28/2020 03:47:02 PM</td>\n",
              "      <td>41.812274</td>\n",
              "      <td>-87.748177</td>\n",
              "      <td>(41.81227369, -87.748176594)</td>\n",
              "      <td>2020</td>\n",
              "      <td>1</td>\n",
              "      <td>1</td>\n",
              "      <td>00:00:00</td>\n",
              "    </tr>\n",
              "    <tr>\n",
              "      <th>3</th>\n",
              "      <td>3</td>\n",
              "      <td>12019692</td>\n",
              "      <td>JD197444</td>\n",
              "      <td>1/1/2020 0:00</td>\n",
              "      <td>032XX N LINCOLN AVE</td>\n",
              "      <td>1153</td>\n",
              "      <td>DECEPTIVE PRACTICE</td>\n",
              "      <td>FINANCIAL IDENTITY THEFT OVER $ 300</td>\n",
              "      <td>APARTMENT</td>\n",
              "      <td>False</td>\n",
              "      <td>...</td>\n",
              "      <td>1921507.0</td>\n",
              "      <td>2020</td>\n",
              "      <td>4/1/2020 15:50</td>\n",
              "      <td>41.940222</td>\n",
              "      <td>-87.669039</td>\n",
              "      <td>(41.940221932, -87.669039008)</td>\n",
              "      <td>2020</td>\n",
              "      <td>1</td>\n",
              "      <td>1</td>\n",
              "      <td>00:00:00</td>\n",
              "    </tr>\n",
              "    <tr>\n",
              "      <th>4</th>\n",
              "      <td>4</td>\n",
              "      <td>12036792</td>\n",
              "      <td>JD216459</td>\n",
              "      <td>1/1/2020 0:00</td>\n",
              "      <td>072XX S WHIPPLE ST</td>\n",
              "      <td>1154</td>\n",
              "      <td>DECEPTIVE PRACTICE</td>\n",
              "      <td>FINANCIAL IDENTITY THEFT $300 AND UNDER</td>\n",
              "      <td>RESIDENCE</td>\n",
              "      <td>False</td>\n",
              "      <td>...</td>\n",
              "      <td>1856526.0</td>\n",
              "      <td>2020</td>\n",
              "      <td>04/29/2020 03:53:17 PM</td>\n",
              "      <td>41.762067</td>\n",
              "      <td>-87.699077</td>\n",
              "      <td>(41.762066981, -87.699077348)</td>\n",
              "      <td>2020</td>\n",
              "      <td>1</td>\n",
              "      <td>1</td>\n",
              "      <td>00:00:00</td>\n",
              "    </tr>\n",
              "  </tbody>\n",
              "</table>\n",
              "<p>5 rows × 27 columns</p>\n",
              "</div>\n",
              "      <button class=\"colab-df-convert\" onclick=\"convertToInteractive('df-23b419d5-501a-4147-b52d-fbd0925ee013')\"\n",
              "              title=\"Convert this dataframe to an interactive table.\"\n",
              "              style=\"display:none;\">\n",
              "        \n",
              "  <svg xmlns=\"http://www.w3.org/2000/svg\" height=\"24px\"viewBox=\"0 0 24 24\"\n",
              "       width=\"24px\">\n",
              "    <path d=\"M0 0h24v24H0V0z\" fill=\"none\"/>\n",
              "    <path d=\"M18.56 5.44l.94 2.06.94-2.06 2.06-.94-2.06-.94-.94-2.06-.94 2.06-2.06.94zm-11 1L8.5 8.5l.94-2.06 2.06-.94-2.06-.94L8.5 2.5l-.94 2.06-2.06.94zm10 10l.94 2.06.94-2.06 2.06-.94-2.06-.94-.94-2.06-.94 2.06-2.06.94z\"/><path d=\"M17.41 7.96l-1.37-1.37c-.4-.4-.92-.59-1.43-.59-.52 0-1.04.2-1.43.59L10.3 9.45l-7.72 7.72c-.78.78-.78 2.05 0 2.83L4 21.41c.39.39.9.59 1.41.59.51 0 1.02-.2 1.41-.59l7.78-7.78 2.81-2.81c.8-.78.8-2.07 0-2.86zM5.41 20L4 18.59l7.72-7.72 1.47 1.35L5.41 20z\"/>\n",
              "  </svg>\n",
              "      </button>\n",
              "      \n",
              "  <style>\n",
              "    .colab-df-container {\n",
              "      display:flex;\n",
              "      flex-wrap:wrap;\n",
              "      gap: 12px;\n",
              "    }\n",
              "\n",
              "    .colab-df-convert {\n",
              "      background-color: #E8F0FE;\n",
              "      border: none;\n",
              "      border-radius: 50%;\n",
              "      cursor: pointer;\n",
              "      display: none;\n",
              "      fill: #1967D2;\n",
              "      height: 32px;\n",
              "      padding: 0 0 0 0;\n",
              "      width: 32px;\n",
              "    }\n",
              "\n",
              "    .colab-df-convert:hover {\n",
              "      background-color: #E2EBFA;\n",
              "      box-shadow: 0px 1px 2px rgba(60, 64, 67, 0.3), 0px 1px 3px 1px rgba(60, 64, 67, 0.15);\n",
              "      fill: #174EA6;\n",
              "    }\n",
              "\n",
              "    [theme=dark] .colab-df-convert {\n",
              "      background-color: #3B4455;\n",
              "      fill: #D2E3FC;\n",
              "    }\n",
              "\n",
              "    [theme=dark] .colab-df-convert:hover {\n",
              "      background-color: #434B5C;\n",
              "      box-shadow: 0px 1px 3px 1px rgba(0, 0, 0, 0.15);\n",
              "      filter: drop-shadow(0px 1px 2px rgba(0, 0, 0, 0.3));\n",
              "      fill: #FFFFFF;\n",
              "    }\n",
              "  </style>\n",
              "\n",
              "      <script>\n",
              "        const buttonEl =\n",
              "          document.querySelector('#df-23b419d5-501a-4147-b52d-fbd0925ee013 button.colab-df-convert');\n",
              "        buttonEl.style.display =\n",
              "          google.colab.kernel.accessAllowed ? 'block' : 'none';\n",
              "\n",
              "        async function convertToInteractive(key) {\n",
              "          const element = document.querySelector('#df-23b419d5-501a-4147-b52d-fbd0925ee013');\n",
              "          const dataTable =\n",
              "            await google.colab.kernel.invokeFunction('convertToInteractive',\n",
              "                                                     [key], {});\n",
              "          if (!dataTable) return;\n",
              "\n",
              "          const docLinkHtml = 'Like what you see? Visit the ' +\n",
              "            '<a target=\"_blank\" href=https://colab.research.google.com/notebooks/data_table.ipynb>data table notebook</a>'\n",
              "            + ' to learn more about interactive tables.';\n",
              "          element.innerHTML = '';\n",
              "          dataTable['output_type'] = 'display_data';\n",
              "          await google.colab.output.renderOutput(dataTable, element);\n",
              "          const docLink = document.createElement('div');\n",
              "          docLink.innerHTML = docLinkHtml;\n",
              "          element.appendChild(docLink);\n",
              "        }\n",
              "      </script>\n",
              "    </div>\n",
              "  </div>\n",
              "  "
            ]
          },
          "metadata": {},
          "execution_count": 5
        }
      ]
    },
    {
      "cell_type": "code",
      "metadata": {
        "id": "vtJMYbtd0K1N",
        "colab": {
          "base_uri": "https://localhost:8080/",
          "height": 542
        },
        "outputId": "ac9aeed3-d6c6-43b1-d6f4-7aaee698d7c9"
      },
      "source": [
        "#view last 5 records\n",
        "df.tail(5)"
      ],
      "execution_count": 6,
      "outputs": [
        {
          "output_type": "execute_result",
          "data": {
            "text/plain": [
              "       Unnamed: 0        ID Case Number                    Date  \\\n",
              "19796       19796  11968231    JD135815  01/31/2020 11:48:00 PM   \n",
              "19797       19797  11968265    JD135827  01/31/2020 11:49:00 PM   \n",
              "19798       19798  11968303    JD135797  01/31/2020 11:50:00 PM   \n",
              "19799       19799  11968986    JD136093  01/31/2020 11:50:00 PM   \n",
              "19800       19800  11968238    JD135805  01/31/2020 11:55:00 PM   \n",
              "\n",
              "                        Block  IUCR                      Primary Type  \\\n",
              "19796  040XX S SACRAMENTO AVE  1811                         NARCOTICS   \n",
              "19797         012XX E 87TH ST  3730  INTERFERENCE WITH PUBLIC OFFICER   \n",
              "19798  049XX W WELLINGTON AVE   496                           BATTERY   \n",
              "19799      033XX N Halsted St   890                             THEFT   \n",
              "19800        098XX S AVENUE H   486                           BATTERY   \n",
              "\n",
              "                                           Description  \\\n",
              "19796                     POSS: CANNABIS 30GMS OR LESS   \n",
              "19797                              OBSTRUCTING JUSTICE   \n",
              "19798  AGGRAVATED DOMESTIC BATTERY: KNIFE/CUTTING INST   \n",
              "19799                                    FROM BUILDING   \n",
              "19800                          DOMESTIC BATTERY SIMPLE   \n",
              "\n",
              "         Location Description  Arrest  ...  Y Coordinate  Year  \\\n",
              "19796                  STREET    True  ...     1877747.0  2020   \n",
              "19797                  STREET    True  ...     1847553.0  2020   \n",
              "19798  VEHICLE NON-COMMERCIAL   False  ...     1919496.0  2020   \n",
              "19799           BAR OR TAVERN   False  ...     1922582.0  2020   \n",
              "19800               APARTMENT    True  ...     1840552.0  2020   \n",
              "\n",
              "           Updated On   Latitude  Longitude                       Location  \\\n",
              "19796  2/7/2020 15:52  41.820306 -87.699516  (41.820305963, -87.699515522)   \n",
              "19797  2/7/2020 15:52  41.736810 -87.593325   (41.736809882, -87.59332523)   \n",
              "19798  2/7/2020 15:52  41.935142 -87.749808  (41.935142198, -87.749807563)   \n",
              "19799  2/7/2020 15:52  41.943056 -87.649363  (41.943056436, -87.649362967)   \n",
              "19800  2/7/2020 15:52  41.717192 -87.532869  (41.717191712, -87.532868868)   \n",
              "\n",
              "       year  month  day      time  \n",
              "19796  2020      1   31  23:48:00  \n",
              "19797  2020      1   31  23:49:00  \n",
              "19798  2020      1   31  23:50:00  \n",
              "19799  2020      1   31  23:50:00  \n",
              "19800  2020      1   31  23:55:00  \n",
              "\n",
              "[5 rows x 27 columns]"
            ],
            "text/html": [
              "\n",
              "  <div id=\"df-8f121cd1-9e42-4d8a-bbac-495996a34abd\">\n",
              "    <div class=\"colab-df-container\">\n",
              "      <div>\n",
              "<style scoped>\n",
              "    .dataframe tbody tr th:only-of-type {\n",
              "        vertical-align: middle;\n",
              "    }\n",
              "\n",
              "    .dataframe tbody tr th {\n",
              "        vertical-align: top;\n",
              "    }\n",
              "\n",
              "    .dataframe thead th {\n",
              "        text-align: right;\n",
              "    }\n",
              "</style>\n",
              "<table border=\"1\" class=\"dataframe\">\n",
              "  <thead>\n",
              "    <tr style=\"text-align: right;\">\n",
              "      <th></th>\n",
              "      <th>Unnamed: 0</th>\n",
              "      <th>ID</th>\n",
              "      <th>Case Number</th>\n",
              "      <th>Date</th>\n",
              "      <th>Block</th>\n",
              "      <th>IUCR</th>\n",
              "      <th>Primary Type</th>\n",
              "      <th>Description</th>\n",
              "      <th>Location Description</th>\n",
              "      <th>Arrest</th>\n",
              "      <th>...</th>\n",
              "      <th>Y Coordinate</th>\n",
              "      <th>Year</th>\n",
              "      <th>Updated On</th>\n",
              "      <th>Latitude</th>\n",
              "      <th>Longitude</th>\n",
              "      <th>Location</th>\n",
              "      <th>year</th>\n",
              "      <th>month</th>\n",
              "      <th>day</th>\n",
              "      <th>time</th>\n",
              "    </tr>\n",
              "  </thead>\n",
              "  <tbody>\n",
              "    <tr>\n",
              "      <th>19796</th>\n",
              "      <td>19796</td>\n",
              "      <td>11968231</td>\n",
              "      <td>JD135815</td>\n",
              "      <td>01/31/2020 11:48:00 PM</td>\n",
              "      <td>040XX S SACRAMENTO AVE</td>\n",
              "      <td>1811</td>\n",
              "      <td>NARCOTICS</td>\n",
              "      <td>POSS: CANNABIS 30GMS OR LESS</td>\n",
              "      <td>STREET</td>\n",
              "      <td>True</td>\n",
              "      <td>...</td>\n",
              "      <td>1877747.0</td>\n",
              "      <td>2020</td>\n",
              "      <td>2/7/2020 15:52</td>\n",
              "      <td>41.820306</td>\n",
              "      <td>-87.699516</td>\n",
              "      <td>(41.820305963, -87.699515522)</td>\n",
              "      <td>2020</td>\n",
              "      <td>1</td>\n",
              "      <td>31</td>\n",
              "      <td>23:48:00</td>\n",
              "    </tr>\n",
              "    <tr>\n",
              "      <th>19797</th>\n",
              "      <td>19797</td>\n",
              "      <td>11968265</td>\n",
              "      <td>JD135827</td>\n",
              "      <td>01/31/2020 11:49:00 PM</td>\n",
              "      <td>012XX E 87TH ST</td>\n",
              "      <td>3730</td>\n",
              "      <td>INTERFERENCE WITH PUBLIC OFFICER</td>\n",
              "      <td>OBSTRUCTING JUSTICE</td>\n",
              "      <td>STREET</td>\n",
              "      <td>True</td>\n",
              "      <td>...</td>\n",
              "      <td>1847553.0</td>\n",
              "      <td>2020</td>\n",
              "      <td>2/7/2020 15:52</td>\n",
              "      <td>41.736810</td>\n",
              "      <td>-87.593325</td>\n",
              "      <td>(41.736809882, -87.59332523)</td>\n",
              "      <td>2020</td>\n",
              "      <td>1</td>\n",
              "      <td>31</td>\n",
              "      <td>23:49:00</td>\n",
              "    </tr>\n",
              "    <tr>\n",
              "      <th>19798</th>\n",
              "      <td>19798</td>\n",
              "      <td>11968303</td>\n",
              "      <td>JD135797</td>\n",
              "      <td>01/31/2020 11:50:00 PM</td>\n",
              "      <td>049XX W WELLINGTON AVE</td>\n",
              "      <td>496</td>\n",
              "      <td>BATTERY</td>\n",
              "      <td>AGGRAVATED DOMESTIC BATTERY: KNIFE/CUTTING INST</td>\n",
              "      <td>VEHICLE NON-COMMERCIAL</td>\n",
              "      <td>False</td>\n",
              "      <td>...</td>\n",
              "      <td>1919496.0</td>\n",
              "      <td>2020</td>\n",
              "      <td>2/7/2020 15:52</td>\n",
              "      <td>41.935142</td>\n",
              "      <td>-87.749808</td>\n",
              "      <td>(41.935142198, -87.749807563)</td>\n",
              "      <td>2020</td>\n",
              "      <td>1</td>\n",
              "      <td>31</td>\n",
              "      <td>23:50:00</td>\n",
              "    </tr>\n",
              "    <tr>\n",
              "      <th>19799</th>\n",
              "      <td>19799</td>\n",
              "      <td>11968986</td>\n",
              "      <td>JD136093</td>\n",
              "      <td>01/31/2020 11:50:00 PM</td>\n",
              "      <td>033XX N Halsted St</td>\n",
              "      <td>890</td>\n",
              "      <td>THEFT</td>\n",
              "      <td>FROM BUILDING</td>\n",
              "      <td>BAR OR TAVERN</td>\n",
              "      <td>False</td>\n",
              "      <td>...</td>\n",
              "      <td>1922582.0</td>\n",
              "      <td>2020</td>\n",
              "      <td>2/7/2020 15:52</td>\n",
              "      <td>41.943056</td>\n",
              "      <td>-87.649363</td>\n",
              "      <td>(41.943056436, -87.649362967)</td>\n",
              "      <td>2020</td>\n",
              "      <td>1</td>\n",
              "      <td>31</td>\n",
              "      <td>23:50:00</td>\n",
              "    </tr>\n",
              "    <tr>\n",
              "      <th>19800</th>\n",
              "      <td>19800</td>\n",
              "      <td>11968238</td>\n",
              "      <td>JD135805</td>\n",
              "      <td>01/31/2020 11:55:00 PM</td>\n",
              "      <td>098XX S AVENUE H</td>\n",
              "      <td>486</td>\n",
              "      <td>BATTERY</td>\n",
              "      <td>DOMESTIC BATTERY SIMPLE</td>\n",
              "      <td>APARTMENT</td>\n",
              "      <td>True</td>\n",
              "      <td>...</td>\n",
              "      <td>1840552.0</td>\n",
              "      <td>2020</td>\n",
              "      <td>2/7/2020 15:52</td>\n",
              "      <td>41.717192</td>\n",
              "      <td>-87.532869</td>\n",
              "      <td>(41.717191712, -87.532868868)</td>\n",
              "      <td>2020</td>\n",
              "      <td>1</td>\n",
              "      <td>31</td>\n",
              "      <td>23:55:00</td>\n",
              "    </tr>\n",
              "  </tbody>\n",
              "</table>\n",
              "<p>5 rows × 27 columns</p>\n",
              "</div>\n",
              "      <button class=\"colab-df-convert\" onclick=\"convertToInteractive('df-8f121cd1-9e42-4d8a-bbac-495996a34abd')\"\n",
              "              title=\"Convert this dataframe to an interactive table.\"\n",
              "              style=\"display:none;\">\n",
              "        \n",
              "  <svg xmlns=\"http://www.w3.org/2000/svg\" height=\"24px\"viewBox=\"0 0 24 24\"\n",
              "       width=\"24px\">\n",
              "    <path d=\"M0 0h24v24H0V0z\" fill=\"none\"/>\n",
              "    <path d=\"M18.56 5.44l.94 2.06.94-2.06 2.06-.94-2.06-.94-.94-2.06-.94 2.06-2.06.94zm-11 1L8.5 8.5l.94-2.06 2.06-.94-2.06-.94L8.5 2.5l-.94 2.06-2.06.94zm10 10l.94 2.06.94-2.06 2.06-.94-2.06-.94-.94-2.06-.94 2.06-2.06.94z\"/><path d=\"M17.41 7.96l-1.37-1.37c-.4-.4-.92-.59-1.43-.59-.52 0-1.04.2-1.43.59L10.3 9.45l-7.72 7.72c-.78.78-.78 2.05 0 2.83L4 21.41c.39.39.9.59 1.41.59.51 0 1.02-.2 1.41-.59l7.78-7.78 2.81-2.81c.8-.78.8-2.07 0-2.86zM5.41 20L4 18.59l7.72-7.72 1.47 1.35L5.41 20z\"/>\n",
              "  </svg>\n",
              "      </button>\n",
              "      \n",
              "  <style>\n",
              "    .colab-df-container {\n",
              "      display:flex;\n",
              "      flex-wrap:wrap;\n",
              "      gap: 12px;\n",
              "    }\n",
              "\n",
              "    .colab-df-convert {\n",
              "      background-color: #E8F0FE;\n",
              "      border: none;\n",
              "      border-radius: 50%;\n",
              "      cursor: pointer;\n",
              "      display: none;\n",
              "      fill: #1967D2;\n",
              "      height: 32px;\n",
              "      padding: 0 0 0 0;\n",
              "      width: 32px;\n",
              "    }\n",
              "\n",
              "    .colab-df-convert:hover {\n",
              "      background-color: #E2EBFA;\n",
              "      box-shadow: 0px 1px 2px rgba(60, 64, 67, 0.3), 0px 1px 3px 1px rgba(60, 64, 67, 0.15);\n",
              "      fill: #174EA6;\n",
              "    }\n",
              "\n",
              "    [theme=dark] .colab-df-convert {\n",
              "      background-color: #3B4455;\n",
              "      fill: #D2E3FC;\n",
              "    }\n",
              "\n",
              "    [theme=dark] .colab-df-convert:hover {\n",
              "      background-color: #434B5C;\n",
              "      box-shadow: 0px 1px 3px 1px rgba(0, 0, 0, 0.15);\n",
              "      filter: drop-shadow(0px 1px 2px rgba(0, 0, 0, 0.3));\n",
              "      fill: #FFFFFF;\n",
              "    }\n",
              "  </style>\n",
              "\n",
              "      <script>\n",
              "        const buttonEl =\n",
              "          document.querySelector('#df-8f121cd1-9e42-4d8a-bbac-495996a34abd button.colab-df-convert');\n",
              "        buttonEl.style.display =\n",
              "          google.colab.kernel.accessAllowed ? 'block' : 'none';\n",
              "\n",
              "        async function convertToInteractive(key) {\n",
              "          const element = document.querySelector('#df-8f121cd1-9e42-4d8a-bbac-495996a34abd');\n",
              "          const dataTable =\n",
              "            await google.colab.kernel.invokeFunction('convertToInteractive',\n",
              "                                                     [key], {});\n",
              "          if (!dataTable) return;\n",
              "\n",
              "          const docLinkHtml = 'Like what you see? Visit the ' +\n",
              "            '<a target=\"_blank\" href=https://colab.research.google.com/notebooks/data_table.ipynb>data table notebook</a>'\n",
              "            + ' to learn more about interactive tables.';\n",
              "          element.innerHTML = '';\n",
              "          dataTable['output_type'] = 'display_data';\n",
              "          await google.colab.output.renderOutput(dataTable, element);\n",
              "          const docLink = document.createElement('div');\n",
              "          docLink.innerHTML = docLinkHtml;\n",
              "          element.appendChild(docLink);\n",
              "        }\n",
              "      </script>\n",
              "    </div>\n",
              "  </div>\n",
              "  "
            ]
          },
          "metadata": {},
          "execution_count": 6
        }
      ]
    },
    {
      "cell_type": "code",
      "metadata": {
        "id": "EHkzubDL2NyS",
        "colab": {
          "base_uri": "https://localhost:8080/",
          "height": 344
        },
        "outputId": "928977ac-1d15-4263-d30d-9cd9250c61d4"
      },
      "source": [
        "#dataset summary - can be used to replace missing values and clean data\n",
        "df.describe()"
      ],
      "execution_count": 7,
      "outputs": [
        {
          "output_type": "execute_result",
          "data": {
            "text/plain": [
              "         Unnamed: 0            ID          Beat      District          Ward  \\\n",
              "count  19801.000000  1.980100e+04  19801.000000  19801.000000  19801.000000   \n",
              "mean    9900.000000  1.193715e+07   1140.326448     11.173729     23.341346   \n",
              "std     5716.200676  5.093355e+05    694.238255      6.935818     13.892011   \n",
              "min        0.000000  2.488900e+04    111.000000      1.000000      1.000000   \n",
              "25%     4950.000000  1.194704e+07    611.000000      6.000000     10.000000   \n",
              "50%     9900.000000  1.195508e+07   1023.000000     10.000000     24.000000   \n",
              "75%    14850.000000  1.196305e+07   1713.000000     17.000000     34.000000   \n",
              "max    19800.000000  1.237339e+07   2535.000000     31.000000     50.000000   \n",
              "\n",
              "       Community Area  X Coordinate  Y Coordinate     Year      Latitude  \\\n",
              "count    19801.000000  1.965200e+04  1.965200e+04  19801.0  19652.000000   \n",
              "mean        36.905055  1.164962e+06  1.886102e+06   2020.0     41.843053   \n",
              "std         21.563978  1.616986e+04  3.136727e+04      0.0      0.086260   \n",
              "min          1.000000  1.092647e+06  1.814512e+06   2020.0     41.645796   \n",
              "25%         23.000000  1.153286e+06  1.858727e+06   2020.0     41.767748   \n",
              "50%         32.000000  1.166775e+06  1.892864e+06   2020.0     41.861834   \n",
              "75%         54.000000  1.176447e+06  1.908580e+06   2020.0     41.904659   \n",
              "max         77.000000  1.204801e+06  1.951493e+06   2020.0     42.022548   \n",
              "\n",
              "          Longitude     year    month           day  \n",
              "count  19652.000000  19801.0  19801.0  19801.000000  \n",
              "mean     -87.670165   2020.0      1.0     15.799758  \n",
              "std        0.058867      0.0      0.0      9.173730  \n",
              "min      -87.934567   2020.0      1.0      1.000000  \n",
              "25%      -87.712522   2020.0      1.0      8.000000  \n",
              "50%      -87.663594   2020.0      1.0     16.000000  \n",
              "75%      -87.627845   2020.0      1.0     24.000000  \n",
              "max      -87.525663   2020.0      1.0     31.000000  "
            ],
            "text/html": [
              "\n",
              "  <div id=\"df-fdea5a10-2e1a-4a03-a744-6c6dc0e2bf77\">\n",
              "    <div class=\"colab-df-container\">\n",
              "      <div>\n",
              "<style scoped>\n",
              "    .dataframe tbody tr th:only-of-type {\n",
              "        vertical-align: middle;\n",
              "    }\n",
              "\n",
              "    .dataframe tbody tr th {\n",
              "        vertical-align: top;\n",
              "    }\n",
              "\n",
              "    .dataframe thead th {\n",
              "        text-align: right;\n",
              "    }\n",
              "</style>\n",
              "<table border=\"1\" class=\"dataframe\">\n",
              "  <thead>\n",
              "    <tr style=\"text-align: right;\">\n",
              "      <th></th>\n",
              "      <th>Unnamed: 0</th>\n",
              "      <th>ID</th>\n",
              "      <th>Beat</th>\n",
              "      <th>District</th>\n",
              "      <th>Ward</th>\n",
              "      <th>Community Area</th>\n",
              "      <th>X Coordinate</th>\n",
              "      <th>Y Coordinate</th>\n",
              "      <th>Year</th>\n",
              "      <th>Latitude</th>\n",
              "      <th>Longitude</th>\n",
              "      <th>year</th>\n",
              "      <th>month</th>\n",
              "      <th>day</th>\n",
              "    </tr>\n",
              "  </thead>\n",
              "  <tbody>\n",
              "    <tr>\n",
              "      <th>count</th>\n",
              "      <td>19801.000000</td>\n",
              "      <td>1.980100e+04</td>\n",
              "      <td>19801.000000</td>\n",
              "      <td>19801.000000</td>\n",
              "      <td>19801.000000</td>\n",
              "      <td>19801.000000</td>\n",
              "      <td>1.965200e+04</td>\n",
              "      <td>1.965200e+04</td>\n",
              "      <td>19801.0</td>\n",
              "      <td>19652.000000</td>\n",
              "      <td>19652.000000</td>\n",
              "      <td>19801.0</td>\n",
              "      <td>19801.0</td>\n",
              "      <td>19801.000000</td>\n",
              "    </tr>\n",
              "    <tr>\n",
              "      <th>mean</th>\n",
              "      <td>9900.000000</td>\n",
              "      <td>1.193715e+07</td>\n",
              "      <td>1140.326448</td>\n",
              "      <td>11.173729</td>\n",
              "      <td>23.341346</td>\n",
              "      <td>36.905055</td>\n",
              "      <td>1.164962e+06</td>\n",
              "      <td>1.886102e+06</td>\n",
              "      <td>2020.0</td>\n",
              "      <td>41.843053</td>\n",
              "      <td>-87.670165</td>\n",
              "      <td>2020.0</td>\n",
              "      <td>1.0</td>\n",
              "      <td>15.799758</td>\n",
              "    </tr>\n",
              "    <tr>\n",
              "      <th>std</th>\n",
              "      <td>5716.200676</td>\n",
              "      <td>5.093355e+05</td>\n",
              "      <td>694.238255</td>\n",
              "      <td>6.935818</td>\n",
              "      <td>13.892011</td>\n",
              "      <td>21.563978</td>\n",
              "      <td>1.616986e+04</td>\n",
              "      <td>3.136727e+04</td>\n",
              "      <td>0.0</td>\n",
              "      <td>0.086260</td>\n",
              "      <td>0.058867</td>\n",
              "      <td>0.0</td>\n",
              "      <td>0.0</td>\n",
              "      <td>9.173730</td>\n",
              "    </tr>\n",
              "    <tr>\n",
              "      <th>min</th>\n",
              "      <td>0.000000</td>\n",
              "      <td>2.488900e+04</td>\n",
              "      <td>111.000000</td>\n",
              "      <td>1.000000</td>\n",
              "      <td>1.000000</td>\n",
              "      <td>1.000000</td>\n",
              "      <td>1.092647e+06</td>\n",
              "      <td>1.814512e+06</td>\n",
              "      <td>2020.0</td>\n",
              "      <td>41.645796</td>\n",
              "      <td>-87.934567</td>\n",
              "      <td>2020.0</td>\n",
              "      <td>1.0</td>\n",
              "      <td>1.000000</td>\n",
              "    </tr>\n",
              "    <tr>\n",
              "      <th>25%</th>\n",
              "      <td>4950.000000</td>\n",
              "      <td>1.194704e+07</td>\n",
              "      <td>611.000000</td>\n",
              "      <td>6.000000</td>\n",
              "      <td>10.000000</td>\n",
              "      <td>23.000000</td>\n",
              "      <td>1.153286e+06</td>\n",
              "      <td>1.858727e+06</td>\n",
              "      <td>2020.0</td>\n",
              "      <td>41.767748</td>\n",
              "      <td>-87.712522</td>\n",
              "      <td>2020.0</td>\n",
              "      <td>1.0</td>\n",
              "      <td>8.000000</td>\n",
              "    </tr>\n",
              "    <tr>\n",
              "      <th>50%</th>\n",
              "      <td>9900.000000</td>\n",
              "      <td>1.195508e+07</td>\n",
              "      <td>1023.000000</td>\n",
              "      <td>10.000000</td>\n",
              "      <td>24.000000</td>\n",
              "      <td>32.000000</td>\n",
              "      <td>1.166775e+06</td>\n",
              "      <td>1.892864e+06</td>\n",
              "      <td>2020.0</td>\n",
              "      <td>41.861834</td>\n",
              "      <td>-87.663594</td>\n",
              "      <td>2020.0</td>\n",
              "      <td>1.0</td>\n",
              "      <td>16.000000</td>\n",
              "    </tr>\n",
              "    <tr>\n",
              "      <th>75%</th>\n",
              "      <td>14850.000000</td>\n",
              "      <td>1.196305e+07</td>\n",
              "      <td>1713.000000</td>\n",
              "      <td>17.000000</td>\n",
              "      <td>34.000000</td>\n",
              "      <td>54.000000</td>\n",
              "      <td>1.176447e+06</td>\n",
              "      <td>1.908580e+06</td>\n",
              "      <td>2020.0</td>\n",
              "      <td>41.904659</td>\n",
              "      <td>-87.627845</td>\n",
              "      <td>2020.0</td>\n",
              "      <td>1.0</td>\n",
              "      <td>24.000000</td>\n",
              "    </tr>\n",
              "    <tr>\n",
              "      <th>max</th>\n",
              "      <td>19800.000000</td>\n",
              "      <td>1.237339e+07</td>\n",
              "      <td>2535.000000</td>\n",
              "      <td>31.000000</td>\n",
              "      <td>50.000000</td>\n",
              "      <td>77.000000</td>\n",
              "      <td>1.204801e+06</td>\n",
              "      <td>1.951493e+06</td>\n",
              "      <td>2020.0</td>\n",
              "      <td>42.022548</td>\n",
              "      <td>-87.525663</td>\n",
              "      <td>2020.0</td>\n",
              "      <td>1.0</td>\n",
              "      <td>31.000000</td>\n",
              "    </tr>\n",
              "  </tbody>\n",
              "</table>\n",
              "</div>\n",
              "      <button class=\"colab-df-convert\" onclick=\"convertToInteractive('df-fdea5a10-2e1a-4a03-a744-6c6dc0e2bf77')\"\n",
              "              title=\"Convert this dataframe to an interactive table.\"\n",
              "              style=\"display:none;\">\n",
              "        \n",
              "  <svg xmlns=\"http://www.w3.org/2000/svg\" height=\"24px\"viewBox=\"0 0 24 24\"\n",
              "       width=\"24px\">\n",
              "    <path d=\"M0 0h24v24H0V0z\" fill=\"none\"/>\n",
              "    <path d=\"M18.56 5.44l.94 2.06.94-2.06 2.06-.94-2.06-.94-.94-2.06-.94 2.06-2.06.94zm-11 1L8.5 8.5l.94-2.06 2.06-.94-2.06-.94L8.5 2.5l-.94 2.06-2.06.94zm10 10l.94 2.06.94-2.06 2.06-.94-2.06-.94-.94-2.06-.94 2.06-2.06.94z\"/><path d=\"M17.41 7.96l-1.37-1.37c-.4-.4-.92-.59-1.43-.59-.52 0-1.04.2-1.43.59L10.3 9.45l-7.72 7.72c-.78.78-.78 2.05 0 2.83L4 21.41c.39.39.9.59 1.41.59.51 0 1.02-.2 1.41-.59l7.78-7.78 2.81-2.81c.8-.78.8-2.07 0-2.86zM5.41 20L4 18.59l7.72-7.72 1.47 1.35L5.41 20z\"/>\n",
              "  </svg>\n",
              "      </button>\n",
              "      \n",
              "  <style>\n",
              "    .colab-df-container {\n",
              "      display:flex;\n",
              "      flex-wrap:wrap;\n",
              "      gap: 12px;\n",
              "    }\n",
              "\n",
              "    .colab-df-convert {\n",
              "      background-color: #E8F0FE;\n",
              "      border: none;\n",
              "      border-radius: 50%;\n",
              "      cursor: pointer;\n",
              "      display: none;\n",
              "      fill: #1967D2;\n",
              "      height: 32px;\n",
              "      padding: 0 0 0 0;\n",
              "      width: 32px;\n",
              "    }\n",
              "\n",
              "    .colab-df-convert:hover {\n",
              "      background-color: #E2EBFA;\n",
              "      box-shadow: 0px 1px 2px rgba(60, 64, 67, 0.3), 0px 1px 3px 1px rgba(60, 64, 67, 0.15);\n",
              "      fill: #174EA6;\n",
              "    }\n",
              "\n",
              "    [theme=dark] .colab-df-convert {\n",
              "      background-color: #3B4455;\n",
              "      fill: #D2E3FC;\n",
              "    }\n",
              "\n",
              "    [theme=dark] .colab-df-convert:hover {\n",
              "      background-color: #434B5C;\n",
              "      box-shadow: 0px 1px 3px 1px rgba(0, 0, 0, 0.15);\n",
              "      filter: drop-shadow(0px 1px 2px rgba(0, 0, 0, 0.3));\n",
              "      fill: #FFFFFF;\n",
              "    }\n",
              "  </style>\n",
              "\n",
              "      <script>\n",
              "        const buttonEl =\n",
              "          document.querySelector('#df-fdea5a10-2e1a-4a03-a744-6c6dc0e2bf77 button.colab-df-convert');\n",
              "        buttonEl.style.display =\n",
              "          google.colab.kernel.accessAllowed ? 'block' : 'none';\n",
              "\n",
              "        async function convertToInteractive(key) {\n",
              "          const element = document.querySelector('#df-fdea5a10-2e1a-4a03-a744-6c6dc0e2bf77');\n",
              "          const dataTable =\n",
              "            await google.colab.kernel.invokeFunction('convertToInteractive',\n",
              "                                                     [key], {});\n",
              "          if (!dataTable) return;\n",
              "\n",
              "          const docLinkHtml = 'Like what you see? Visit the ' +\n",
              "            '<a target=\"_blank\" href=https://colab.research.google.com/notebooks/data_table.ipynb>data table notebook</a>'\n",
              "            + ' to learn more about interactive tables.';\n",
              "          element.innerHTML = '';\n",
              "          dataTable['output_type'] = 'display_data';\n",
              "          await google.colab.output.renderOutput(dataTable, element);\n",
              "          const docLink = document.createElement('div');\n",
              "          docLink.innerHTML = docLinkHtml;\n",
              "          element.appendChild(docLink);\n",
              "        }\n",
              "      </script>\n",
              "    </div>\n",
              "  </div>\n",
              "  "
            ]
          },
          "metadata": {},
          "execution_count": 7
        }
      ]
    },
    {
      "cell_type": "code",
      "metadata": {
        "id": "mDoLCwVb2QYp",
        "colab": {
          "base_uri": "https://localhost:8080/"
        },
        "outputId": "6d576f2f-c8ce-4f18-ad13-2c192db10d10"
      },
      "source": [
        "df['Arrest'].describe()\n",
        "#describe target records"
      ],
      "execution_count": 8,
      "outputs": [
        {
          "output_type": "execute_result",
          "data": {
            "text/plain": [
              "count     19801\n",
              "unique        2\n",
              "top       False\n",
              "freq      15291\n",
              "Name: Arrest, dtype: object"
            ]
          },
          "metadata": {},
          "execution_count": 8
        }
      ]
    },
    {
      "cell_type": "code",
      "metadata": {
        "id": "UPDfTkfSk7dO",
        "colab": {
          "base_uri": "https://localhost:8080/"
        },
        "outputId": "86525ca9-1a7c-4791-e569-d96578791fde"
      },
      "source": [
        "#changing datatype for clearer EDA\n",
        "df[\"Arrest\"]=df[\"Arrest\"].astype('category')\n",
        "df[\"Domestic\"]=df[\"Domestic\"].astype('category')\n",
        "df[\"Primary Type\"]=df[\"Primary Type\"].astype('category')\n",
        "#updated data types\n",
        "df.dtypes"
      ],
      "execution_count": 9,
      "outputs": [
        {
          "output_type": "execute_result",
          "data": {
            "text/plain": [
              "Unnamed: 0                 int64\n",
              "ID                         int64\n",
              "Case Number               object\n",
              "Date                      object\n",
              "Block                     object\n",
              "IUCR                      object\n",
              "Primary Type            category\n",
              "Description               object\n",
              "Location Description      object\n",
              "Arrest                  category\n",
              "Domestic                category\n",
              "Beat                       int64\n",
              "District                   int64\n",
              "Ward                     float64\n",
              "Community Area           float64\n",
              "FBI Code                  object\n",
              "X Coordinate             float64\n",
              "Y Coordinate             float64\n",
              "Year                       int64\n",
              "Updated On                object\n",
              "Latitude                 float64\n",
              "Longitude                float64\n",
              "Location                  object\n",
              "year                       int64\n",
              "month                      int64\n",
              "day                        int64\n",
              "time                      object\n",
              "dtype: object"
            ]
          },
          "metadata": {},
          "execution_count": 9
        }
      ]
    },
    {
      "cell_type": "code",
      "metadata": {
        "id": "MPPOYURgv3aA",
        "colab": {
          "base_uri": "https://localhost:8080/",
          "height": 363
        },
        "outputId": "8c22152b-34e0-41b7-a0fb-567ace2b35c8"
      },
      "source": [
        "#splitting block into block number, direction and street name for exploration\n",
        "#NEWS - North, East, West and South\n",
        "bs = pd.DataFrame(df.Block.str.split(' ',2).tolist(),columns = ['Block_Num','NEWS','Street_Name'])\n",
        "bs.head(10)"
      ],
      "execution_count": 10,
      "outputs": [
        {
          "output_type": "execute_result",
          "data": {
            "text/plain": [
              "  Block_Num NEWS     Street_Name\n",
              "0     018XX    N   WINNEBAGO AVE\n",
              "1     091XX    S      DREXEL AVE\n",
              "2     044XX    S    LAVERGNE AVE\n",
              "3     032XX    N     LINCOLN AVE\n",
              "4     072XX    S      WHIPPLE ST\n",
              "5     072XX    S  UNIVERSITY AVE\n",
              "6     032XX    N   SHEFFIELD AVE\n",
              "7     022XX    N        LONG AVE\n",
              "8     022XX    W        111TH ST\n",
              "9     020XX    N    LOCKWOOD AVE"
            ],
            "text/html": [
              "\n",
              "  <div id=\"df-dd72f043-be60-48e3-ad78-42cf785490d8\">\n",
              "    <div class=\"colab-df-container\">\n",
              "      <div>\n",
              "<style scoped>\n",
              "    .dataframe tbody tr th:only-of-type {\n",
              "        vertical-align: middle;\n",
              "    }\n",
              "\n",
              "    .dataframe tbody tr th {\n",
              "        vertical-align: top;\n",
              "    }\n",
              "\n",
              "    .dataframe thead th {\n",
              "        text-align: right;\n",
              "    }\n",
              "</style>\n",
              "<table border=\"1\" class=\"dataframe\">\n",
              "  <thead>\n",
              "    <tr style=\"text-align: right;\">\n",
              "      <th></th>\n",
              "      <th>Block_Num</th>\n",
              "      <th>NEWS</th>\n",
              "      <th>Street_Name</th>\n",
              "    </tr>\n",
              "  </thead>\n",
              "  <tbody>\n",
              "    <tr>\n",
              "      <th>0</th>\n",
              "      <td>018XX</td>\n",
              "      <td>N</td>\n",
              "      <td>WINNEBAGO AVE</td>\n",
              "    </tr>\n",
              "    <tr>\n",
              "      <th>1</th>\n",
              "      <td>091XX</td>\n",
              "      <td>S</td>\n",
              "      <td>DREXEL AVE</td>\n",
              "    </tr>\n",
              "    <tr>\n",
              "      <th>2</th>\n",
              "      <td>044XX</td>\n",
              "      <td>S</td>\n",
              "      <td>LAVERGNE AVE</td>\n",
              "    </tr>\n",
              "    <tr>\n",
              "      <th>3</th>\n",
              "      <td>032XX</td>\n",
              "      <td>N</td>\n",
              "      <td>LINCOLN AVE</td>\n",
              "    </tr>\n",
              "    <tr>\n",
              "      <th>4</th>\n",
              "      <td>072XX</td>\n",
              "      <td>S</td>\n",
              "      <td>WHIPPLE ST</td>\n",
              "    </tr>\n",
              "    <tr>\n",
              "      <th>5</th>\n",
              "      <td>072XX</td>\n",
              "      <td>S</td>\n",
              "      <td>UNIVERSITY AVE</td>\n",
              "    </tr>\n",
              "    <tr>\n",
              "      <th>6</th>\n",
              "      <td>032XX</td>\n",
              "      <td>N</td>\n",
              "      <td>SHEFFIELD AVE</td>\n",
              "    </tr>\n",
              "    <tr>\n",
              "      <th>7</th>\n",
              "      <td>022XX</td>\n",
              "      <td>N</td>\n",
              "      <td>LONG AVE</td>\n",
              "    </tr>\n",
              "    <tr>\n",
              "      <th>8</th>\n",
              "      <td>022XX</td>\n",
              "      <td>W</td>\n",
              "      <td>111TH ST</td>\n",
              "    </tr>\n",
              "    <tr>\n",
              "      <th>9</th>\n",
              "      <td>020XX</td>\n",
              "      <td>N</td>\n",
              "      <td>LOCKWOOD AVE</td>\n",
              "    </tr>\n",
              "  </tbody>\n",
              "</table>\n",
              "</div>\n",
              "      <button class=\"colab-df-convert\" onclick=\"convertToInteractive('df-dd72f043-be60-48e3-ad78-42cf785490d8')\"\n",
              "              title=\"Convert this dataframe to an interactive table.\"\n",
              "              style=\"display:none;\">\n",
              "        \n",
              "  <svg xmlns=\"http://www.w3.org/2000/svg\" height=\"24px\"viewBox=\"0 0 24 24\"\n",
              "       width=\"24px\">\n",
              "    <path d=\"M0 0h24v24H0V0z\" fill=\"none\"/>\n",
              "    <path d=\"M18.56 5.44l.94 2.06.94-2.06 2.06-.94-2.06-.94-.94-2.06-.94 2.06-2.06.94zm-11 1L8.5 8.5l.94-2.06 2.06-.94-2.06-.94L8.5 2.5l-.94 2.06-2.06.94zm10 10l.94 2.06.94-2.06 2.06-.94-2.06-.94-.94-2.06-.94 2.06-2.06.94z\"/><path d=\"M17.41 7.96l-1.37-1.37c-.4-.4-.92-.59-1.43-.59-.52 0-1.04.2-1.43.59L10.3 9.45l-7.72 7.72c-.78.78-.78 2.05 0 2.83L4 21.41c.39.39.9.59 1.41.59.51 0 1.02-.2 1.41-.59l7.78-7.78 2.81-2.81c.8-.78.8-2.07 0-2.86zM5.41 20L4 18.59l7.72-7.72 1.47 1.35L5.41 20z\"/>\n",
              "  </svg>\n",
              "      </button>\n",
              "      \n",
              "  <style>\n",
              "    .colab-df-container {\n",
              "      display:flex;\n",
              "      flex-wrap:wrap;\n",
              "      gap: 12px;\n",
              "    }\n",
              "\n",
              "    .colab-df-convert {\n",
              "      background-color: #E8F0FE;\n",
              "      border: none;\n",
              "      border-radius: 50%;\n",
              "      cursor: pointer;\n",
              "      display: none;\n",
              "      fill: #1967D2;\n",
              "      height: 32px;\n",
              "      padding: 0 0 0 0;\n",
              "      width: 32px;\n",
              "    }\n",
              "\n",
              "    .colab-df-convert:hover {\n",
              "      background-color: #E2EBFA;\n",
              "      box-shadow: 0px 1px 2px rgba(60, 64, 67, 0.3), 0px 1px 3px 1px rgba(60, 64, 67, 0.15);\n",
              "      fill: #174EA6;\n",
              "    }\n",
              "\n",
              "    [theme=dark] .colab-df-convert {\n",
              "      background-color: #3B4455;\n",
              "      fill: #D2E3FC;\n",
              "    }\n",
              "\n",
              "    [theme=dark] .colab-df-convert:hover {\n",
              "      background-color: #434B5C;\n",
              "      box-shadow: 0px 1px 3px 1px rgba(0, 0, 0, 0.15);\n",
              "      filter: drop-shadow(0px 1px 2px rgba(0, 0, 0, 0.3));\n",
              "      fill: #FFFFFF;\n",
              "    }\n",
              "  </style>\n",
              "\n",
              "      <script>\n",
              "        const buttonEl =\n",
              "          document.querySelector('#df-dd72f043-be60-48e3-ad78-42cf785490d8 button.colab-df-convert');\n",
              "        buttonEl.style.display =\n",
              "          google.colab.kernel.accessAllowed ? 'block' : 'none';\n",
              "\n",
              "        async function convertToInteractive(key) {\n",
              "          const element = document.querySelector('#df-dd72f043-be60-48e3-ad78-42cf785490d8');\n",
              "          const dataTable =\n",
              "            await google.colab.kernel.invokeFunction('convertToInteractive',\n",
              "                                                     [key], {});\n",
              "          if (!dataTable) return;\n",
              "\n",
              "          const docLinkHtml = 'Like what you see? Visit the ' +\n",
              "            '<a target=\"_blank\" href=https://colab.research.google.com/notebooks/data_table.ipynb>data table notebook</a>'\n",
              "            + ' to learn more about interactive tables.';\n",
              "          element.innerHTML = '';\n",
              "          dataTable['output_type'] = 'display_data';\n",
              "          await google.colab.output.renderOutput(dataTable, element);\n",
              "          const docLink = document.createElement('div');\n",
              "          docLink.innerHTML = docLinkHtml;\n",
              "          element.appendChild(docLink);\n",
              "        }\n",
              "      </script>\n",
              "    </div>\n",
              "  </div>\n",
              "  "
            ]
          },
          "metadata": {},
          "execution_count": 10
        }
      ]
    },
    {
      "cell_type": "code",
      "metadata": {
        "id": "LyoB3zDnwpDQ",
        "colab": {
          "base_uri": "https://localhost:8080/",
          "height": 594
        },
        "outputId": "e854f726-ce25-489d-f83a-e7efde44b366"
      },
      "source": [
        "#joining split columns from block and orignal file using concatenate \n",
        "df = pd.concat([df, bs], axis=1)\n",
        "df.head(5)"
      ],
      "execution_count": 11,
      "outputs": [
        {
          "output_type": "execute_result",
          "data": {
            "text/plain": [
              "   Unnamed: 0        ID Case Number           Date                  Block  \\\n",
              "0           0  12016034    JD193556  1/1/2020 0:00  018XX N WINNEBAGO AVE   \n",
              "1           1  12220321    JD430436  1/1/2020 0:00     091XX S DREXEL AVE   \n",
              "2           2  12013828    JD191019  1/1/2020 0:00   044XX S LAVERGNE AVE   \n",
              "3           3  12019692    JD197444  1/1/2020 0:00    032XX N LINCOLN AVE   \n",
              "4           4  12036792    JD216459  1/1/2020 0:00     072XX S WHIPPLE ST   \n",
              "\n",
              "   IUCR                Primary Type  \\\n",
              "0  1153          DECEPTIVE PRACTICE   \n",
              "1  1752  OFFENSE INVOLVING CHILDREN   \n",
              "2   281     CRIMINAL SEXUAL ASSAULT   \n",
              "3  1153          DECEPTIVE PRACTICE   \n",
              "4  1154          DECEPTIVE PRACTICE   \n",
              "\n",
              "                                         Description Location Description  \\\n",
              "0                FINANCIAL IDENTITY THEFT OVER $ 300            APARTMENT   \n",
              "1  AGGRAVATED CRIMINAL SEXUAL ABUSE BY FAMILY MEMBER            RESIDENCE   \n",
              "2                                     NON-AGGRAVATED            APARTMENT   \n",
              "3                FINANCIAL IDENTITY THEFT OVER $ 300            APARTMENT   \n",
              "4            FINANCIAL IDENTITY THEFT $300 AND UNDER            RESIDENCE   \n",
              "\n",
              "  Arrest  ...   Latitude  Longitude                       Location  year  \\\n",
              "0  False  ...  41.915306 -87.686639  (41.915306069, -87.686639247)  2020   \n",
              "1  False  ...  41.728192 -87.600985  (41.728192429, -87.600985433)  2020   \n",
              "2  False  ...  41.812274 -87.748177   (41.81227369, -87.748176594)  2020   \n",
              "3  False  ...  41.940222 -87.669039  (41.940221932, -87.669039008)  2020   \n",
              "4  False  ...  41.762067 -87.699077  (41.762066981, -87.699077348)  2020   \n",
              "\n",
              "   month day      time  Block_Num  NEWS    Street_Name  \n",
              "0      1   1  00:00:00      018XX     N  WINNEBAGO AVE  \n",
              "1      1   1  00:00:00      091XX     S     DREXEL AVE  \n",
              "2      1   1  00:00:00      044XX     S   LAVERGNE AVE  \n",
              "3      1   1  00:00:00      032XX     N    LINCOLN AVE  \n",
              "4      1   1  00:00:00      072XX     S     WHIPPLE ST  \n",
              "\n",
              "[5 rows x 30 columns]"
            ],
            "text/html": [
              "\n",
              "  <div id=\"df-bbb08229-77aa-4dec-8a4c-152fadfcedc4\">\n",
              "    <div class=\"colab-df-container\">\n",
              "      <div>\n",
              "<style scoped>\n",
              "    .dataframe tbody tr th:only-of-type {\n",
              "        vertical-align: middle;\n",
              "    }\n",
              "\n",
              "    .dataframe tbody tr th {\n",
              "        vertical-align: top;\n",
              "    }\n",
              "\n",
              "    .dataframe thead th {\n",
              "        text-align: right;\n",
              "    }\n",
              "</style>\n",
              "<table border=\"1\" class=\"dataframe\">\n",
              "  <thead>\n",
              "    <tr style=\"text-align: right;\">\n",
              "      <th></th>\n",
              "      <th>Unnamed: 0</th>\n",
              "      <th>ID</th>\n",
              "      <th>Case Number</th>\n",
              "      <th>Date</th>\n",
              "      <th>Block</th>\n",
              "      <th>IUCR</th>\n",
              "      <th>Primary Type</th>\n",
              "      <th>Description</th>\n",
              "      <th>Location Description</th>\n",
              "      <th>Arrest</th>\n",
              "      <th>...</th>\n",
              "      <th>Latitude</th>\n",
              "      <th>Longitude</th>\n",
              "      <th>Location</th>\n",
              "      <th>year</th>\n",
              "      <th>month</th>\n",
              "      <th>day</th>\n",
              "      <th>time</th>\n",
              "      <th>Block_Num</th>\n",
              "      <th>NEWS</th>\n",
              "      <th>Street_Name</th>\n",
              "    </tr>\n",
              "  </thead>\n",
              "  <tbody>\n",
              "    <tr>\n",
              "      <th>0</th>\n",
              "      <td>0</td>\n",
              "      <td>12016034</td>\n",
              "      <td>JD193556</td>\n",
              "      <td>1/1/2020 0:00</td>\n",
              "      <td>018XX N WINNEBAGO AVE</td>\n",
              "      <td>1153</td>\n",
              "      <td>DECEPTIVE PRACTICE</td>\n",
              "      <td>FINANCIAL IDENTITY THEFT OVER $ 300</td>\n",
              "      <td>APARTMENT</td>\n",
              "      <td>False</td>\n",
              "      <td>...</td>\n",
              "      <td>41.915306</td>\n",
              "      <td>-87.686639</td>\n",
              "      <td>(41.915306069, -87.686639247)</td>\n",
              "      <td>2020</td>\n",
              "      <td>1</td>\n",
              "      <td>1</td>\n",
              "      <td>00:00:00</td>\n",
              "      <td>018XX</td>\n",
              "      <td>N</td>\n",
              "      <td>WINNEBAGO AVE</td>\n",
              "    </tr>\n",
              "    <tr>\n",
              "      <th>1</th>\n",
              "      <td>1</td>\n",
              "      <td>12220321</td>\n",
              "      <td>JD430436</td>\n",
              "      <td>1/1/2020 0:00</td>\n",
              "      <td>091XX S DREXEL AVE</td>\n",
              "      <td>1752</td>\n",
              "      <td>OFFENSE INVOLVING CHILDREN</td>\n",
              "      <td>AGGRAVATED CRIMINAL SEXUAL ABUSE BY FAMILY MEMBER</td>\n",
              "      <td>RESIDENCE</td>\n",
              "      <td>False</td>\n",
              "      <td>...</td>\n",
              "      <td>41.728192</td>\n",
              "      <td>-87.600985</td>\n",
              "      <td>(41.728192429, -87.600985433)</td>\n",
              "      <td>2020</td>\n",
              "      <td>1</td>\n",
              "      <td>1</td>\n",
              "      <td>00:00:00</td>\n",
              "      <td>091XX</td>\n",
              "      <td>S</td>\n",
              "      <td>DREXEL AVE</td>\n",
              "    </tr>\n",
              "    <tr>\n",
              "      <th>2</th>\n",
              "      <td>2</td>\n",
              "      <td>12013828</td>\n",
              "      <td>JD191019</td>\n",
              "      <td>1/1/2020 0:00</td>\n",
              "      <td>044XX S LAVERGNE AVE</td>\n",
              "      <td>281</td>\n",
              "      <td>CRIMINAL SEXUAL ASSAULT</td>\n",
              "      <td>NON-AGGRAVATED</td>\n",
              "      <td>APARTMENT</td>\n",
              "      <td>False</td>\n",
              "      <td>...</td>\n",
              "      <td>41.812274</td>\n",
              "      <td>-87.748177</td>\n",
              "      <td>(41.81227369, -87.748176594)</td>\n",
              "      <td>2020</td>\n",
              "      <td>1</td>\n",
              "      <td>1</td>\n",
              "      <td>00:00:00</td>\n",
              "      <td>044XX</td>\n",
              "      <td>S</td>\n",
              "      <td>LAVERGNE AVE</td>\n",
              "    </tr>\n",
              "    <tr>\n",
              "      <th>3</th>\n",
              "      <td>3</td>\n",
              "      <td>12019692</td>\n",
              "      <td>JD197444</td>\n",
              "      <td>1/1/2020 0:00</td>\n",
              "      <td>032XX N LINCOLN AVE</td>\n",
              "      <td>1153</td>\n",
              "      <td>DECEPTIVE PRACTICE</td>\n",
              "      <td>FINANCIAL IDENTITY THEFT OVER $ 300</td>\n",
              "      <td>APARTMENT</td>\n",
              "      <td>False</td>\n",
              "      <td>...</td>\n",
              "      <td>41.940222</td>\n",
              "      <td>-87.669039</td>\n",
              "      <td>(41.940221932, -87.669039008)</td>\n",
              "      <td>2020</td>\n",
              "      <td>1</td>\n",
              "      <td>1</td>\n",
              "      <td>00:00:00</td>\n",
              "      <td>032XX</td>\n",
              "      <td>N</td>\n",
              "      <td>LINCOLN AVE</td>\n",
              "    </tr>\n",
              "    <tr>\n",
              "      <th>4</th>\n",
              "      <td>4</td>\n",
              "      <td>12036792</td>\n",
              "      <td>JD216459</td>\n",
              "      <td>1/1/2020 0:00</td>\n",
              "      <td>072XX S WHIPPLE ST</td>\n",
              "      <td>1154</td>\n",
              "      <td>DECEPTIVE PRACTICE</td>\n",
              "      <td>FINANCIAL IDENTITY THEFT $300 AND UNDER</td>\n",
              "      <td>RESIDENCE</td>\n",
              "      <td>False</td>\n",
              "      <td>...</td>\n",
              "      <td>41.762067</td>\n",
              "      <td>-87.699077</td>\n",
              "      <td>(41.762066981, -87.699077348)</td>\n",
              "      <td>2020</td>\n",
              "      <td>1</td>\n",
              "      <td>1</td>\n",
              "      <td>00:00:00</td>\n",
              "      <td>072XX</td>\n",
              "      <td>S</td>\n",
              "      <td>WHIPPLE ST</td>\n",
              "    </tr>\n",
              "  </tbody>\n",
              "</table>\n",
              "<p>5 rows × 30 columns</p>\n",
              "</div>\n",
              "      <button class=\"colab-df-convert\" onclick=\"convertToInteractive('df-bbb08229-77aa-4dec-8a4c-152fadfcedc4')\"\n",
              "              title=\"Convert this dataframe to an interactive table.\"\n",
              "              style=\"display:none;\">\n",
              "        \n",
              "  <svg xmlns=\"http://www.w3.org/2000/svg\" height=\"24px\"viewBox=\"0 0 24 24\"\n",
              "       width=\"24px\">\n",
              "    <path d=\"M0 0h24v24H0V0z\" fill=\"none\"/>\n",
              "    <path d=\"M18.56 5.44l.94 2.06.94-2.06 2.06-.94-2.06-.94-.94-2.06-.94 2.06-2.06.94zm-11 1L8.5 8.5l.94-2.06 2.06-.94-2.06-.94L8.5 2.5l-.94 2.06-2.06.94zm10 10l.94 2.06.94-2.06 2.06-.94-2.06-.94-.94-2.06-.94 2.06-2.06.94z\"/><path d=\"M17.41 7.96l-1.37-1.37c-.4-.4-.92-.59-1.43-.59-.52 0-1.04.2-1.43.59L10.3 9.45l-7.72 7.72c-.78.78-.78 2.05 0 2.83L4 21.41c.39.39.9.59 1.41.59.51 0 1.02-.2 1.41-.59l7.78-7.78 2.81-2.81c.8-.78.8-2.07 0-2.86zM5.41 20L4 18.59l7.72-7.72 1.47 1.35L5.41 20z\"/>\n",
              "  </svg>\n",
              "      </button>\n",
              "      \n",
              "  <style>\n",
              "    .colab-df-container {\n",
              "      display:flex;\n",
              "      flex-wrap:wrap;\n",
              "      gap: 12px;\n",
              "    }\n",
              "\n",
              "    .colab-df-convert {\n",
              "      background-color: #E8F0FE;\n",
              "      border: none;\n",
              "      border-radius: 50%;\n",
              "      cursor: pointer;\n",
              "      display: none;\n",
              "      fill: #1967D2;\n",
              "      height: 32px;\n",
              "      padding: 0 0 0 0;\n",
              "      width: 32px;\n",
              "    }\n",
              "\n",
              "    .colab-df-convert:hover {\n",
              "      background-color: #E2EBFA;\n",
              "      box-shadow: 0px 1px 2px rgba(60, 64, 67, 0.3), 0px 1px 3px 1px rgba(60, 64, 67, 0.15);\n",
              "      fill: #174EA6;\n",
              "    }\n",
              "\n",
              "    [theme=dark] .colab-df-convert {\n",
              "      background-color: #3B4455;\n",
              "      fill: #D2E3FC;\n",
              "    }\n",
              "\n",
              "    [theme=dark] .colab-df-convert:hover {\n",
              "      background-color: #434B5C;\n",
              "      box-shadow: 0px 1px 3px 1px rgba(0, 0, 0, 0.15);\n",
              "      filter: drop-shadow(0px 1px 2px rgba(0, 0, 0, 0.3));\n",
              "      fill: #FFFFFF;\n",
              "    }\n",
              "  </style>\n",
              "\n",
              "      <script>\n",
              "        const buttonEl =\n",
              "          document.querySelector('#df-bbb08229-77aa-4dec-8a4c-152fadfcedc4 button.colab-df-convert');\n",
              "        buttonEl.style.display =\n",
              "          google.colab.kernel.accessAllowed ? 'block' : 'none';\n",
              "\n",
              "        async function convertToInteractive(key) {\n",
              "          const element = document.querySelector('#df-bbb08229-77aa-4dec-8a4c-152fadfcedc4');\n",
              "          const dataTable =\n",
              "            await google.colab.kernel.invokeFunction('convertToInteractive',\n",
              "                                                     [key], {});\n",
              "          if (!dataTable) return;\n",
              "\n",
              "          const docLinkHtml = 'Like what you see? Visit the ' +\n",
              "            '<a target=\"_blank\" href=https://colab.research.google.com/notebooks/data_table.ipynb>data table notebook</a>'\n",
              "            + ' to learn more about interactive tables.';\n",
              "          element.innerHTML = '';\n",
              "          dataTable['output_type'] = 'display_data';\n",
              "          await google.colab.output.renderOutput(dataTable, element);\n",
              "          const docLink = document.createElement('div');\n",
              "          docLink.innerHTML = docLinkHtml;\n",
              "          element.appendChild(docLink);\n",
              "        }\n",
              "      </script>\n",
              "    </div>\n",
              "  </div>\n",
              "  "
            ]
          },
          "metadata": {},
          "execution_count": 11
        }
      ]
    },
    {
      "cell_type": "code",
      "metadata": {
        "id": "gvUn37T7lNWS",
        "colab": {
          "base_uri": "https://localhost:8080/",
          "height": 594
        },
        "outputId": "30079dc7-f758-4286-dd18-d4871203ac00"
      },
      "source": [
        "# Coding Arrest, Domestic and Primary Type to new columns containing recoded values for modeling purposes. \n",
        "df[\"Arrest_New\"]=df[\"Arrest\"].cat.codes\n",
        "df[\"Domestic_New\"]=df[\"Domestic\"].cat.codes\n",
        "df[\"Crime_Type\"] = df[\"Primary Type\"].cat.codes\n",
        "df.head()"
      ],
      "execution_count": 12,
      "outputs": [
        {
          "output_type": "execute_result",
          "data": {
            "text/plain": [
              "   Unnamed: 0        ID Case Number           Date                  Block  \\\n",
              "0           0  12016034    JD193556  1/1/2020 0:00  018XX N WINNEBAGO AVE   \n",
              "1           1  12220321    JD430436  1/1/2020 0:00     091XX S DREXEL AVE   \n",
              "2           2  12013828    JD191019  1/1/2020 0:00   044XX S LAVERGNE AVE   \n",
              "3           3  12019692    JD197444  1/1/2020 0:00    032XX N LINCOLN AVE   \n",
              "4           4  12036792    JD216459  1/1/2020 0:00     072XX S WHIPPLE ST   \n",
              "\n",
              "   IUCR                Primary Type  \\\n",
              "0  1153          DECEPTIVE PRACTICE   \n",
              "1  1752  OFFENSE INVOLVING CHILDREN   \n",
              "2   281     CRIMINAL SEXUAL ASSAULT   \n",
              "3  1153          DECEPTIVE PRACTICE   \n",
              "4  1154          DECEPTIVE PRACTICE   \n",
              "\n",
              "                                         Description Location Description  \\\n",
              "0                FINANCIAL IDENTITY THEFT OVER $ 300            APARTMENT   \n",
              "1  AGGRAVATED CRIMINAL SEXUAL ABUSE BY FAMILY MEMBER            RESIDENCE   \n",
              "2                                     NON-AGGRAVATED            APARTMENT   \n",
              "3                FINANCIAL IDENTITY THEFT OVER $ 300            APARTMENT   \n",
              "4            FINANCIAL IDENTITY THEFT $300 AND UNDER            RESIDENCE   \n",
              "\n",
              "  Arrest  ...  year  month  day      time  Block_Num NEWS    Street_Name  \\\n",
              "0  False  ...  2020      1    1  00:00:00      018XX    N  WINNEBAGO AVE   \n",
              "1  False  ...  2020      1    1  00:00:00      091XX    S     DREXEL AVE   \n",
              "2  False  ...  2020      1    1  00:00:00      044XX    S   LAVERGNE AVE   \n",
              "3  False  ...  2020      1    1  00:00:00      032XX    N    LINCOLN AVE   \n",
              "4  False  ...  2020      1    1  00:00:00      072XX    S     WHIPPLE ST   \n",
              "\n",
              "   Arrest_New  Domestic_New Crime_Type  \n",
              "0           0             0          9  \n",
              "1           0             1         19  \n",
              "2           0             0          7  \n",
              "3           0             0          9  \n",
              "4           0             0          9  \n",
              "\n",
              "[5 rows x 33 columns]"
            ],
            "text/html": [
              "\n",
              "  <div id=\"df-ec399381-dd6a-44fc-9a3b-d82507dd9e2b\">\n",
              "    <div class=\"colab-df-container\">\n",
              "      <div>\n",
              "<style scoped>\n",
              "    .dataframe tbody tr th:only-of-type {\n",
              "        vertical-align: middle;\n",
              "    }\n",
              "\n",
              "    .dataframe tbody tr th {\n",
              "        vertical-align: top;\n",
              "    }\n",
              "\n",
              "    .dataframe thead th {\n",
              "        text-align: right;\n",
              "    }\n",
              "</style>\n",
              "<table border=\"1\" class=\"dataframe\">\n",
              "  <thead>\n",
              "    <tr style=\"text-align: right;\">\n",
              "      <th></th>\n",
              "      <th>Unnamed: 0</th>\n",
              "      <th>ID</th>\n",
              "      <th>Case Number</th>\n",
              "      <th>Date</th>\n",
              "      <th>Block</th>\n",
              "      <th>IUCR</th>\n",
              "      <th>Primary Type</th>\n",
              "      <th>Description</th>\n",
              "      <th>Location Description</th>\n",
              "      <th>Arrest</th>\n",
              "      <th>...</th>\n",
              "      <th>year</th>\n",
              "      <th>month</th>\n",
              "      <th>day</th>\n",
              "      <th>time</th>\n",
              "      <th>Block_Num</th>\n",
              "      <th>NEWS</th>\n",
              "      <th>Street_Name</th>\n",
              "      <th>Arrest_New</th>\n",
              "      <th>Domestic_New</th>\n",
              "      <th>Crime_Type</th>\n",
              "    </tr>\n",
              "  </thead>\n",
              "  <tbody>\n",
              "    <tr>\n",
              "      <th>0</th>\n",
              "      <td>0</td>\n",
              "      <td>12016034</td>\n",
              "      <td>JD193556</td>\n",
              "      <td>1/1/2020 0:00</td>\n",
              "      <td>018XX N WINNEBAGO AVE</td>\n",
              "      <td>1153</td>\n",
              "      <td>DECEPTIVE PRACTICE</td>\n",
              "      <td>FINANCIAL IDENTITY THEFT OVER $ 300</td>\n",
              "      <td>APARTMENT</td>\n",
              "      <td>False</td>\n",
              "      <td>...</td>\n",
              "      <td>2020</td>\n",
              "      <td>1</td>\n",
              "      <td>1</td>\n",
              "      <td>00:00:00</td>\n",
              "      <td>018XX</td>\n",
              "      <td>N</td>\n",
              "      <td>WINNEBAGO AVE</td>\n",
              "      <td>0</td>\n",
              "      <td>0</td>\n",
              "      <td>9</td>\n",
              "    </tr>\n",
              "    <tr>\n",
              "      <th>1</th>\n",
              "      <td>1</td>\n",
              "      <td>12220321</td>\n",
              "      <td>JD430436</td>\n",
              "      <td>1/1/2020 0:00</td>\n",
              "      <td>091XX S DREXEL AVE</td>\n",
              "      <td>1752</td>\n",
              "      <td>OFFENSE INVOLVING CHILDREN</td>\n",
              "      <td>AGGRAVATED CRIMINAL SEXUAL ABUSE BY FAMILY MEMBER</td>\n",
              "      <td>RESIDENCE</td>\n",
              "      <td>False</td>\n",
              "      <td>...</td>\n",
              "      <td>2020</td>\n",
              "      <td>1</td>\n",
              "      <td>1</td>\n",
              "      <td>00:00:00</td>\n",
              "      <td>091XX</td>\n",
              "      <td>S</td>\n",
              "      <td>DREXEL AVE</td>\n",
              "      <td>0</td>\n",
              "      <td>1</td>\n",
              "      <td>19</td>\n",
              "    </tr>\n",
              "    <tr>\n",
              "      <th>2</th>\n",
              "      <td>2</td>\n",
              "      <td>12013828</td>\n",
              "      <td>JD191019</td>\n",
              "      <td>1/1/2020 0:00</td>\n",
              "      <td>044XX S LAVERGNE AVE</td>\n",
              "      <td>281</td>\n",
              "      <td>CRIMINAL SEXUAL ASSAULT</td>\n",
              "      <td>NON-AGGRAVATED</td>\n",
              "      <td>APARTMENT</td>\n",
              "      <td>False</td>\n",
              "      <td>...</td>\n",
              "      <td>2020</td>\n",
              "      <td>1</td>\n",
              "      <td>1</td>\n",
              "      <td>00:00:00</td>\n",
              "      <td>044XX</td>\n",
              "      <td>S</td>\n",
              "      <td>LAVERGNE AVE</td>\n",
              "      <td>0</td>\n",
              "      <td>0</td>\n",
              "      <td>7</td>\n",
              "    </tr>\n",
              "    <tr>\n",
              "      <th>3</th>\n",
              "      <td>3</td>\n",
              "      <td>12019692</td>\n",
              "      <td>JD197444</td>\n",
              "      <td>1/1/2020 0:00</td>\n",
              "      <td>032XX N LINCOLN AVE</td>\n",
              "      <td>1153</td>\n",
              "      <td>DECEPTIVE PRACTICE</td>\n",
              "      <td>FINANCIAL IDENTITY THEFT OVER $ 300</td>\n",
              "      <td>APARTMENT</td>\n",
              "      <td>False</td>\n",
              "      <td>...</td>\n",
              "      <td>2020</td>\n",
              "      <td>1</td>\n",
              "      <td>1</td>\n",
              "      <td>00:00:00</td>\n",
              "      <td>032XX</td>\n",
              "      <td>N</td>\n",
              "      <td>LINCOLN AVE</td>\n",
              "      <td>0</td>\n",
              "      <td>0</td>\n",
              "      <td>9</td>\n",
              "    </tr>\n",
              "    <tr>\n",
              "      <th>4</th>\n",
              "      <td>4</td>\n",
              "      <td>12036792</td>\n",
              "      <td>JD216459</td>\n",
              "      <td>1/1/2020 0:00</td>\n",
              "      <td>072XX S WHIPPLE ST</td>\n",
              "      <td>1154</td>\n",
              "      <td>DECEPTIVE PRACTICE</td>\n",
              "      <td>FINANCIAL IDENTITY THEFT $300 AND UNDER</td>\n",
              "      <td>RESIDENCE</td>\n",
              "      <td>False</td>\n",
              "      <td>...</td>\n",
              "      <td>2020</td>\n",
              "      <td>1</td>\n",
              "      <td>1</td>\n",
              "      <td>00:00:00</td>\n",
              "      <td>072XX</td>\n",
              "      <td>S</td>\n",
              "      <td>WHIPPLE ST</td>\n",
              "      <td>0</td>\n",
              "      <td>0</td>\n",
              "      <td>9</td>\n",
              "    </tr>\n",
              "  </tbody>\n",
              "</table>\n",
              "<p>5 rows × 33 columns</p>\n",
              "</div>\n",
              "      <button class=\"colab-df-convert\" onclick=\"convertToInteractive('df-ec399381-dd6a-44fc-9a3b-d82507dd9e2b')\"\n",
              "              title=\"Convert this dataframe to an interactive table.\"\n",
              "              style=\"display:none;\">\n",
              "        \n",
              "  <svg xmlns=\"http://www.w3.org/2000/svg\" height=\"24px\"viewBox=\"0 0 24 24\"\n",
              "       width=\"24px\">\n",
              "    <path d=\"M0 0h24v24H0V0z\" fill=\"none\"/>\n",
              "    <path d=\"M18.56 5.44l.94 2.06.94-2.06 2.06-.94-2.06-.94-.94-2.06-.94 2.06-2.06.94zm-11 1L8.5 8.5l.94-2.06 2.06-.94-2.06-.94L8.5 2.5l-.94 2.06-2.06.94zm10 10l.94 2.06.94-2.06 2.06-.94-2.06-.94-.94-2.06-.94 2.06-2.06.94z\"/><path d=\"M17.41 7.96l-1.37-1.37c-.4-.4-.92-.59-1.43-.59-.52 0-1.04.2-1.43.59L10.3 9.45l-7.72 7.72c-.78.78-.78 2.05 0 2.83L4 21.41c.39.39.9.59 1.41.59.51 0 1.02-.2 1.41-.59l7.78-7.78 2.81-2.81c.8-.78.8-2.07 0-2.86zM5.41 20L4 18.59l7.72-7.72 1.47 1.35L5.41 20z\"/>\n",
              "  </svg>\n",
              "      </button>\n",
              "      \n",
              "  <style>\n",
              "    .colab-df-container {\n",
              "      display:flex;\n",
              "      flex-wrap:wrap;\n",
              "      gap: 12px;\n",
              "    }\n",
              "\n",
              "    .colab-df-convert {\n",
              "      background-color: #E8F0FE;\n",
              "      border: none;\n",
              "      border-radius: 50%;\n",
              "      cursor: pointer;\n",
              "      display: none;\n",
              "      fill: #1967D2;\n",
              "      height: 32px;\n",
              "      padding: 0 0 0 0;\n",
              "      width: 32px;\n",
              "    }\n",
              "\n",
              "    .colab-df-convert:hover {\n",
              "      background-color: #E2EBFA;\n",
              "      box-shadow: 0px 1px 2px rgba(60, 64, 67, 0.3), 0px 1px 3px 1px rgba(60, 64, 67, 0.15);\n",
              "      fill: #174EA6;\n",
              "    }\n",
              "\n",
              "    [theme=dark] .colab-df-convert {\n",
              "      background-color: #3B4455;\n",
              "      fill: #D2E3FC;\n",
              "    }\n",
              "\n",
              "    [theme=dark] .colab-df-convert:hover {\n",
              "      background-color: #434B5C;\n",
              "      box-shadow: 0px 1px 3px 1px rgba(0, 0, 0, 0.15);\n",
              "      filter: drop-shadow(0px 1px 2px rgba(0, 0, 0, 0.3));\n",
              "      fill: #FFFFFF;\n",
              "    }\n",
              "  </style>\n",
              "\n",
              "      <script>\n",
              "        const buttonEl =\n",
              "          document.querySelector('#df-ec399381-dd6a-44fc-9a3b-d82507dd9e2b button.colab-df-convert');\n",
              "        buttonEl.style.display =\n",
              "          google.colab.kernel.accessAllowed ? 'block' : 'none';\n",
              "\n",
              "        async function convertToInteractive(key) {\n",
              "          const element = document.querySelector('#df-ec399381-dd6a-44fc-9a3b-d82507dd9e2b');\n",
              "          const dataTable =\n",
              "            await google.colab.kernel.invokeFunction('convertToInteractive',\n",
              "                                                     [key], {});\n",
              "          if (!dataTable) return;\n",
              "\n",
              "          const docLinkHtml = 'Like what you see? Visit the ' +\n",
              "            '<a target=\"_blank\" href=https://colab.research.google.com/notebooks/data_table.ipynb>data table notebook</a>'\n",
              "            + ' to learn more about interactive tables.';\n",
              "          element.innerHTML = '';\n",
              "          dataTable['output_type'] = 'display_data';\n",
              "          await google.colab.output.renderOutput(dataTable, element);\n",
              "          const docLink = document.createElement('div');\n",
              "          docLink.innerHTML = docLinkHtml;\n",
              "          element.appendChild(docLink);\n",
              "        }\n",
              "      </script>\n",
              "    </div>\n",
              "  </div>\n",
              "  "
            ]
          },
          "metadata": {},
          "execution_count": 12
        }
      ]
    },
    {
      "cell_type": "markdown",
      "metadata": {
        "id": "6v9YYAGosi1B"
      },
      "source": [
        "## **CHECKING FOR MISSING VALUES**"
      ]
    },
    {
      "cell_type": "code",
      "metadata": {
        "id": "b11jP_CmEaL4",
        "colab": {
          "base_uri": "https://localhost:8080/"
        },
        "outputId": "4601ffdd-1de2-446a-f478-b347b06a4e03"
      },
      "source": [
        "#check for missing values in each column\n",
        "df.isnull().sum()"
      ],
      "execution_count": 13,
      "outputs": [
        {
          "output_type": "execute_result",
          "data": {
            "text/plain": [
              "Unnamed: 0                0\n",
              "ID                        0\n",
              "Case Number               0\n",
              "Date                      0\n",
              "Block                     0\n",
              "IUCR                      0\n",
              "Primary Type              0\n",
              "Description               0\n",
              "Location Description    117\n",
              "Arrest                    0\n",
              "Domestic                  0\n",
              "Beat                      0\n",
              "District                  0\n",
              "Ward                      0\n",
              "Community Area            0\n",
              "FBI Code                  0\n",
              "X Coordinate            149\n",
              "Y Coordinate            149\n",
              "Year                      0\n",
              "Updated On                0\n",
              "Latitude                149\n",
              "Longitude               149\n",
              "Location                149\n",
              "year                      0\n",
              "month                     0\n",
              "day                       0\n",
              "time                      0\n",
              "Block_Num                 0\n",
              "NEWS                      0\n",
              "Street_Name               0\n",
              "Arrest_New                0\n",
              "Domestic_New              0\n",
              "Crime_Type                0\n",
              "dtype: int64"
            ]
          },
          "metadata": {},
          "execution_count": 13
        }
      ]
    },
    {
      "cell_type": "code",
      "metadata": {
        "id": "iSUAuCyBcNoF"
      },
      "source": [
        "#drop rows with missing values \n",
        "df_drop = df.dropna()"
      ],
      "execution_count": 14,
      "outputs": []
    },
    {
      "cell_type": "code",
      "metadata": {
        "id": "AjaRj1CLl7h4"
      },
      "source": [
        "#drop original columns of split/ recoded data to avoid redundancy.  \n",
        "df = df_drop.drop(['Unnamed: 0','Block_Num','NEWS','month','Year','year','Case Number', 'Date'], axis=1)"
      ],
      "execution_count": 15,
      "outputs": []
    },
    {
      "cell_type": "code",
      "metadata": {
        "id": "1cV6KYXA6X0B",
        "colab": {
          "base_uri": "https://localhost:8080/",
          "height": 973
        },
        "outputId": "a5f27099-f0c9-417b-ac60-3c9b175a8812"
      },
      "source": [
        "df"
      ],
      "execution_count": 16,
      "outputs": [
        {
          "output_type": "execute_result",
          "data": {
            "text/plain": [
              "             ID                   Block  IUCR  \\\n",
              "0      12016034   018XX N WINNEBAGO AVE  1153   \n",
              "1      12220321      091XX S DREXEL AVE  1752   \n",
              "2      12013828    044XX S LAVERGNE AVE   281   \n",
              "3      12019692     032XX N LINCOLN AVE  1153   \n",
              "4      12036792      072XX S WHIPPLE ST  1154   \n",
              "...         ...                     ...   ...   \n",
              "19796  11968231  040XX S SACRAMENTO AVE  1811   \n",
              "19797  11968265         012XX E 87TH ST  3730   \n",
              "19798  11968303  049XX W WELLINGTON AVE   496   \n",
              "19799  11968986      033XX N Halsted St   890   \n",
              "19800  11968238        098XX S AVENUE H   486   \n",
              "\n",
              "                           Primary Type  \\\n",
              "0                    DECEPTIVE PRACTICE   \n",
              "1            OFFENSE INVOLVING CHILDREN   \n",
              "2               CRIMINAL SEXUAL ASSAULT   \n",
              "3                    DECEPTIVE PRACTICE   \n",
              "4                    DECEPTIVE PRACTICE   \n",
              "...                                 ...   \n",
              "19796                         NARCOTICS   \n",
              "19797  INTERFERENCE WITH PUBLIC OFFICER   \n",
              "19798                           BATTERY   \n",
              "19799                             THEFT   \n",
              "19800                           BATTERY   \n",
              "\n",
              "                                             Description  \\\n",
              "0                    FINANCIAL IDENTITY THEFT OVER $ 300   \n",
              "1      AGGRAVATED CRIMINAL SEXUAL ABUSE BY FAMILY MEMBER   \n",
              "2                                         NON-AGGRAVATED   \n",
              "3                    FINANCIAL IDENTITY THEFT OVER $ 300   \n",
              "4                FINANCIAL IDENTITY THEFT $300 AND UNDER   \n",
              "...                                                  ...   \n",
              "19796                       POSS: CANNABIS 30GMS OR LESS   \n",
              "19797                                OBSTRUCTING JUSTICE   \n",
              "19798    AGGRAVATED DOMESTIC BATTERY: KNIFE/CUTTING INST   \n",
              "19799                                      FROM BUILDING   \n",
              "19800                            DOMESTIC BATTERY SIMPLE   \n",
              "\n",
              "         Location Description Arrest Domestic  Beat  District  ...  \\\n",
              "0                   APARTMENT  False    False  1434        14  ...   \n",
              "1                   RESIDENCE  False     True   413         4  ...   \n",
              "2                   APARTMENT  False    False   814         8  ...   \n",
              "3                   APARTMENT  False    False  1922        19  ...   \n",
              "4                   RESIDENCE  False    False   831         8  ...   \n",
              "...                       ...    ...      ...   ...       ...  ...   \n",
              "19796                  STREET   True    False   921         9  ...   \n",
              "19797                  STREET   True    False   412         4  ...   \n",
              "19798  VEHICLE NON-COMMERCIAL  False     True  2521        25  ...   \n",
              "19799           BAR OR TAVERN  False    False  1925        19  ...   \n",
              "19800               APARTMENT   True     True   432         4  ...   \n",
              "\n",
              "                   Updated On   Latitude  Longitude  \\\n",
              "0      03/26/2020 03:45:12 PM  41.915306 -87.686639   \n",
              "1      12/19/2020 03:45:59 PM  41.728192 -87.600985   \n",
              "2      03/28/2020 03:47:02 PM  41.812274 -87.748177   \n",
              "3              4/1/2020 15:50  41.940222 -87.669039   \n",
              "4      04/29/2020 03:53:17 PM  41.762067 -87.699077   \n",
              "...                       ...        ...        ...   \n",
              "19796          2/7/2020 15:52  41.820306 -87.699516   \n",
              "19797          2/7/2020 15:52  41.736810 -87.593325   \n",
              "19798          2/7/2020 15:52  41.935142 -87.749808   \n",
              "19799          2/7/2020 15:52  41.943056 -87.649363   \n",
              "19800          2/7/2020 15:52  41.717192 -87.532869   \n",
              "\n",
              "                            Location  day      time     Street_Name  \\\n",
              "0      (41.915306069, -87.686639247)    1  00:00:00   WINNEBAGO AVE   \n",
              "1      (41.728192429, -87.600985433)    1  00:00:00      DREXEL AVE   \n",
              "2       (41.81227369, -87.748176594)    1  00:00:00    LAVERGNE AVE   \n",
              "3      (41.940221932, -87.669039008)    1  00:00:00     LINCOLN AVE   \n",
              "4      (41.762066981, -87.699077348)    1  00:00:00      WHIPPLE ST   \n",
              "...                              ...  ...       ...             ...   \n",
              "19796  (41.820305963, -87.699515522)   31  23:48:00  SACRAMENTO AVE   \n",
              "19797   (41.736809882, -87.59332523)   31  23:49:00         87TH ST   \n",
              "19798  (41.935142198, -87.749807563)   31  23:50:00  WELLINGTON AVE   \n",
              "19799  (41.943056436, -87.649362967)   31  23:50:00      Halsted St   \n",
              "19800  (41.717191712, -87.532868868)   31  23:55:00        AVENUE H   \n",
              "\n",
              "       Arrest_New Domestic_New  Crime_Type  \n",
              "0               0            0           9  \n",
              "1               0            1          19  \n",
              "2               0            0           7  \n",
              "3               0            0           9  \n",
              "4               0            0           9  \n",
              "...           ...          ...         ...  \n",
              "19796           1            0          17  \n",
              "19797           1            0          12  \n",
              "19798           0            1           2  \n",
              "19799           0            0          27  \n",
              "19800           1            1           2  \n",
              "\n",
              "[19552 rows x 25 columns]"
            ],
            "text/html": [
              "\n",
              "  <div id=\"df-52cb037b-ed7c-4f2a-a732-e614e1c1cfeb\">\n",
              "    <div class=\"colab-df-container\">\n",
              "      <div>\n",
              "<style scoped>\n",
              "    .dataframe tbody tr th:only-of-type {\n",
              "        vertical-align: middle;\n",
              "    }\n",
              "\n",
              "    .dataframe tbody tr th {\n",
              "        vertical-align: top;\n",
              "    }\n",
              "\n",
              "    .dataframe thead th {\n",
              "        text-align: right;\n",
              "    }\n",
              "</style>\n",
              "<table border=\"1\" class=\"dataframe\">\n",
              "  <thead>\n",
              "    <tr style=\"text-align: right;\">\n",
              "      <th></th>\n",
              "      <th>ID</th>\n",
              "      <th>Block</th>\n",
              "      <th>IUCR</th>\n",
              "      <th>Primary Type</th>\n",
              "      <th>Description</th>\n",
              "      <th>Location Description</th>\n",
              "      <th>Arrest</th>\n",
              "      <th>Domestic</th>\n",
              "      <th>Beat</th>\n",
              "      <th>District</th>\n",
              "      <th>...</th>\n",
              "      <th>Updated On</th>\n",
              "      <th>Latitude</th>\n",
              "      <th>Longitude</th>\n",
              "      <th>Location</th>\n",
              "      <th>day</th>\n",
              "      <th>time</th>\n",
              "      <th>Street_Name</th>\n",
              "      <th>Arrest_New</th>\n",
              "      <th>Domestic_New</th>\n",
              "      <th>Crime_Type</th>\n",
              "    </tr>\n",
              "  </thead>\n",
              "  <tbody>\n",
              "    <tr>\n",
              "      <th>0</th>\n",
              "      <td>12016034</td>\n",
              "      <td>018XX N WINNEBAGO AVE</td>\n",
              "      <td>1153</td>\n",
              "      <td>DECEPTIVE PRACTICE</td>\n",
              "      <td>FINANCIAL IDENTITY THEFT OVER $ 300</td>\n",
              "      <td>APARTMENT</td>\n",
              "      <td>False</td>\n",
              "      <td>False</td>\n",
              "      <td>1434</td>\n",
              "      <td>14</td>\n",
              "      <td>...</td>\n",
              "      <td>03/26/2020 03:45:12 PM</td>\n",
              "      <td>41.915306</td>\n",
              "      <td>-87.686639</td>\n",
              "      <td>(41.915306069, -87.686639247)</td>\n",
              "      <td>1</td>\n",
              "      <td>00:00:00</td>\n",
              "      <td>WINNEBAGO AVE</td>\n",
              "      <td>0</td>\n",
              "      <td>0</td>\n",
              "      <td>9</td>\n",
              "    </tr>\n",
              "    <tr>\n",
              "      <th>1</th>\n",
              "      <td>12220321</td>\n",
              "      <td>091XX S DREXEL AVE</td>\n",
              "      <td>1752</td>\n",
              "      <td>OFFENSE INVOLVING CHILDREN</td>\n",
              "      <td>AGGRAVATED CRIMINAL SEXUAL ABUSE BY FAMILY MEMBER</td>\n",
              "      <td>RESIDENCE</td>\n",
              "      <td>False</td>\n",
              "      <td>True</td>\n",
              "      <td>413</td>\n",
              "      <td>4</td>\n",
              "      <td>...</td>\n",
              "      <td>12/19/2020 03:45:59 PM</td>\n",
              "      <td>41.728192</td>\n",
              "      <td>-87.600985</td>\n",
              "      <td>(41.728192429, -87.600985433)</td>\n",
              "      <td>1</td>\n",
              "      <td>00:00:00</td>\n",
              "      <td>DREXEL AVE</td>\n",
              "      <td>0</td>\n",
              "      <td>1</td>\n",
              "      <td>19</td>\n",
              "    </tr>\n",
              "    <tr>\n",
              "      <th>2</th>\n",
              "      <td>12013828</td>\n",
              "      <td>044XX S LAVERGNE AVE</td>\n",
              "      <td>281</td>\n",
              "      <td>CRIMINAL SEXUAL ASSAULT</td>\n",
              "      <td>NON-AGGRAVATED</td>\n",
              "      <td>APARTMENT</td>\n",
              "      <td>False</td>\n",
              "      <td>False</td>\n",
              "      <td>814</td>\n",
              "      <td>8</td>\n",
              "      <td>...</td>\n",
              "      <td>03/28/2020 03:47:02 PM</td>\n",
              "      <td>41.812274</td>\n",
              "      <td>-87.748177</td>\n",
              "      <td>(41.81227369, -87.748176594)</td>\n",
              "      <td>1</td>\n",
              "      <td>00:00:00</td>\n",
              "      <td>LAVERGNE AVE</td>\n",
              "      <td>0</td>\n",
              "      <td>0</td>\n",
              "      <td>7</td>\n",
              "    </tr>\n",
              "    <tr>\n",
              "      <th>3</th>\n",
              "      <td>12019692</td>\n",
              "      <td>032XX N LINCOLN AVE</td>\n",
              "      <td>1153</td>\n",
              "      <td>DECEPTIVE PRACTICE</td>\n",
              "      <td>FINANCIAL IDENTITY THEFT OVER $ 300</td>\n",
              "      <td>APARTMENT</td>\n",
              "      <td>False</td>\n",
              "      <td>False</td>\n",
              "      <td>1922</td>\n",
              "      <td>19</td>\n",
              "      <td>...</td>\n",
              "      <td>4/1/2020 15:50</td>\n",
              "      <td>41.940222</td>\n",
              "      <td>-87.669039</td>\n",
              "      <td>(41.940221932, -87.669039008)</td>\n",
              "      <td>1</td>\n",
              "      <td>00:00:00</td>\n",
              "      <td>LINCOLN AVE</td>\n",
              "      <td>0</td>\n",
              "      <td>0</td>\n",
              "      <td>9</td>\n",
              "    </tr>\n",
              "    <tr>\n",
              "      <th>4</th>\n",
              "      <td>12036792</td>\n",
              "      <td>072XX S WHIPPLE ST</td>\n",
              "      <td>1154</td>\n",
              "      <td>DECEPTIVE PRACTICE</td>\n",
              "      <td>FINANCIAL IDENTITY THEFT $300 AND UNDER</td>\n",
              "      <td>RESIDENCE</td>\n",
              "      <td>False</td>\n",
              "      <td>False</td>\n",
              "      <td>831</td>\n",
              "      <td>8</td>\n",
              "      <td>...</td>\n",
              "      <td>04/29/2020 03:53:17 PM</td>\n",
              "      <td>41.762067</td>\n",
              "      <td>-87.699077</td>\n",
              "      <td>(41.762066981, -87.699077348)</td>\n",
              "      <td>1</td>\n",
              "      <td>00:00:00</td>\n",
              "      <td>WHIPPLE ST</td>\n",
              "      <td>0</td>\n",
              "      <td>0</td>\n",
              "      <td>9</td>\n",
              "    </tr>\n",
              "    <tr>\n",
              "      <th>...</th>\n",
              "      <td>...</td>\n",
              "      <td>...</td>\n",
              "      <td>...</td>\n",
              "      <td>...</td>\n",
              "      <td>...</td>\n",
              "      <td>...</td>\n",
              "      <td>...</td>\n",
              "      <td>...</td>\n",
              "      <td>...</td>\n",
              "      <td>...</td>\n",
              "      <td>...</td>\n",
              "      <td>...</td>\n",
              "      <td>...</td>\n",
              "      <td>...</td>\n",
              "      <td>...</td>\n",
              "      <td>...</td>\n",
              "      <td>...</td>\n",
              "      <td>...</td>\n",
              "      <td>...</td>\n",
              "      <td>...</td>\n",
              "      <td>...</td>\n",
              "    </tr>\n",
              "    <tr>\n",
              "      <th>19796</th>\n",
              "      <td>11968231</td>\n",
              "      <td>040XX S SACRAMENTO AVE</td>\n",
              "      <td>1811</td>\n",
              "      <td>NARCOTICS</td>\n",
              "      <td>POSS: CANNABIS 30GMS OR LESS</td>\n",
              "      <td>STREET</td>\n",
              "      <td>True</td>\n",
              "      <td>False</td>\n",
              "      <td>921</td>\n",
              "      <td>9</td>\n",
              "      <td>...</td>\n",
              "      <td>2/7/2020 15:52</td>\n",
              "      <td>41.820306</td>\n",
              "      <td>-87.699516</td>\n",
              "      <td>(41.820305963, -87.699515522)</td>\n",
              "      <td>31</td>\n",
              "      <td>23:48:00</td>\n",
              "      <td>SACRAMENTO AVE</td>\n",
              "      <td>1</td>\n",
              "      <td>0</td>\n",
              "      <td>17</td>\n",
              "    </tr>\n",
              "    <tr>\n",
              "      <th>19797</th>\n",
              "      <td>11968265</td>\n",
              "      <td>012XX E 87TH ST</td>\n",
              "      <td>3730</td>\n",
              "      <td>INTERFERENCE WITH PUBLIC OFFICER</td>\n",
              "      <td>OBSTRUCTING JUSTICE</td>\n",
              "      <td>STREET</td>\n",
              "      <td>True</td>\n",
              "      <td>False</td>\n",
              "      <td>412</td>\n",
              "      <td>4</td>\n",
              "      <td>...</td>\n",
              "      <td>2/7/2020 15:52</td>\n",
              "      <td>41.736810</td>\n",
              "      <td>-87.593325</td>\n",
              "      <td>(41.736809882, -87.59332523)</td>\n",
              "      <td>31</td>\n",
              "      <td>23:49:00</td>\n",
              "      <td>87TH ST</td>\n",
              "      <td>1</td>\n",
              "      <td>0</td>\n",
              "      <td>12</td>\n",
              "    </tr>\n",
              "    <tr>\n",
              "      <th>19798</th>\n",
              "      <td>11968303</td>\n",
              "      <td>049XX W WELLINGTON AVE</td>\n",
              "      <td>496</td>\n",
              "      <td>BATTERY</td>\n",
              "      <td>AGGRAVATED DOMESTIC BATTERY: KNIFE/CUTTING INST</td>\n",
              "      <td>VEHICLE NON-COMMERCIAL</td>\n",
              "      <td>False</td>\n",
              "      <td>True</td>\n",
              "      <td>2521</td>\n",
              "      <td>25</td>\n",
              "      <td>...</td>\n",
              "      <td>2/7/2020 15:52</td>\n",
              "      <td>41.935142</td>\n",
              "      <td>-87.749808</td>\n",
              "      <td>(41.935142198, -87.749807563)</td>\n",
              "      <td>31</td>\n",
              "      <td>23:50:00</td>\n",
              "      <td>WELLINGTON AVE</td>\n",
              "      <td>0</td>\n",
              "      <td>1</td>\n",
              "      <td>2</td>\n",
              "    </tr>\n",
              "    <tr>\n",
              "      <th>19799</th>\n",
              "      <td>11968986</td>\n",
              "      <td>033XX N Halsted St</td>\n",
              "      <td>890</td>\n",
              "      <td>THEFT</td>\n",
              "      <td>FROM BUILDING</td>\n",
              "      <td>BAR OR TAVERN</td>\n",
              "      <td>False</td>\n",
              "      <td>False</td>\n",
              "      <td>1925</td>\n",
              "      <td>19</td>\n",
              "      <td>...</td>\n",
              "      <td>2/7/2020 15:52</td>\n",
              "      <td>41.943056</td>\n",
              "      <td>-87.649363</td>\n",
              "      <td>(41.943056436, -87.649362967)</td>\n",
              "      <td>31</td>\n",
              "      <td>23:50:00</td>\n",
              "      <td>Halsted St</td>\n",
              "      <td>0</td>\n",
              "      <td>0</td>\n",
              "      <td>27</td>\n",
              "    </tr>\n",
              "    <tr>\n",
              "      <th>19800</th>\n",
              "      <td>11968238</td>\n",
              "      <td>098XX S AVENUE H</td>\n",
              "      <td>486</td>\n",
              "      <td>BATTERY</td>\n",
              "      <td>DOMESTIC BATTERY SIMPLE</td>\n",
              "      <td>APARTMENT</td>\n",
              "      <td>True</td>\n",
              "      <td>True</td>\n",
              "      <td>432</td>\n",
              "      <td>4</td>\n",
              "      <td>...</td>\n",
              "      <td>2/7/2020 15:52</td>\n",
              "      <td>41.717192</td>\n",
              "      <td>-87.532869</td>\n",
              "      <td>(41.717191712, -87.532868868)</td>\n",
              "      <td>31</td>\n",
              "      <td>23:55:00</td>\n",
              "      <td>AVENUE H</td>\n",
              "      <td>1</td>\n",
              "      <td>1</td>\n",
              "      <td>2</td>\n",
              "    </tr>\n",
              "  </tbody>\n",
              "</table>\n",
              "<p>19552 rows × 25 columns</p>\n",
              "</div>\n",
              "      <button class=\"colab-df-convert\" onclick=\"convertToInteractive('df-52cb037b-ed7c-4f2a-a732-e614e1c1cfeb')\"\n",
              "              title=\"Convert this dataframe to an interactive table.\"\n",
              "              style=\"display:none;\">\n",
              "        \n",
              "  <svg xmlns=\"http://www.w3.org/2000/svg\" height=\"24px\"viewBox=\"0 0 24 24\"\n",
              "       width=\"24px\">\n",
              "    <path d=\"M0 0h24v24H0V0z\" fill=\"none\"/>\n",
              "    <path d=\"M18.56 5.44l.94 2.06.94-2.06 2.06-.94-2.06-.94-.94-2.06-.94 2.06-2.06.94zm-11 1L8.5 8.5l.94-2.06 2.06-.94-2.06-.94L8.5 2.5l-.94 2.06-2.06.94zm10 10l.94 2.06.94-2.06 2.06-.94-2.06-.94-.94-2.06-.94 2.06-2.06.94z\"/><path d=\"M17.41 7.96l-1.37-1.37c-.4-.4-.92-.59-1.43-.59-.52 0-1.04.2-1.43.59L10.3 9.45l-7.72 7.72c-.78.78-.78 2.05 0 2.83L4 21.41c.39.39.9.59 1.41.59.51 0 1.02-.2 1.41-.59l7.78-7.78 2.81-2.81c.8-.78.8-2.07 0-2.86zM5.41 20L4 18.59l7.72-7.72 1.47 1.35L5.41 20z\"/>\n",
              "  </svg>\n",
              "      </button>\n",
              "      \n",
              "  <style>\n",
              "    .colab-df-container {\n",
              "      display:flex;\n",
              "      flex-wrap:wrap;\n",
              "      gap: 12px;\n",
              "    }\n",
              "\n",
              "    .colab-df-convert {\n",
              "      background-color: #E8F0FE;\n",
              "      border: none;\n",
              "      border-radius: 50%;\n",
              "      cursor: pointer;\n",
              "      display: none;\n",
              "      fill: #1967D2;\n",
              "      height: 32px;\n",
              "      padding: 0 0 0 0;\n",
              "      width: 32px;\n",
              "    }\n",
              "\n",
              "    .colab-df-convert:hover {\n",
              "      background-color: #E2EBFA;\n",
              "      box-shadow: 0px 1px 2px rgba(60, 64, 67, 0.3), 0px 1px 3px 1px rgba(60, 64, 67, 0.15);\n",
              "      fill: #174EA6;\n",
              "    }\n",
              "\n",
              "    [theme=dark] .colab-df-convert {\n",
              "      background-color: #3B4455;\n",
              "      fill: #D2E3FC;\n",
              "    }\n",
              "\n",
              "    [theme=dark] .colab-df-convert:hover {\n",
              "      background-color: #434B5C;\n",
              "      box-shadow: 0px 1px 3px 1px rgba(0, 0, 0, 0.15);\n",
              "      filter: drop-shadow(0px 1px 2px rgba(0, 0, 0, 0.3));\n",
              "      fill: #FFFFFF;\n",
              "    }\n",
              "  </style>\n",
              "\n",
              "      <script>\n",
              "        const buttonEl =\n",
              "          document.querySelector('#df-52cb037b-ed7c-4f2a-a732-e614e1c1cfeb button.colab-df-convert');\n",
              "        buttonEl.style.display =\n",
              "          google.colab.kernel.accessAllowed ? 'block' : 'none';\n",
              "\n",
              "        async function convertToInteractive(key) {\n",
              "          const element = document.querySelector('#df-52cb037b-ed7c-4f2a-a732-e614e1c1cfeb');\n",
              "          const dataTable =\n",
              "            await google.colab.kernel.invokeFunction('convertToInteractive',\n",
              "                                                     [key], {});\n",
              "          if (!dataTable) return;\n",
              "\n",
              "          const docLinkHtml = 'Like what you see? Visit the ' +\n",
              "            '<a target=\"_blank\" href=https://colab.research.google.com/notebooks/data_table.ipynb>data table notebook</a>'\n",
              "            + ' to learn more about interactive tables.';\n",
              "          element.innerHTML = '';\n",
              "          dataTable['output_type'] = 'display_data';\n",
              "          await google.colab.output.renderOutput(dataTable, element);\n",
              "          const docLink = document.createElement('div');\n",
              "          docLink.innerHTML = docLinkHtml;\n",
              "          element.appendChild(docLink);\n",
              "        }\n",
              "      </script>\n",
              "    </div>\n",
              "  </div>\n",
              "  "
            ]
          },
          "metadata": {},
          "execution_count": 16
        }
      ]
    },
    {
      "cell_type": "code",
      "metadata": {
        "id": "6wj0oAMKc7b6",
        "colab": {
          "base_uri": "https://localhost:8080/"
        },
        "outputId": "877c030a-492c-40b2-88fa-5365410ad3bb"
      },
      "source": [
        "#showing missing value after dropping rows \n",
        "df.isnull().sum()"
      ],
      "execution_count": 17,
      "outputs": [
        {
          "output_type": "execute_result",
          "data": {
            "text/plain": [
              "ID                      0\n",
              "Block                   0\n",
              "IUCR                    0\n",
              "Primary Type            0\n",
              "Description             0\n",
              "Location Description    0\n",
              "Arrest                  0\n",
              "Domestic                0\n",
              "Beat                    0\n",
              "District                0\n",
              "Ward                    0\n",
              "Community Area          0\n",
              "FBI Code                0\n",
              "X Coordinate            0\n",
              "Y Coordinate            0\n",
              "Updated On              0\n",
              "Latitude                0\n",
              "Longitude               0\n",
              "Location                0\n",
              "day                     0\n",
              "time                    0\n",
              "Street_Name             0\n",
              "Arrest_New              0\n",
              "Domestic_New            0\n",
              "Crime_Type              0\n",
              "dtype: int64"
            ]
          },
          "metadata": {},
          "execution_count": 17
        }
      ]
    },
    {
      "cell_type": "code",
      "metadata": {
        "id": "JCqLdHwAIkf9",
        "colab": {
          "base_uri": "https://localhost:8080/"
        },
        "outputId": "aceb108f-2ec4-45be-dc56-e4a314ba213d"
      },
      "source": [
        "df['Location Description'].value_counts().sort_index().iloc[1:50]\n",
        "#sorting location by alphabetical order\n"
      ],
      "execution_count": 18,
      "outputs": [
        {
          "output_type": "execute_result",
          "data": {
            "text/plain": [
              "AIRCRAFT                                              2\n",
              "AIRPORT BUILDING NON-TERMINAL - NON-SECURE AREA      15\n",
              "AIRPORT BUILDING NON-TERMINAL - SECURE AREA           6\n",
              "AIRPORT EXTERIOR - NON-SECURE AREA                    7\n",
              "AIRPORT EXTERIOR - SECURE AREA                        3\n",
              "AIRPORT PARKING LOT                                   4\n",
              "AIRPORT TERMINAL LOWER LEVEL - NON-SECURE AREA       15\n",
              "AIRPORT TERMINAL LOWER LEVEL - SECURE AREA            2\n",
              "AIRPORT TERMINAL MEZZANINE - NON-SECURE AREA          1\n",
              "AIRPORT TERMINAL UPPER LEVEL - NON-SECURE AREA        9\n",
              "AIRPORT TERMINAL UPPER LEVEL - SECURE AREA           18\n",
              "AIRPORT VENDING ESTABLISHMENT                         3\n",
              "AIRPORT/AIRCRAFT                                      8\n",
              "ALLEY                                               357\n",
              "ANIMAL HOSPITAL                                       1\n",
              "APARTMENT                                          2997\n",
              "APPLIANCE STORE                                       9\n",
              "ATHLETIC CLUB                                        30\n",
              "ATM (AUTOMATIC TELLER MACHINE)                       27\n",
              "AUTO                                                  4\n",
              "AUTO / BOAT / RV DEALERSHIP                          22\n",
              "BANK                                                 95\n",
              "BAR OR TAVERN                                       156\n",
              "BARBERSHOP                                           18\n",
              "BOWLING ALLEY                                         2\n",
              "CAR WASH                                              8\n",
              "CHA APARTMENT                                        61\n",
              "CHA HALLWAY / STAIRWELL / ELEVATOR                    2\n",
              "CHA HALLWAY/STAIRWELL/ELEVATOR                       22\n",
              "CHA PARKING LOT / GROUNDS                             1\n",
              "CHA PARKING LOT/GROUNDS                              25\n",
              "CHURCH / SYNAGOGUE / PLACE OF WORSHIP                 3\n",
              "CHURCH/SYNAGOGUE/PLACE OF WORSHIP                    35\n",
              "CLEANING STORE                                        6\n",
              "COIN OPERATED MACHINE                                 2\n",
              "COLLEGE / UNIVERSITY - GROUNDS                        1\n",
              "COLLEGE/UNIVERSITY GROUNDS                           10\n",
              "COLLEGE/UNIVERSITY RESIDENCE HALL                     1\n",
              "COMMERCIAL / BUSINESS OFFICE                        100\n",
              "CONSTRUCTION SITE                                    27\n",
              "CONVENIENCE STORE                                   194\n",
              "CREDIT UNION                                          1\n",
              "CTA BUS                                             106\n",
              "CTA BUS STOP                                         40\n",
              "CTA GARAGE / OTHER PROPERTY                          31\n",
              "CTA PARKING LOT / GARAGE / OTHER PROPERTY             1\n",
              "CTA PLATFORM                                         84\n",
              "CTA STATION                                         106\n",
              "CTA TRACKS - RIGHT OF WAY                             5\n",
              "Name: Location Description, dtype: int64"
            ]
          },
          "metadata": {},
          "execution_count": 18
        }
      ]
    },
    {
      "cell_type": "code",
      "metadata": {
        "id": "1UeTJDUXI1xv"
      },
      "source": [
        "#categorizing crimes by types of crimes (primary type - crime type)\n",
        "def category(crime_type):\n",
        "    if 'AIRPORT' in crime_type: #FINDING IN OLD COLUMN\n",
        "        return 'AIRPORT' #NEW NAME IN COLUMN\n",
        "    elif 'AIRCRAFT' in crime_type:\n",
        "        return 'AIRPORT'\n",
        "    elif 'COIN OPERATED MACHINE' in crime_type:\n",
        "        return 'ATM'\n",
        "    elif 'ATM' in crime_type:\n",
        "        return 'ATM'\n",
        "    elif 'AUTO' in crime_type:\n",
        "        return 'AUTO'\n",
        "    elif 'BARBER' in crime_type:\n",
        "        return 'BARBER SHOP'\n",
        "    elif 'CHA' in crime_type:\n",
        "        return 'CHA'\n",
        "    elif 'CHURCH' in crime_type:\n",
        "        return 'PLACE OF WORSHIP'\n",
        "    elif 'COLLEGE' in crime_type:\n",
        "        return 'EDUCATIONAL INSTITUTION'\n",
        "    elif 'DAY CARE CENTRE' in crime_type:\n",
        "        return 'EDUCATIONAL INSTITUTION'\n",
        "    elif 'LIBRARY' in crime_type:\n",
        "        return 'EDUCATIONAL INSTITUTION'\n",
        "    elif 'COMMERICIAL/BUSINESS OFFICE' in crime_type:\n",
        "        return 'BUSINESS OFFICE'\n",
        "    elif 'CTA' in crime_type:\n",
        "        return 'CTA'\n",
        "    elif 'FACTORY /MANUFACTURING BUILDING' in crime_type:\n",
        "        return 'FACTORY'\n",
        "    elif 'GOVERNMENT BUILDING / PROPERTY' in crime_type:\n",
        "        return 'PROPERTY'\n",
        "    elif 'GROCERY FOOD STORE' in crime_type:\n",
        "        return 'STORE'\n",
        "    elif 'DRUG STORE' in crime_type:\n",
        "        return 'STORE'\n",
        "    elif 'DEPARTMENT STORE' in crime_type:\n",
        "        return 'STORE'\n",
        "    elif 'LIQUOR STORE' in crime_type:\n",
        "        return 'STORE'\n",
        "    elif 'TAVERN' in crime_type:\n",
        "        return 'STORE'\n",
        "    elif 'BAR OR TAVERN' in crime_type:\n",
        "        return 'STORE'\n",
        "    elif 'PAWN SHOP' in crime_type:\n",
        "        return 'STORE'\n",
        "    elif 'RETAIL STORE' in crime_type:\n",
        "        return 'STORE'\n",
        "    elif 'CONVENIENCE STORE' in crime_type:\n",
        "        return 'STORE'\n",
        "    elif 'SMALL RETAIL STORE' in crime_type:\n",
        "        return 'STORE'\n",
        "    elif 'CLEANING STORE' in crime_type:\n",
        "        return 'STORE'\n",
        "    elif 'HIGHWAY / EXPRESSWAY' in crime_type:\n",
        "        return 'HIGHWAY'\n",
        "    elif 'HOSPITAL' in crime_type:\n",
        "        return 'MEDICAL'\n",
        "    elif 'MEDICAL' in crime_type:\n",
        "        return 'MEDICAL'\n",
        "    elif 'HOTEL' in crime_type:\n",
        "        return 'HOTEL'\n",
        "    elif 'LAKEFRONT' in crime_type:\n",
        "        return 'LAKEFRONT'\n",
        "    elif 'JAIL / LOCK-UP FACILITY' in crime_type:\n",
        "        return 'JAIL'\n",
        "    elif 'MOVIE HOUSE' in crime_type:\n",
        "        return 'ENTERTAINMENT CENTRE'\n",
        "    elif 'NEWSSTAND' in crime_type:\n",
        "        return 'ENTERTAINMENT CENTRE'\n",
        "    elif 'NURSING' in crime_type:\n",
        "        return 'NURSING HOME'\n",
        "    elif 'OTHER' in crime_type:\n",
        "        return 'TRANSPORTATION'\n",
        "    elif 'PARKING LOT' in crime_type:\n",
        "        return 'PARKING LOT'\n",
        "    elif 'POLICE FACILITY' in crime_type:\n",
        "        return 'POLICE FACILITY'\n",
        "    elif 'RESIDENCE' in crime_type:\n",
        "        return 'RESIDENCE'\n",
        "    elif 'STAIRWELL' in crime_type:\n",
        "        return 'RESIDENCE'\n",
        "    elif 'HALLWAY' in crime_type:\n",
        "        return 'RESIDENCE'\n",
        "    elif 'RESIDENTIAL YARD (FRONT/BACK)' in crime_type:\n",
        "        return 'RESIDENCE'\n",
        "    elif 'SPORTS ARENA' in crime_type:\n",
        "        return 'STADIUM'\n",
        "    elif 'SIDEWALK' in crime_type:\n",
        "        return 'STREET'\n",
        "    elif 'STREET' in crime_type:\n",
        "        return 'STREET'\n",
        "    elif 'VEHICLE' in crime_type:\n",
        "        return 'VEHICLE'\n",
        "    elif 'TAXICAB' in crime_type:\n",
        "        return 'VEHICLE'\n",
        "    elif 'COMMERCIAL TRANSPORTATION' in crime_type:\n",
        "        return 'VEHICLE'\n",
        "    elif 'VACANT LOT' in crime_type:\n",
        "        return 'PLOT'\n",
        "    elif 'YARD' in crime_type:\n",
        "        return 'PLOT'\n",
        "    elif 'ANIMAL HOSPITAL' in crime_type:\n",
        "        return 'MEDICAL'\n",
        "    elif 'BOAT' in crime_type:\n",
        "            return 'AUTO'\n",
        "    elif 'CAR WASH' in crime_type:\n",
        "            return 'AUTO'\n",
        "    elif 'GARAGE' in crime_type:\n",
        "            return 'AUTO'\n",
        "    elif 'GAS STATION' in crime_type:\n",
        "            return 'AUTO'\n",
        "    elif 'BOWLING ALLEY' in crime_type:\n",
        "            return 'ENTERTAINMENT CENTRE'\n",
        "    elif 'POOL ROOM' in crime_type:\n",
        "            return 'ENTERTAINMENT CENTRE'\n",
        "    elif 'CLUB' in crime_type:\n",
        "            return 'ENTERTAINMENT CENTRE'\n",
        "    elif 'APARTMENT' in crime_type:\n",
        "            return 'PROPERTY'\n",
        "    elif 'HOUSE' in crime_type:\n",
        "            return 'PROPERTY'\n",
        "    elif 'OFFICE' in crime_type:\n",
        "            return 'PROPERTY'\n",
        "    elif 'FARM' in crime_type:\n",
        "            return 'PROPERTY'\n",
        "    elif 'FEDERAL BUILDING' in crime_type:\n",
        "            return 'PROPERTY'\n",
        "    elif 'FIRE STATION' in crime_type:\n",
        "            return 'PROPERTY'\n",
        "    elif 'APPLIANCE STORE' in crime_type:\n",
        "            return 'STORE'\n",
        "    elif 'SCHOOL' in crime_type:\n",
        "            return 'EDUCATIONAL INSTITUTION'\n",
        "    elif 'ALLEY' in crime_type:\n",
        "            return 'STREET'\n",
        "    elif 'BRIDGE' in crime_type:\n",
        "            return 'STREET'\n",
        "    elif 'GANGWAY' in crime_type:\n",
        "            return 'STREET'\n",
        "    elif 'KENNEL' in crime_type:\n",
        "            return 'STREET'\n",
        "    elif 'VESTIBULE' in crime_type:\n",
        "            return 'STREET'\n",
        "    elif 'BANK' in crime_type:\n",
        "            return 'BANK'\n",
        "    elif 'SAVINGS AND LOAN' in crime_type:\n",
        "            return 'BANK'\n",
        "    elif 'CREDIT UNION' in crime_type:\n",
        "            return 'BANK'\n",
        "    elif 'CURRENCY EXCHANGE' in crime_type:\n",
        "            return 'BANK'\n",
        "    elif 'CONSTRUCTION SITE' in crime_type:\n",
        "            return 'BUILDING SITE'\n",
        "    elif 'WAREHOUSE' in crime_type:\n",
        "            return 'BUILDING SITE'\n",
        "    elif 'ABANDONED BUILDING' in crime_type:\n",
        "            return 'BUILDING SITE'\n",
        "    elif 'FOREST PRESERVE' in crime_type:\n",
        "            return 'PUBLIC PLACES'\n",
        "    elif 'CEMETARY' in crime_type:\n",
        "            return 'PUBLIC PLACES'\n",
        "    elif 'PARK PROPERTY' in crime_type:\n",
        "            return 'PUBLIC PLACES'\n",
        "    elif 'PORCH' in crime_type:\n",
        "            return 'PUBLIC PLACES'\n",
        "    elif 'RESTAURANT' in crime_type:\n",
        "            return 'PUBLIC PLACES'\n",
        "    else:\n",
        "            return 'MISCELLANEOUS'"
      ],
      "execution_count": 19,
      "outputs": []
    },
    {
      "cell_type": "code",
      "metadata": {
        "id": "REbbMXMBJVZe",
        "colab": {
          "base_uri": "https://localhost:8080/"
        },
        "outputId": "dd0abe1b-df13-4646-e4c2-6ace00573472"
      },
      "source": [
        "df['Crime_Area'] = df['Location Description'].apply(category)\n",
        "df.dtypes\n"
      ],
      "execution_count": 20,
      "outputs": [
        {
          "output_type": "execute_result",
          "data": {
            "text/plain": [
              "ID                         int64\n",
              "Block                     object\n",
              "IUCR                      object\n",
              "Primary Type            category\n",
              "Description               object\n",
              "Location Description      object\n",
              "Arrest                  category\n",
              "Domestic                category\n",
              "Beat                       int64\n",
              "District                   int64\n",
              "Ward                     float64\n",
              "Community Area           float64\n",
              "FBI Code                  object\n",
              "X Coordinate             float64\n",
              "Y Coordinate             float64\n",
              "Updated On                object\n",
              "Latitude                 float64\n",
              "Longitude                float64\n",
              "Location                  object\n",
              "day                        int64\n",
              "time                      object\n",
              "Street_Name               object\n",
              "Arrest_New                  int8\n",
              "Domestic_New                int8\n",
              "Crime_Type                  int8\n",
              "Crime_Area                object\n",
              "dtype: object"
            ]
          },
          "metadata": {},
          "execution_count": 20
        }
      ]
    },
    {
      "cell_type": "code",
      "metadata": {
        "id": "R9cwt--VYB8g",
        "colab": {
          "base_uri": "https://localhost:8080/"
        },
        "outputId": "f79f5c57-b4ad-4c11-fdee-569f01f44b8e"
      },
      "source": [
        "df['Crime_Area'].value_counts().sort_index().iloc[:]\n",
        "#sorting crime area by alphabetical order"
      ],
      "execution_count": 21,
      "outputs": [
        {
          "output_type": "execute_result",
          "data": {
            "text/plain": [
              "AIRPORT                      93\n",
              "ATM                          29\n",
              "AUTO                        302\n",
              "BANK                         97\n",
              "BARBER SHOP                  18\n",
              "BUILDING SITE                42\n",
              "CHA                         150\n",
              "CTA                         544\n",
              "EDUCATIONAL INSTITUTION     482\n",
              "ENTERTAINMENT CENTRE         51\n",
              "HOTEL                       103\n",
              "JAIL                          6\n",
              "LAKEFRONT                     1\n",
              "MEDICAL                     142\n",
              "MISCELLANEOUS               115\n",
              "NURSING HOME                 94\n",
              "PARKING LOT                 544\n",
              "PLACE OF WORSHIP             38\n",
              "PLOT                         45\n",
              "PROPERTY                   3153\n",
              "PUBLIC PLACES               528\n",
              "RESIDENCE                  4227\n",
              "STADIUM                      16\n",
              "STORE                      1726\n",
              "STREET                     5806\n",
              "TRANSPORTATION              842\n",
              "VEHICLE                     358\n",
              "Name: Crime_Area, dtype: int64"
            ]
          },
          "metadata": {},
          "execution_count": 21
        }
      ]
    },
    {
      "cell_type": "markdown",
      "metadata": {
        "id": "oFdh6fw0P0wq"
      },
      "source": [
        "# **EXPLORATORY DATA ANALYSIS**\n"
      ]
    },
    {
      "cell_type": "code",
      "metadata": {
        "id": "6TgWrxIllo98",
        "colab": {
          "base_uri": "https://localhost:8080/",
          "height": 0
        },
        "outputId": "f7c3ac58-a6ed-4254-c020-4ead465729e6"
      },
      "source": [
        "#bar chart top crimes\n",
        "df['Primary Type'].value_counts().iloc[:10].sort_values().plot(kind=\"barh\", color = '#DEA5A4', title = 'Total of Crime Events by Types', figsize=(15,9))"
      ],
      "execution_count": 22,
      "outputs": [
        {
          "output_type": "execute_result",
          "data": {
            "text/plain": [
              "<matplotlib.axes._subplots.AxesSubplot at 0x7ff774a3f410>"
            ]
          },
          "metadata": {},
          "execution_count": 22
        },
        {
          "output_type": "display_data",
          "data": {
            "text/plain": [
              "<Figure size 1080x648 with 1 Axes>"
            ],
            "image/png": "[encoded data removed]"
          },
          "metadata": {
            "needs_background": "light"
          }
        }
      ]
    },
    {
      "cell_type": "code",
      "metadata": {
        "id": "SMIqW8X_lv6J",
        "colab": {
          "base_uri": "https://localhost:8080/",
          "height": 0
        },
        "outputId": "eab0735f-75b8-47aa-bc93-16baed80626f"
      },
      "source": [
        "df['Crime_Area'].value_counts().nlargest(10).plot(kind='barh', figsize=(15,9), color = '#FBBB62')\n",
        "plt.title(\"Top 10 Areas Most Prone To Crime\")\n",
        "plt.ylabel(\"Area\")\n",
        "plt.xlabel(\"Number of crimes\");"
      ],
      "execution_count": 23,
      "outputs": [
        {
          "output_type": "display_data",
          "data": {
            "text/plain": [
              "<Figure size 1080x648 with 1 Axes>"
            ],
            "image/png": "[encoded data removed]"
          },
          "metadata": {
            "needs_background": "light"
          }
        }
      ]
    },
    {
      "cell_type": "code",
      "metadata": {
        "id": "Tcr8lIwCl2KL",
        "colab": {
          "base_uri": "https://localhost:8080/"
        },
        "outputId": "2bb24716-7196-4c80-c663-c856a11c5c20"
      },
      "source": [
        "df[\"Street_Name\"].value_counts().iloc[100:150]"
      ],
      "execution_count": 24,
      "outputs": [
        {
          "output_type": "execute_result",
          "data": {
            "text/plain": [
              "RHODES AVE         50\n",
              "JEFFERY BLVD       49\n",
              "LARAMIE AVE        49\n",
              "SACRAMENTO AVE     49\n",
              "JUSTINE ST         49\n",
              "MAPLEWOOD AVE      49\n",
              "ARMITAGE AVE       49\n",
              "KEELER AVE         49\n",
              "ADDISON ST         49\n",
              "DIVERSEY AVE       48\n",
              "VINCENNES AVE      48\n",
              "FAIRFIELD AVE      48\n",
              "HERMITAGE AVE      48\n",
              "CLAREMONT AVE      47\n",
              "ELSTON AVE         47\n",
              "OGDEN AVE          47\n",
              "KILDARE AVE        47\n",
              "WILSON AVE         46\n",
              "CARPENTER ST       46\n",
              "THROOP ST          46\n",
              "ELLIS AVE          46\n",
              "LAVERGNE AVE       46\n",
              "LOWE AVE           46\n",
              "BISHOP ST          45\n",
              "AVERS AVE          45\n",
              "INGLESIDE AVE      45\n",
              "DREXEL AVE         44\n",
              "OAKLEY AVE         44\n",
              "ARTESIAN AVE       44\n",
              "KILBOURN AVE       43\n",
              "CHRISTIANA AVE     43\n",
              "LOCKWOOD AVE       43\n",
              "ADA ST             42\n",
              "MARQUETTE RD       42\n",
              "KIMBALL AVE        42\n",
              "EXCHANGE AVE       42\n",
              "HONORE ST          42\n",
              "MARYLAND AVE       41\n",
              "RIDGEWAY AVE       41\n",
              "MAYPOLE AVE        41\n",
              "ERIE ST            41\n",
              "KENMORE AVE        41\n",
              "WHIPPLE ST         41\n",
              "26TH ST            41\n",
              "COMMERCIAL AVE     41\n",
              "82ND ST            41\n",
              "72ND ST            40\n",
              "ST LAWRENCE AVE    39\n",
              "OHIO ST            39\n",
              "KEDVALE AVE        39\n",
              "Name: Street_Name, dtype: int64"
            ]
          },
          "metadata": {},
          "execution_count": 24
        }
      ]
    },
    {
      "cell_type": "code",
      "metadata": {
        "id": "hsjvkbBfl3OI",
        "colab": {
          "base_uri": "https://localhost:8080/",
          "height": 0
        },
        "outputId": "0d2beb83-aa99-47fd-d42f-f398921c4a7b"
      },
      "source": [
        "df['Primary Type'].value_counts().iloc[:10].plot.pie(title=\"Top 10 Crimes\",y='MATH',figsize=(10,10), fontsize=10, autopct='%1.1f%%')"
      ],
      "execution_count": 25,
      "outputs": [
        {
          "output_type": "execute_result",
          "data": {
            "text/plain": [
              "<matplotlib.axes._subplots.AxesSubplot at 0x7ff7741cdcd0>"
            ]
          },
          "metadata": {},
          "execution_count": 25
        },
        {
          "output_type": "display_data",
          "data": {
            "text/plain": [
              "<Figure size 720x720 with 1 Axes>"
            ],
            "image/png": "[encoded data removed]"
          },
          "metadata": {}
        }
      ]
    },
    {
      "cell_type": "code",
      "metadata": {
        "id": "Ego9RLFtl3W1",
        "colab": {
          "base_uri": "https://localhost:8080/",
          "height": 0
        },
        "outputId": "a7a1a1ac-fed7-4a74-bd53-a625de30d4b2"
      },
      "source": [
        "df.Street_Name.value_counts().nlargest(40).plot(kind='bar', figsize=(15,9))\n",
        "plt.title(\"Top 40 Crimes / Street Name\")\n",
        "plt.ylabel(\"Total Crimes\")\n",
        "plt.xlabel(\"Street\");"
      ],
      "execution_count": 26,
      "outputs": [
        {
          "output_type": "display_data",
          "data": {
            "text/plain": [
              "<Figure size 1080x648 with 1 Axes>"
            ],
            "image/png": "[encoded data removed]"
          },
          "metadata": {
            "needs_background": "light"
          }
        }
      ]
    },
    {
      "cell_type": "code",
      "metadata": {
        "id": "-Bu_iJO-mweA",
        "colab": {
          "base_uri": "https://localhost:8080/",
          "height": 0
        },
        "outputId": "a412553b-87c4-4a9c-e56b-5b549526230e"
      },
      "source": [
        "#check Domestic Violence Cases\n",
        "\n",
        "fig = plt.figure(figsize = (10,8))\n",
        "df['Domestic'].value_counts(normalize = True).plot(kind='bar', color= ['blue','red'], alpha = 0.9, rot=0)\n",
        "plt.title('Domestic Violence')\n",
        "plt.show()"
      ],
      "execution_count": 27,
      "outputs": [
        {
          "output_type": "display_data",
          "data": {
            "text/plain": [
              "<Figure size 720x576 with 1 Axes>"
            ],
            "image/png": "[encoded data removed]"
          },
          "metadata": {
            "needs_background": "light"
          }
        }
      ]
    },
    {
      "cell_type": "code",
      "metadata": {
        "id": "YlBKd-5Dm1ra",
        "colab": {
          "base_uri": "https://localhost:8080/",
          "height": 0
        },
        "outputId": "a8fb931e-a823-4b7b-95d9-39860e4b58ec"
      },
      "source": [
        "district_list = []\n",
        "\n",
        "for i in range(0,df.shape[0]):\n",
        "    district = df.iloc[i].District\n",
        "    arrest = df.iloc[i].Arrest\n",
        "    get_index = -1\n",
        "    \n",
        "    for j in range(0, len(district_list)):\n",
        "        if (district_list[j][0] == district):\n",
        "            get_index = j\n",
        "            if arrest:\n",
        "                district_list[j][1]+=1\n",
        "            else:\n",
        "                district_list[j][2]+=1\n",
        "    \n",
        "    if get_index == -1:\n",
        "        if arrest:\n",
        "            district_list.append([district, 1, 0])\n",
        "        else:\n",
        "            district_list.append([district, 0, 1])\n",
        "\n",
        "\n",
        "get_district = pd.DataFrame(columns=['district','arrest','not_arrest'], data=district_list) \n",
        "get_district['Total'] = get_district.apply(lambda x: x.arrest+x.not_arrest, axis=1)\n",
        "\n",
        "sns.set(style=\"whitegrid\")\n",
        "\n",
        "# Initialize the matplotlib figure\n",
        "f, ax = plt.subplots(figsize=(10, 15))\n",
        "\n",
        "# Load the example car crash dataset\n",
        "\n",
        "# Plot the total crashes\n",
        "sns.set_color_codes(\"pastel\")\n",
        "sns.barplot(x=\"Total\", y=\"district\", data=get_district,\n",
        "            label=\"Total\", color=\"b\", orient='h')\n",
        "\n",
        "sns.set_color_codes(\"muted\")\n",
        "sns.barplot(x=\"arrest\", y=\"district\", data=get_district,\n",
        "            label=\"Arrest\", color=\"b\", orient='h')\n",
        "\n",
        "ax.legend(ncol=2, loc=\"lower right\", frameon=True)\n",
        "ax.set(ylabel=\"\",\n",
        "       xlabel=\"Total cases vs arrest\")\n",
        "sns.despine(left=True, bottom=True)"
      ],
      "execution_count": 28,
      "outputs": [
        {
          "output_type": "display_data",
          "data": {
            "text/plain": [
              "<Figure size 720x1080 with 1 Axes>"
            ],
            "image/png": "[encoded data removed]"
          },
          "metadata": {}
        }
      ]
    },
    {
      "cell_type": "code",
      "metadata": {
        "id": "whPY1z7kwjfj",
        "colab": {
          "base_uri": "https://localhost:8080/",
          "height": 0
        },
        "outputId": "d3dc9d88-c476-429e-a7ad-b06d00d6101a"
      },
      "source": [
        "#check Arrested Cases\n",
        "\n",
        "fig = plt.figure(figsize = (10,8))\n",
        "df['Arrest'].value_counts(normalize = True).plot(kind='bar', color= ['red','green'], alpha = 0.9, rot=0)\n",
        "plt.title('Arrested')\n",
        "plt.show()"
      ],
      "execution_count": 29,
      "outputs": [
        {
          "output_type": "display_data",
          "data": {
            "text/plain": [
              "<Figure size 720x576 with 1 Axes>"
            ],
            "image/png": "[encoded data removed]"
          },
          "metadata": {}
        }
      ]
    },
    {
      "cell_type": "code",
      "metadata": {
        "id": "kWC2itXwxTrP",
        "colab": {
          "base_uri": "https://localhost:8080/",
          "height": 0
        },
        "outputId": "a2002028-64ad-4c34-9112-0874065ab26f"
      },
      "source": [
        "df.Crime_Area.value_counts().nlargest(40).plot(kind='bar', figsize=(15,9))\n",
        "plt.title(\"Top Crime Area\")\n",
        "plt.ylabel(\"Number of Crimes\");\n",
        "plt.xlabel(\"Area\");"
      ],
      "execution_count": 30,
      "outputs": [
        {
          "output_type": "display_data",
          "data": {
            "text/plain": [
              "<Figure size 1080x648 with 1 Axes>"
            ],
            "image/png": "[encoded data removed]"
          },
          "metadata": {}
        }
      ]
    },
    {
      "cell_type": "code",
      "metadata": {
        "id": "X78k2YQWyT-A",
        "colab": {
          "base_uri": "https://localhost:8080/",
          "height": 0
        },
        "outputId": "579ee652-d080-4dde-f96f-e2b645b55534"
      },
      "source": [
        "df['Primary Type'].value_counts().nlargest(40).plot(kind='bar', figsize=(15,9))\n",
        "plt.title(\"Primary Type of Crimes\")\n",
        "plt.ylabel(\"Number of Crimes\");\n",
        "plt.xlabel(\"Type\");"
      ],
      "execution_count": 31,
      "outputs": [
        {
          "output_type": "display_data",
          "data": {
            "text/plain": [
              "<Figure size 1080x648 with 1 Axes>"
            ],
            "image/png": "[encoded data removed]"
          },
          "metadata": {}
        }
      ]
    },
    {
      "cell_type": "code",
      "metadata": {
        "id": "YNbZDBXPwu1K",
        "colab": {
          "base_uri": "https://localhost:8080/",
          "height": 0
        },
        "outputId": "41ab2300-8c90-470e-be1e-1ca40c84f39d"
      },
      "source": [
        "#District Numbers\n",
        "\n",
        "df['District'].hist(bins=50, figsize=(12,10))"
      ],
      "execution_count": 32,
      "outputs": [
        {
          "output_type": "execute_result",
          "data": {
            "text/plain": [
              "<matplotlib.axes._subplots.AxesSubplot at 0x7ff773df51d0>"
            ]
          },
          "metadata": {},
          "execution_count": 32
        },
        {
          "output_type": "display_data",
          "data": {
            "text/plain": [
              "<Figure size 864x720 with 1 Axes>"
            ],
            "image/png": "[encoded data removed]"
          },
          "metadata": {}
        }
      ]
    },
    {
      "cell_type": "code",
      "metadata": {
        "id": "oHTnr7-Op_Gq",
        "colab": {
          "base_uri": "https://localhost:8080/",
          "height": 0
        },
        "outputId": "0d4ed745-a48f-4c67-8dfe-f2be3f793399"
      },
      "source": [
        "fig, ax = plt.subplots()\n",
        "ax.plot(df.groupby('day').agg({'day':'count'}))"
      ],
      "execution_count": 33,
      "outputs": [
        {
          "output_type": "execute_result",
          "data": {
            "text/plain": [
              "[<matplotlib.lines.Line2D at 0x7ff772465d50>]"
            ]
          },
          "metadata": {},
          "execution_count": 33
        },
        {
          "output_type": "display_data",
          "data": {
            "text/plain": [
              "<Figure size 432x288 with 1 Axes>"
            ],
            "image/png": "[encoded data removed]"
          },
          "metadata": {}
        }
      ]
    },
    {
      "cell_type": "code",
      "metadata": {
        "id": "Khi8jpdhy2fI",
        "colab": {
          "base_uri": "https://localhost:8080/",
          "height": 0
        },
        "outputId": "c6a1f49d-c46d-4e6d-b7a7-fbdb297e65c1"
      },
      "source": [
        "df.head()"
      ],
      "execution_count": 34,
      "outputs": [
        {
          "output_type": "execute_result",
          "data": {
            "text/plain": [
              "         ID                  Block  IUCR                Primary Type  \\\n",
              "0  12016034  018XX N WINNEBAGO AVE  1153          DECEPTIVE PRACTICE   \n",
              "1  12220321     091XX S DREXEL AVE  1752  OFFENSE INVOLVING CHILDREN   \n",
              "2  12013828   044XX S LAVERGNE AVE   281     CRIMINAL SEXUAL ASSAULT   \n",
              "3  12019692    032XX N LINCOLN AVE  1153          DECEPTIVE PRACTICE   \n",
              "4  12036792     072XX S WHIPPLE ST  1154          DECEPTIVE PRACTICE   \n",
              "\n",
              "                                         Description Location Description  \\\n",
              "0                FINANCIAL IDENTITY THEFT OVER $ 300            APARTMENT   \n",
              "1  AGGRAVATED CRIMINAL SEXUAL ABUSE BY FAMILY MEMBER            RESIDENCE   \n",
              "2                                     NON-AGGRAVATED            APARTMENT   \n",
              "3                FINANCIAL IDENTITY THEFT OVER $ 300            APARTMENT   \n",
              "4            FINANCIAL IDENTITY THEFT $300 AND UNDER            RESIDENCE   \n",
              "\n",
              "  Arrest Domestic  Beat  District  ...   Latitude  Longitude  \\\n",
              "0  False    False  1434        14  ...  41.915306 -87.686639   \n",
              "1  False     True   413         4  ...  41.728192 -87.600985   \n",
              "2  False    False   814         8  ...  41.812274 -87.748177   \n",
              "3  False    False  1922        19  ...  41.940222 -87.669039   \n",
              "4  False    False   831         8  ...  41.762067 -87.699077   \n",
              "\n",
              "                        Location  day      time    Street_Name  Arrest_New  \\\n",
              "0  (41.915306069, -87.686639247)    1  00:00:00  WINNEBAGO AVE           0   \n",
              "1  (41.728192429, -87.600985433)    1  00:00:00     DREXEL AVE           0   \n",
              "2   (41.81227369, -87.748176594)    1  00:00:00   LAVERGNE AVE           0   \n",
              "3  (41.940221932, -87.669039008)    1  00:00:00    LINCOLN AVE           0   \n",
              "4  (41.762066981, -87.699077348)    1  00:00:00     WHIPPLE ST           0   \n",
              "\n",
              "   Domestic_New Crime_Type  Crime_Area  \n",
              "0             0          9    PROPERTY  \n",
              "1             1         19   RESIDENCE  \n",
              "2             0          7    PROPERTY  \n",
              "3             0          9    PROPERTY  \n",
              "4             0          9   RESIDENCE  \n",
              "\n",
              "[5 rows x 26 columns]"
            ],
            "text/html": [
              "\n",
              "  <div id=\"df-82363349-43cb-4868-8d3a-6db1a981a1ad\">\n",
              "    <div class=\"colab-df-container\">\n",
              "      <div>\n",
              "<style scoped>\n",
              "    .dataframe tbody tr th:only-of-type {\n",
              "        vertical-align: middle;\n",
              "    }\n",
              "\n",
              "    .dataframe tbody tr th {\n",
              "        vertical-align: top;\n",
              "    }\n",
              "\n",
              "    .dataframe thead th {\n",
              "        text-align: right;\n",
              "    }\n",
              "</style>\n",
              "<table border=\"1\" class=\"dataframe\">\n",
              "  <thead>\n",
              "    <tr style=\"text-align: right;\">\n",
              "      <th></th>\n",
              "      <th>ID</th>\n",
              "      <th>Block</th>\n",
              "      <th>IUCR</th>\n",
              "      <th>Primary Type</th>\n",
              "      <th>Description</th>\n",
              "      <th>Location Description</th>\n",
              "      <th>Arrest</th>\n",
              "      <th>Domestic</th>\n",
              "      <th>Beat</th>\n",
              "      <th>District</th>\n",
              "      <th>...</th>\n",
              "      <th>Latitude</th>\n",
              "      <th>Longitude</th>\n",
              "      <th>Location</th>\n",
              "      <th>day</th>\n",
              "      <th>time</th>\n",
              "      <th>Street_Name</th>\n",
              "      <th>Arrest_New</th>\n",
              "      <th>Domestic_New</th>\n",
              "      <th>Crime_Type</th>\n",
              "      <th>Crime_Area</th>\n",
              "    </tr>\n",
              "  </thead>\n",
              "  <tbody>\n",
              "    <tr>\n",
              "      <th>0</th>\n",
              "      <td>12016034</td>\n",
              "      <td>018XX N WINNEBAGO AVE</td>\n",
              "      <td>1153</td>\n",
              "      <td>DECEPTIVE PRACTICE</td>\n",
              "      <td>FINANCIAL IDENTITY THEFT OVER $ 300</td>\n",
              "      <td>APARTMENT</td>\n",
              "      <td>False</td>\n",
              "      <td>False</td>\n",
              "      <td>1434</td>\n",
              "      <td>14</td>\n",
              "      <td>...</td>\n",
              "      <td>41.915306</td>\n",
              "      <td>-87.686639</td>\n",
              "      <td>(41.915306069, -87.686639247)</td>\n",
              "      <td>1</td>\n",
              "      <td>00:00:00</td>\n",
              "      <td>WINNEBAGO AVE</td>\n",
              "      <td>0</td>\n",
              "      <td>0</td>\n",
              "      <td>9</td>\n",
              "      <td>PROPERTY</td>\n",
              "    </tr>\n",
              "    <tr>\n",
              "      <th>1</th>\n",
              "      <td>12220321</td>\n",
              "      <td>091XX S DREXEL AVE</td>\n",
              "      <td>1752</td>\n",
              "      <td>OFFENSE INVOLVING CHILDREN</td>\n",
              "      <td>AGGRAVATED CRIMINAL SEXUAL ABUSE BY FAMILY MEMBER</td>\n",
              "      <td>RESIDENCE</td>\n",
              "      <td>False</td>\n",
              "      <td>True</td>\n",
              "      <td>413</td>\n",
              "      <td>4</td>\n",
              "      <td>...</td>\n",
              "      <td>41.728192</td>\n",
              "      <td>-87.600985</td>\n",
              "      <td>(41.728192429, -87.600985433)</td>\n",
              "      <td>1</td>\n",
              "      <td>00:00:00</td>\n",
              "      <td>DREXEL AVE</td>\n",
              "      <td>0</td>\n",
              "      <td>1</td>\n",
              "      <td>19</td>\n",
              "      <td>RESIDENCE</td>\n",
              "    </tr>\n",
              "    <tr>\n",
              "      <th>2</th>\n",
              "      <td>12013828</td>\n",
              "      <td>044XX S LAVERGNE AVE</td>\n",
              "      <td>281</td>\n",
              "      <td>CRIMINAL SEXUAL ASSAULT</td>\n",
              "      <td>NON-AGGRAVATED</td>\n",
              "      <td>APARTMENT</td>\n",
              "      <td>False</td>\n",
              "      <td>False</td>\n",
              "      <td>814</td>\n",
              "      <td>8</td>\n",
              "      <td>...</td>\n",
              "      <td>41.812274</td>\n",
              "      <td>-87.748177</td>\n",
              "      <td>(41.81227369, -87.748176594)</td>\n",
              "      <td>1</td>\n",
              "      <td>00:00:00</td>\n",
              "      <td>LAVERGNE AVE</td>\n",
              "      <td>0</td>\n",
              "      <td>0</td>\n",
              "      <td>7</td>\n",
              "      <td>PROPERTY</td>\n",
              "    </tr>\n",
              "    <tr>\n",
              "      <th>3</th>\n",
              "      <td>12019692</td>\n",
              "      <td>032XX N LINCOLN AVE</td>\n",
              "      <td>1153</td>\n",
              "      <td>DECEPTIVE PRACTICE</td>\n",
              "      <td>FINANCIAL IDENTITY THEFT OVER $ 300</td>\n",
              "      <td>APARTMENT</td>\n",
              "      <td>False</td>\n",
              "      <td>False</td>\n",
              "      <td>1922</td>\n",
              "      <td>19</td>\n",
              "      <td>...</td>\n",
              "      <td>41.940222</td>\n",
              "      <td>-87.669039</td>\n",
              "      <td>(41.940221932, -87.669039008)</td>\n",
              "      <td>1</td>\n",
              "      <td>00:00:00</td>\n",
              "      <td>LINCOLN AVE</td>\n",
              "      <td>0</td>\n",
              "      <td>0</td>\n",
              "      <td>9</td>\n",
              "      <td>PROPERTY</td>\n",
              "    </tr>\n",
              "    <tr>\n",
              "      <th>4</th>\n",
              "      <td>12036792</td>\n",
              "      <td>072XX S WHIPPLE ST</td>\n",
              "      <td>1154</td>\n",
              "      <td>DECEPTIVE PRACTICE</td>\n",
              "      <td>FINANCIAL IDENTITY THEFT $300 AND UNDER</td>\n",
              "      <td>RESIDENCE</td>\n",
              "      <td>False</td>\n",
              "      <td>False</td>\n",
              "      <td>831</td>\n",
              "      <td>8</td>\n",
              "      <td>...</td>\n",
              "      <td>41.762067</td>\n",
              "      <td>-87.699077</td>\n",
              "      <td>(41.762066981, -87.699077348)</td>\n",
              "      <td>1</td>\n",
              "      <td>00:00:00</td>\n",
              "      <td>WHIPPLE ST</td>\n",
              "      <td>0</td>\n",
              "      <td>0</td>\n",
              "      <td>9</td>\n",
              "      <td>RESIDENCE</td>\n",
              "    </tr>\n",
              "  </tbody>\n",
              "</table>\n",
              "<p>5 rows × 26 columns</p>\n",
              "</div>\n",
              "      <button class=\"colab-df-convert\" onclick=\"convertToInteractive('df-82363349-43cb-4868-8d3a-6db1a981a1ad')\"\n",
              "              title=\"Convert this dataframe to an interactive table.\"\n",
              "              style=\"display:none;\">\n",
              "        \n",
              "  <svg xmlns=\"http://www.w3.org/2000/svg\" height=\"24px\"viewBox=\"0 0 24 24\"\n",
              "       width=\"24px\">\n",
              "    <path d=\"M0 0h24v24H0V0z\" fill=\"none\"/>\n",
              "    <path d=\"M18.56 5.44l.94 2.06.94-2.06 2.06-.94-2.06-.94-.94-2.06-.94 2.06-2.06.94zm-11 1L8.5 8.5l.94-2.06 2.06-.94-2.06-.94L8.5 2.5l-.94 2.06-2.06.94zm10 10l.94 2.06.94-2.06 2.06-.94-2.06-.94-.94-2.06-.94 2.06-2.06.94z\"/><path d=\"M17.41 7.96l-1.37-1.37c-.4-.4-.92-.59-1.43-.59-.52 0-1.04.2-1.43.59L10.3 9.45l-7.72 7.72c-.78.78-.78 2.05 0 2.83L4 21.41c.39.39.9.59 1.41.59.51 0 1.02-.2 1.41-.59l7.78-7.78 2.81-2.81c.8-.78.8-2.07 0-2.86zM5.41 20L4 18.59l7.72-7.72 1.47 1.35L5.41 20z\"/>\n",
              "  </svg>\n",
              "      </button>\n",
              "      \n",
              "  <style>\n",
              "    .colab-df-container {\n",
              "      display:flex;\n",
              "      flex-wrap:wrap;\n",
              "      gap: 12px;\n",
              "    }\n",
              "\n",
              "    .colab-df-convert {\n",
              "      background-color: #E8F0FE;\n",
              "      border: none;\n",
              "      border-radius: 50%;\n",
              "      cursor: pointer;\n",
              "      display: none;\n",
              "      fill: #1967D2;\n",
              "      height: 32px;\n",
              "      padding: 0 0 0 0;\n",
              "      width: 32px;\n",
              "    }\n",
              "\n",
              "    .colab-df-convert:hover {\n",
              "      background-color: #E2EBFA;\n",
              "      box-shadow: 0px 1px 2px rgba(60, 64, 67, 0.3), 0px 1px 3px 1px rgba(60, 64, 67, 0.15);\n",
              "      fill: #174EA6;\n",
              "    }\n",
              "\n",
              "    [theme=dark] .colab-df-convert {\n",
              "      background-color: #3B4455;\n",
              "      fill: #D2E3FC;\n",
              "    }\n",
              "\n",
              "    [theme=dark] .colab-df-convert:hover {\n",
              "      background-color: #434B5C;\n",
              "      box-shadow: 0px 1px 3px 1px rgba(0, 0, 0, 0.15);\n",
              "      filter: drop-shadow(0px 1px 2px rgba(0, 0, 0, 0.3));\n",
              "      fill: #FFFFFF;\n",
              "    }\n",
              "  </style>\n",
              "\n",
              "      <script>\n",
              "        const buttonEl =\n",
              "          document.querySelector('#df-82363349-43cb-4868-8d3a-6db1a981a1ad button.colab-df-convert');\n",
              "        buttonEl.style.display =\n",
              "          google.colab.kernel.accessAllowed ? 'block' : 'none';\n",
              "\n",
              "        async function convertToInteractive(key) {\n",
              "          const element = document.querySelector('#df-82363349-43cb-4868-8d3a-6db1a981a1ad');\n",
              "          const dataTable =\n",
              "            await google.colab.kernel.invokeFunction('convertToInteractive',\n",
              "                                                     [key], {});\n",
              "          if (!dataTable) return;\n",
              "\n",
              "          const docLinkHtml = 'Like what you see? Visit the ' +\n",
              "            '<a target=\"_blank\" href=https://colab.research.google.com/notebooks/data_table.ipynb>data table notebook</a>'\n",
              "            + ' to learn more about interactive tables.';\n",
              "          element.innerHTML = '';\n",
              "          dataTable['output_type'] = 'display_data';\n",
              "          await google.colab.output.renderOutput(dataTable, element);\n",
              "          const docLink = document.createElement('div');\n",
              "          docLink.innerHTML = docLinkHtml;\n",
              "          element.appendChild(docLink);\n",
              "        }\n",
              "      </script>\n",
              "    </div>\n",
              "  </div>\n",
              "  "
            ]
          },
          "metadata": {},
          "execution_count": 34
        }
      ]
    },
    {
      "cell_type": "markdown",
      "metadata": {
        "id": "i9fMYrFwkEVD"
      },
      "source": [
        "# **MODEL CONSTRUCTION**\n"
      ]
    },
    {
      "cell_type": "code",
      "metadata": {
        "id": "YL6bYnIAhsd6",
        "colab": {
          "base_uri": "https://localhost:8080/",
          "height": 239
        },
        "outputId": "4c0aaef1-af04-4248-c401-cf03ee1dc100"
      },
      "source": [
        "#categorical data to numeric\n",
        "df['Street_Name'] = df['Street_Name'].astype('category')\n",
        "df['Crime_Area'] = df['Crime_Area'].astype('category')\n",
        "df[\"CrimeArea_New\"]=df[\"Crime_Area\"].cat.codes\n",
        "df[\"StreetName_New\"] = df[\"Street_Name\"].cat.codes"
      ],
      "execution_count": null,
      "outputs": [
        {
          "output_type": "error",
          "ename": "NameError",
          "evalue": "ignored",
          "traceback": [
            "\u001b[0;31m---------------------------------------------------------------------------\u001b[0m",
            "\u001b[0;31mNameError\u001b[0m                                 Traceback (most recent call last)",
            "\u001b[0;32m<ipython-input-2-41d4a2aa2bdd>\u001b[0m in \u001b[0;36m<module>\u001b[0;34m()\u001b[0m\n\u001b[1;32m      1\u001b[0m \u001b[0;31m#categorical data to numeric\u001b[0m\u001b[0;34m\u001b[0m\u001b[0;34m\u001b[0m\u001b[0;34m\u001b[0m\u001b[0m\n\u001b[0;32m----> 2\u001b[0;31m \u001b[0mdf\u001b[0m\u001b[0;34m[\u001b[0m\u001b[0;34m'Street_Name'\u001b[0m\u001b[0;34m]\u001b[0m \u001b[0;34m=\u001b[0m \u001b[0mdf\u001b[0m\u001b[0;34m[\u001b[0m\u001b[0;34m'Street_Name'\u001b[0m\u001b[0;34m]\u001b[0m\u001b[0;34m.\u001b[0m\u001b[0mastype\u001b[0m\u001b[0;34m(\u001b[0m\u001b[0;34m'category'\u001b[0m\u001b[0;34m)\u001b[0m\u001b[0;34m\u001b[0m\u001b[0;34m\u001b[0m\u001b[0m\n\u001b[0m\u001b[1;32m      3\u001b[0m \u001b[0mdf\u001b[0m\u001b[0;34m[\u001b[0m\u001b[0;34m'Crime_Area'\u001b[0m\u001b[0;34m]\u001b[0m \u001b[0;34m=\u001b[0m \u001b[0mdf\u001b[0m\u001b[0;34m[\u001b[0m\u001b[0;34m'Crime_Area'\u001b[0m\u001b[0;34m]\u001b[0m\u001b[0;34m.\u001b[0m\u001b[0mastype\u001b[0m\u001b[0;34m(\u001b[0m\u001b[0;34m'category'\u001b[0m\u001b[0;34m)\u001b[0m\u001b[0;34m\u001b[0m\u001b[0;34m\u001b[0m\u001b[0m\n\u001b[1;32m      4\u001b[0m \u001b[0mdf\u001b[0m\u001b[0;34m[\u001b[0m\u001b[0;34m\"CrimeArea_New\"\u001b[0m\u001b[0;34m]\u001b[0m\u001b[0;34m=\u001b[0m\u001b[0mdf\u001b[0m\u001b[0;34m[\u001b[0m\u001b[0;34m\"Crime_Area\"\u001b[0m\u001b[0;34m]\u001b[0m\u001b[0;34m.\u001b[0m\u001b[0mcat\u001b[0m\u001b[0;34m.\u001b[0m\u001b[0mcodes\u001b[0m\u001b[0;34m\u001b[0m\u001b[0;34m\u001b[0m\u001b[0m\n\u001b[1;32m      5\u001b[0m \u001b[0mdf\u001b[0m\u001b[0;34m[\u001b[0m\u001b[0;34m\"StreetName_New\"\u001b[0m\u001b[0;34m]\u001b[0m \u001b[0;34m=\u001b[0m \u001b[0mdf\u001b[0m\u001b[0;34m[\u001b[0m\u001b[0;34m\"Street_Name\"\u001b[0m\u001b[0;34m]\u001b[0m\u001b[0;34m.\u001b[0m\u001b[0mcat\u001b[0m\u001b[0;34m.\u001b[0m\u001b[0mcodes\u001b[0m\u001b[0;34m\u001b[0m\u001b[0;34m\u001b[0m\u001b[0m\n",
            "\u001b[0;31mNameError\u001b[0m: name 'df' is not defined"
          ]
        }
      ]
    },
    {
      "cell_type": "code",
      "metadata": {
        "id": "TfsGQ_Sr1Flc",
        "colab": {
          "base_uri": "https://localhost:8080/",
          "height": 186
        },
        "outputId": "6c76855c-bf3f-4f24-f259-1f9fd50d6a1d"
      },
      "source": [
        "#unneccesary columns have been dropped\n",
        "df = df.drop(['ID','IUCR','Arrest','Domestic','Block','Description','FBI Code','X Coordinate','Y Coordinate','Updated On','Location','time','Street_Name','Crime_Area'],axis=1)"
      ],
      "execution_count": null,
      "outputs": [
        {
          "output_type": "error",
          "ename": "NameError",
          "evalue": "ignored",
          "traceback": [
            "\u001b[0;31m---------------------------------------------------------------------------\u001b[0m",
            "\u001b[0;31mNameError\u001b[0m                                 Traceback (most recent call last)",
            "\u001b[0;32m<ipython-input-3-00b4075dcefc>\u001b[0m in \u001b[0;36m<module>\u001b[0;34m()\u001b[0m\n\u001b[1;32m      1\u001b[0m \u001b[0;31m#unneccesary columns have been dropped\u001b[0m\u001b[0;34m\u001b[0m\u001b[0;34m\u001b[0m\u001b[0;34m\u001b[0m\u001b[0m\n\u001b[0;32m----> 2\u001b[0;31m \u001b[0mdf\u001b[0m \u001b[0;34m=\u001b[0m \u001b[0mdf\u001b[0m\u001b[0;34m.\u001b[0m\u001b[0mdrop\u001b[0m\u001b[0;34m(\u001b[0m\u001b[0;34m[\u001b[0m\u001b[0;34m'ID'\u001b[0m\u001b[0;34m,\u001b[0m\u001b[0;34m'IUCR'\u001b[0m\u001b[0;34m,\u001b[0m\u001b[0;34m'Arrest'\u001b[0m\u001b[0;34m,\u001b[0m\u001b[0;34m'Domestic'\u001b[0m\u001b[0;34m,\u001b[0m\u001b[0;34m'Block'\u001b[0m\u001b[0;34m,\u001b[0m\u001b[0;34m'Description'\u001b[0m\u001b[0;34m,\u001b[0m\u001b[0;34m'FBI Code'\u001b[0m\u001b[0;34m,\u001b[0m\u001b[0;34m'X Coordinate'\u001b[0m\u001b[0;34m,\u001b[0m\u001b[0;34m'Y Coordinate'\u001b[0m\u001b[0;34m,\u001b[0m\u001b[0;34m'Updated On'\u001b[0m\u001b[0;34m,\u001b[0m\u001b[0;34m'Location'\u001b[0m\u001b[0;34m,\u001b[0m\u001b[0;34m'time'\u001b[0m\u001b[0;34m,\u001b[0m\u001b[0;34m'Street_Name'\u001b[0m\u001b[0;34m,\u001b[0m\u001b[0;34m'Crime_Area'\u001b[0m\u001b[0;34m]\u001b[0m\u001b[0;34m,\u001b[0m\u001b[0maxis\u001b[0m\u001b[0;34m=\u001b[0m\u001b[0;36m1\u001b[0m\u001b[0;34m)\u001b[0m\u001b[0;34m\u001b[0m\u001b[0;34m\u001b[0m\u001b[0m\n\u001b[0m",
            "\u001b[0;31mNameError\u001b[0m: name 'df' is not defined"
          ]
        }
      ]
    },
    {
      "cell_type": "code",
      "metadata": {
        "id": "PXP343Je2ZYa"
      },
      "source": [
        "# encode Primary Type column to be numerical\n",
        "\n",
        "from sklearn.preprocessing import LabelEncoder\n",
        "le = LabelEncoder()\n",
        "df['Primary Type']=le.fit_transform(df['Primary Type'])"
      ],
      "execution_count": null,
      "outputs": []
    },
    {
      "cell_type": "code",
      "metadata": {
        "id": "xpuXK3E_3OCM"
      },
      "source": [
        "# encode Location Description column to be numerical\n",
        "df['Location Description']=le.fit_transform(df['Location Description'])"
      ],
      "execution_count": null,
      "outputs": []
    },
    {
      "cell_type": "code",
      "metadata": {
        "id": "R41DFhoL70kA"
      },
      "source": [
        "df.dtypes"
      ],
      "execution_count": null,
      "outputs": []
    },
    {
      "cell_type": "code",
      "metadata": {
        "id": "fj7n4wdn7-wC"
      },
      "source": [
        "# partioning independent and dependent data\n",
        "\n",
        "X=df.drop('Arrest_New',axis=1)\n",
        "y=df['Arrest_New']"
      ],
      "execution_count": null,
      "outputs": []
    },
    {
      "cell_type": "code",
      "metadata": {
        "id": "-seg4hWw8Gt0"
      },
      "source": [
        "# check if any column are having constant variance\n",
        "\n",
        "from sklearn.feature_selection import VarianceThreshold\n",
        "vt=VarianceThreshold(threshold=0.0)\n",
        "vt.fit_transform(X)\n",
        "vt.get_support()"
      ],
      "execution_count": null,
      "outputs": []
    },
    {
      "cell_type": "code",
      "metadata": {
        "id": "pkO2IxCj9K1n"
      },
      "source": [
        "#Using Pearson Correlation\n",
        "plt.figure(figsize=(12,10))\n",
        "cor = df.corr()\n",
        "sns.heatmap(cor, annot=True, cmap=plt.cm.RdYlGn)\n",
        "plt.show()"
      ],
      "execution_count": null,
      "outputs": []
    },
    {
      "cell_type": "code",
      "metadata": {
        "id": "vDJuRVdW_zHP"
      },
      "source": [
        "# check if any column are having correlation coefficient value of more than 0.9\n",
        "\n",
        "def correlation_check(df,val):\n",
        "    corr_matrix=df.corr()\n",
        "    features=set()\n",
        "    for i in range(len(corr_matrix)):\n",
        "        for j in range(i):\n",
        "            if corr_matrix.iloc[i,j]>0.9:\n",
        "                features.add(corr_matrix.columns[i])\n",
        "    return features"
      ],
      "execution_count": null,
      "outputs": []
    },
    {
      "cell_type": "code",
      "metadata": {
        "id": "au9Qk6MD9L5k"
      },
      "source": [
        "# more than 0.9 correlation coefficient check\n",
        "\n",
        "columns=correlation_check(X,0.9)\n",
        "columns"
      ],
      "execution_count": null,
      "outputs": []
    },
    {
      "cell_type": "code",
      "metadata": {
        "id": "dizZNhVw8Ytr"
      },
      "source": [
        "# remove 'Crime Type' and 'District' column as it is highly correlated with other column\n",
        "\n",
        "X.drop(columns,axis=1,inplace=True)"
      ],
      "execution_count": null,
      "outputs": []
    },
    {
      "cell_type": "code",
      "metadata": {
        "id": "6vASalef9hPk"
      },
      "source": [
        "X.shape"
      ],
      "execution_count": null,
      "outputs": []
    },
    {
      "cell_type": "code",
      "metadata": {
        "id": "JFZAz8kSg5dP"
      },
      "source": [
        "# Scale\n",
        "from sklearn import preprocessing\n",
        "X = preprocessing.scale(X)"
      ],
      "execution_count": null,
      "outputs": []
    },
    {
      "cell_type": "code",
      "metadata": {
        "id": "9YStgQ5R9hWi"
      },
      "source": [
        "# Feature Scaling\n",
        "from sklearn.preprocessing import StandardScaler\n",
        "ss=StandardScaler()\n",
        "X_norm=ss.fit_transform(X)"
      ],
      "execution_count": null,
      "outputs": []
    },
    {
      "cell_type": "code",
      "metadata": {
        "id": "4ntFPHwC--is"
      },
      "source": [
        "X_norm #what is the purpose of this ??"
      ],
      "execution_count": null,
      "outputs": []
    },
    {
      "cell_type": "code",
      "metadata": {
        "id": "QhCPOW4j-NAX"
      },
      "source": [
        "# cross validation\n",
        "\n",
        "from sklearn.model_selection import train_test_split\n",
        "X_train,X_test,y_train,y_test=train_test_split(X_norm,y,test_size=0.2,random_state=0)\n",
        "X_train.shape,X_test.shape"
      ],
      "execution_count": null,
      "outputs": []
    },
    {
      "cell_type": "code",
      "metadata": {
        "id": "luPVqyN8-R-D"
      },
      "source": [
        "# train and test row number\n",
        "\n",
        "y_train.shape,y_test.shape"
      ],
      "execution_count": null,
      "outputs": []
    },
    {
      "cell_type": "markdown",
      "metadata": {
        "id": "Re98qYYESIjG"
      },
      "source": [
        "# **RANDOM FOREST** - Faris Zulfiqar TP050312"
      ]
    },
    {
      "cell_type": "code",
      "metadata": {
        "id": "zl4cgnfppafN"
      },
      "source": [
        "#importing Model\n",
        "from sklearn.ensemble import RandomForestClassifier"
      ],
      "execution_count": null,
      "outputs": []
    },
    {
      "cell_type": "code",
      "metadata": {
        "colab": {
          "base_uri": "https://localhost:8080/"
        },
        "id": "mkMkIwL4pcTp",
        "outputId": "82768381-1bdb-492b-fa94-89a5b19168ff"
      },
      "source": [
        "#Definig model and fitting to training data\n",
        "rfreg = RandomForestClassifier(n_estimators = 10, random_state=0)\n",
        "\n",
        "rfreg.fit(X_train, y_train)"
      ],
      "execution_count": null,
      "outputs": [
        {
          "output_type": "execute_result",
          "data": {
            "text/plain": [
              "RandomForestClassifier(bootstrap=True, ccp_alpha=0.0, class_weight=None,\n",
              "                       criterion='gini', max_depth=None, max_features='auto',\n",
              "                       max_leaf_nodes=None, max_samples=None,\n",
              "                       min_impurity_decrease=0.0, min_impurity_split=None,\n",
              "                       min_samples_leaf=1, min_samples_split=2,\n",
              "                       min_weight_fraction_leaf=0.0, n_estimators=10,\n",
              "                       n_jobs=None, oob_score=False, random_state=0, verbose=0,\n",
              "                       warm_start=False)"
            ]
          },
          "metadata": {
            "tags": []
          },
          "execution_count": 48
        }
      ]
    },
    {
      "cell_type": "code",
      "metadata": {
        "id": "0FWb2DbUpcLK"
      },
      "source": [
        "# Predicting y value\n",
        "y_predict_rfr = rfreg.predict((X_test))\n"
      ],
      "execution_count": null,
      "outputs": []
    },
    {
      "cell_type": "code",
      "metadata": {
        "colab": {
          "base_uri": "https://localhost:8080/"
        },
        "id": "-OXKy1Fhpk0e",
        "outputId": "7b1be8a4-98cc-4652-bb08-4c2e2e1bafab"
      },
      "source": [
        "\n",
        "# Model Evaluation metrics \n",
        "from sklearn.metrics import accuracy_score,recall_score,precision_score,f1_score\n",
        "print(\"==== BEFORE TUNING ====\\n\")\n",
        "print(f'Train Accuracy -      : {rfreg.score(X_train,y_train):.6f}')\n",
        "print('Test Accuracy Score   : ' + str(accuracy_score(y_test,y_predict_rfr)))\n",
        "print('Precision Score       : ' + str(precision_score(y_test,y_predict_rfr)))\n",
        "print('Recall Score          : ' + str(recall_score(y_test,y_predict_rfr)))\n",
        "print('F1 Score              : ' + str(f1_score(y_test,y_predict_rfr)))\n",
        "\n",
        "# Random forest Classifier Confusion matrix\n",
        "from sklearn.metrics import confusion_matrix, classification_report\n",
        "print('\\nConfusion Matrix : \\n' + str(confusion_matrix(y_test,y_predict_rfr)))"
      ],
      "execution_count": null,
      "outputs": [
        {
          "output_type": "stream",
          "text": [
            "==== BEFORE TUNING ====\n",
            "\n",
            "Train Accuracy -      : 0.982418\n",
            "Test Accuracy Score   : 0.8532344668882639\n",
            "Precision Score       : 0.7954144620811288\n",
            "Recall Score          : 0.4961496149614962\n",
            "F1 Score              : 0.6111111111111112\n",
            "\n",
            "Confusion Matrix : \n",
            "[[2886  116]\n",
            " [ 458  451]]\n"
          ],
          "name": "stdout"
        }
      ]
    },
    {
      "cell_type": "code",
      "metadata": {
        "colab": {
          "base_uri": "https://localhost:8080/"
        },
        "id": "zDRzH8RupmqK",
        "outputId": "8aac4b43-39a8-41e2-f1c2-b6e0e4ea26a2"
      },
      "source": [
        "#Classification report for Random Forest model before tuning\n",
        "print(classification_report(y_test, y_predict_rfr))"
      ],
      "execution_count": null,
      "outputs": [
        {
          "output_type": "stream",
          "text": [
            "              precision    recall  f1-score   support\n",
            "\n",
            "           0       0.86      0.96      0.91      3002\n",
            "           1       0.80      0.50      0.61       909\n",
            "\n",
            "    accuracy                           0.85      3911\n",
            "   macro avg       0.83      0.73      0.76      3911\n",
            "weighted avg       0.85      0.85      0.84      3911\n",
            "\n"
          ],
          "name": "stdout"
        }
      ]
    },
    {
      "cell_type": "code",
      "metadata": {
        "colab": {
          "base_uri": "https://localhost:8080/"
        },
        "id": "sXDQz27iptTf",
        "outputId": "6d942ec3-7110-4fba-f7cb-a3f00370227e"
      },
      "source": [
        "print(f'Train Accuracy - : {rfreg.score(X_train,y_train):.6f}')\n",
        "print(f'Test Accuracy - : {rfreg.score(X_test,y_test):.6f}')"
      ],
      "execution_count": null,
      "outputs": [
        {
          "output_type": "stream",
          "text": [
            "Train Accuracy - : 0.982418\n",
            "Test Accuracy - : 0.853234\n"
          ],
          "name": "stdout"
        }
      ]
    },
    {
      "cell_type": "code",
      "metadata": {
        "id": "-_8AT25rpucK"
      },
      "source": [
        "#Declaring parameters individually\n",
        "from sklearn.model_selection import GridSearchCV\n",
        "\n",
        "n_estimators = [int(x) for x in np.linspace(start = 10, stop = 80, num = 10 )]\n",
        "max_features = ['auto', 'sqrt']\n",
        "max_depth = [2, 4]\n",
        "min_samples_split = [2,5]\n",
        "min_samples_leaf = [1,2]\n",
        "bootstrap = [True , False]"
      ],
      "execution_count": null,
      "outputs": []
    },
    {
      "cell_type": "code",
      "metadata": {
        "colab": {
          "base_uri": "https://localhost:8080/"
        },
        "id": "BYifthb9pzj3",
        "outputId": "6049aebe-68a7-4b03-8ec4-c8dbf6eeaa50"
      },
      "source": [
        "# Putting parameters into a grid\n",
        "param_grid = {'n_estimators' : n_estimators,\n",
        "              'max_features' : max_features,\n",
        "              'max_depth' : max_depth,\n",
        "              'min_samples_split' : min_samples_split,\n",
        "              'min_samples_leaf' : min_samples_leaf,\n",
        "              'bootstrap' : bootstrap,\n",
        "              \n",
        "\n",
        "              }\n",
        "\n",
        "print(param_grid)\n",
        "random_grid = param_grid\n"
      ],
      "execution_count": null,
      "outputs": [
        {
          "output_type": "stream",
          "text": [
            "{'n_estimators': [10, 17, 25, 33, 41, 48, 56, 64, 72, 80], 'max_features': ['auto', 'sqrt'], 'max_depth': [2, 4], 'min_samples_split': [2, 5], 'min_samples_leaf': [1, 2], 'bootstrap': [True, False]}\n"
          ],
          "name": "stdout"
        }
      ]
    },
    {
      "cell_type": "code",
      "metadata": {
        "id": "Ax0yDEKzpuZ6"
      },
      "source": [
        "#loading Random Forest Model\n",
        "rfreg2 = RandomForestClassifier()\n"
      ],
      "execution_count": null,
      "outputs": []
    },
    {
      "cell_type": "code",
      "metadata": {
        "id": "c-j8xuyHpuYy"
      },
      "source": [
        "#Generating GridSearchCV instance \n",
        "rf_grid = GridSearchCV(estimator= rfreg2, param_grid= random_grid, cv = 3, verbose = 2, n_jobs=4)"
      ],
      "execution_count": null,
      "outputs": []
    },
    {
      "cell_type": "code",
      "metadata": {
        "colab": {
          "base_uri": "https://localhost:8080/"
        },
        "id": "YtY2329opuVh",
        "outputId": "48f3ae90-8928-4c11-aaad-d5b6605e3cc7"
      },
      "source": [
        "#Fitting training model to Random Forest model using GridSearcgCV\n",
        "rf_grid.fit(X_train, y_train)"
      ],
      "execution_count": null,
      "outputs": [
        {
          "output_type": "stream",
          "text": [
            "Fitting 3 folds for each of 320 candidates, totalling 960 fits\n"
          ],
          "name": "stdout"
        },
        {
          "output_type": "stream",
          "text": [
            "[Parallel(n_jobs=4)]: Using backend LokyBackend with 4 concurrent workers.\n",
            "[Parallel(n_jobs=4)]: Done  33 tasks      | elapsed:    7.9s\n",
            "[Parallel(n_jobs=4)]: Done 154 tasks      | elapsed:   29.4s\n",
            "[Parallel(n_jobs=4)]: Done 357 tasks      | elapsed:  1.3min\n",
            "[Parallel(n_jobs=4)]: Done 640 tasks      | elapsed:  2.3min\n",
            "[Parallel(n_jobs=4)]: Done 960 out of 960 | elapsed:  3.8min finished\n"
          ],
          "name": "stderr"
        },
        {
          "output_type": "execute_result",
          "data": {
            "text/plain": [
              "GridSearchCV(cv=3, error_score=nan,\n",
              "             estimator=RandomForestClassifier(bootstrap=True, ccp_alpha=0.0,\n",
              "                                              class_weight=None,\n",
              "                                              criterion='gini', max_depth=None,\n",
              "                                              max_features='auto',\n",
              "                                              max_leaf_nodes=None,\n",
              "                                              max_samples=None,\n",
              "                                              min_impurity_decrease=0.0,\n",
              "                                              min_impurity_split=None,\n",
              "                                              min_samples_leaf=1,\n",
              "                                              min_samples_split=2,\n",
              "                                              min_weight_fraction_leaf=0.0,\n",
              "                                              n_estimators=100, n_jobs=None,\n",
              "                                              oob_score=False,\n",
              "                                              random_state=None, verbose=0,\n",
              "                                              warm_start=False),\n",
              "             iid='deprecated', n_jobs=4,\n",
              "             param_grid={'bootstrap': [True, False], 'max_depth': [2, 4],\n",
              "                         'max_features': ['auto', 'sqrt'],\n",
              "                         'min_samples_leaf': [1, 2],\n",
              "                         'min_samples_split': [2, 5],\n",
              "                         'n_estimators': [10, 17, 25, 33, 41, 48, 56, 64, 72,\n",
              "                                          80]},\n",
              "             pre_dispatch='2*n_jobs', refit=True, return_train_score=False,\n",
              "             scoring=None, verbose=2)"
            ]
          },
          "metadata": {
            "tags": []
          },
          "execution_count": 58
        }
      ]
    },
    {
      "cell_type": "code",
      "metadata": {
        "colab": {
          "base_uri": "https://localhost:8080/"
        },
        "id": "iisXUXgTpuRh",
        "outputId": "2e520a0d-661b-4d67-91c2-d6c8719416b4"
      },
      "source": [
        "#Best parameters\n",
        "rf_grid.best_params_"
      ],
      "execution_count": null,
      "outputs": [
        {
          "output_type": "execute_result",
          "data": {
            "text/plain": [
              "{'bootstrap': True,\n",
              " 'max_depth': 4,\n",
              " 'max_features': 'auto',\n",
              " 'min_samples_leaf': 2,\n",
              " 'min_samples_split': 5,\n",
              " 'n_estimators': 10}"
            ]
          },
          "metadata": {
            "tags": []
          },
          "execution_count": 59
        }
      ]
    },
    {
      "cell_type": "code",
      "metadata": {
        "colab": {
          "base_uri": "https://localhost:8080/"
        },
        "id": "nRtrO3FppuKq",
        "outputId": "44c4e00b-3e55-481b-f262-3e84ef8f3d42"
      },
      "source": [
        "print(f'Train Accuracy - : {rf_grid.score(X_train,y_train):.6f}')\n",
        "print(f'Test Accuracy - : {rf_grid.score(X_test,y_test):.6f}')"
      ],
      "execution_count": null,
      "outputs": [
        {
          "output_type": "stream",
          "text": [
            "Train Accuracy - : 0.792660\n",
            "Test Accuracy - : 0.788034\n"
          ],
          "name": "stdout"
        }
      ]
    },
    {
      "cell_type": "code",
      "metadata": {
        "id": "yVPNEZDGp8KZ"
      },
      "source": [
        "y_predict_acc = rf_grid.predict(X_test)"
      ],
      "execution_count": null,
      "outputs": []
    },
    {
      "cell_type": "code",
      "metadata": {
        "colab": {
          "base_uri": "https://localhost:8080/"
        },
        "id": "xXoH6Pzsp9UP",
        "outputId": "8cf15d23-a4e3-4c94-c74a-fe9db6042709"
      },
      "source": [
        "# Model Evaluation metrics after model tuning\n",
        "print(\"==== AFTER TUNING ====\\n\")\n",
        "from sklearn.metrics import accuracy_score,recall_score,precision_score,f1_score\n",
        "print(f'Train Accuracy -      : {rf_grid.score(X_train,y_train):.6f}')\n",
        "print('Test Accuracy Score   : ' + str(accuracy_score(y_test,y_predict_acc)))\n",
        "print('Precision Score       : ' + str(precision_score(y_test,y_predict_acc)))\n",
        "print('Recall Score          : ' + str(recall_score(y_test,y_predict_acc)))\n",
        "print('F1 Score              : ' + str(f1_score(y_test,y_predict_acc)))\n",
        "\n",
        "#Random Forest Classifier Confusion matrix\n",
        "from sklearn.metrics import confusion_matrix, classification_report\n",
        "print('\\nConfusion Matrix : \\n' + str(confusion_matrix(y_test,y_predict_acc)))"
      ],
      "execution_count": null,
      "outputs": [
        {
          "output_type": "stream",
          "text": [
            "==== AFTER TUNING ====\n",
            "\n",
            "Train Accuracy -      : 0.792660\n",
            "Test Accuracy Score   : 0.7880337509588341\n",
            "Precision Score       : 0.75\n",
            "Recall Score          : 0.132013201320132\n",
            "F1 Score              : 0.22450888681010286\n",
            "\n",
            "Confusion Matrix : \n",
            "[[2962   40]\n",
            " [ 789  120]]\n"
          ],
          "name": "stdout"
        }
      ]
    },
    {
      "cell_type": "code",
      "metadata": {
        "colab": {
          "base_uri": "https://localhost:8080/"
        },
        "id": "MK0xUq3hp-Gy",
        "outputId": "07c3eb1d-d202-470b-9a99-7b5b1e76efc8"
      },
      "source": [
        "print(classification_report(y_test, y_predict_acc))"
      ],
      "execution_count": null,
      "outputs": [
        {
          "output_type": "stream",
          "text": [
            "              precision    recall  f1-score   support\n",
            "\n",
            "           0       0.79      0.99      0.88      3002\n",
            "           1       0.75      0.13      0.22       909\n",
            "\n",
            "    accuracy                           0.79      3911\n",
            "   macro avg       0.77      0.56      0.55      3911\n",
            "weighted avg       0.78      0.79      0.73      3911\n",
            "\n"
          ],
          "name": "stdout"
        }
      ]
    },
    {
      "cell_type": "markdown",
      "metadata": {
        "id": "2_Nx-3Z13EJ1"
      },
      "source": [
        "# **LOGISTIC REGRESSION** - Aisha Fakhar Iqbal TP050393"
      ]
    },
    {
      "cell_type": "code",
      "metadata": {
        "id": "tmo85IE4ZHaA"
      },
      "source": [
        "from sklearn.linear_model import LogisticRegression\n",
        "from sklearn import metrics\n",
        "from sklearn.metrics import accuracy_score,recall_score,precision_score,f1_score,mean_squared_error,classification_report, confusion_matrix, r2_score"
      ],
      "execution_count": null,
      "outputs": []
    },
    {
      "cell_type": "code",
      "metadata": {
        "id": "KByrmq7mZKzf"
      },
      "source": [
        "#Initial Logistic Regression \n",
        "logreg = LogisticRegression()\n",
        "\n",
        "#Training Logistic Regression Model  \n",
        "logfit = logreg.fit(X_train, y_train)\n",
        "\n",
        "#Predicting on X_test (predicted y value)\n",
        "y_pred = logreg.predict(X_test)"
      ],
      "execution_count": null,
      "outputs": []
    },
    {
      "cell_type": "code",
      "metadata": {
        "colab": {
          "base_uri": "https://localhost:8080/"
        },
        "id": "cgwSS4CQJJMQ",
        "outputId": "5faaf8bc-9f1e-4c96-e885-244935e9bbe1"
      },
      "source": [
        "#Generating Classification Report for logistic regression model \n",
        "print('**** BEFORE TUNING *****')\n",
        "print('************************')\n",
        "print(\" \")\n",
        "\n",
        "print(classification_report(y_test,y_pred))\n",
        "\n",
        "#f1-score shows that 1 is not being predicted by the model - suggests imbalance in Data. \n"
      ],
      "execution_count": null,
      "outputs": [
        {
          "output_type": "stream",
          "text": [
            "**** BEFORE TUNING *****\n",
            "************************\n",
            " \n",
            "              precision    recall  f1-score   support\n",
            "\n",
            "           0       0.77      1.00      0.87      3002\n",
            "           1       0.00      0.00      0.00       909\n",
            "\n",
            "    accuracy                           0.77      3911\n",
            "   macro avg       0.38      0.50      0.43      3911\n",
            "weighted avg       0.59      0.77      0.67      3911\n",
            "\n"
          ],
          "name": "stdout"
        },
        {
          "output_type": "stream",
          "text": [
            "/usr/local/lib/python3.7/dist-packages/sklearn/metrics/_classification.py:1272: UndefinedMetricWarning: Precision and F-score are ill-defined and being set to 0.0 in labels with no predicted samples. Use `zero_division` parameter to control this behavior.\n",
            "  _warn_prf(average, modifier, msg_start, len(result))\n"
          ],
          "name": "stderr"
        }
      ]
    },
    {
      "cell_type": "code",
      "metadata": {
        "colab": {
          "base_uri": "https://localhost:8080/"
        },
        "id": "9Ca3uP4_1jkT",
        "outputId": "16bb5e72-d609-4a4b-d9cb-d912d598af43"
      },
      "source": [
        "fig = plt.figure(figsize = (10,8))\n",
        "y_train.value_counts(normalize = True).plot(kind='bar', color= ['lightblue','purple'], alpha = 0.9, rot=0)\n",
        "plt.title('Arrest_New')\n",
        "plt.show()"
      ],
      "execution_count": null,
      "outputs": [
        {
          "output_type": "display_data",
          "data": {
            "image/png": "[encoded data removed]",
            "text/plain": [
              "<Figure size 720x576 with 1 Axes>"
            ]
          },
          "metadata": {
            "tags": []
          }
        }
      ]
    },
    {
      "cell_type": "code",
      "metadata": {
        "colab": {
          "base_uri": "https://localhost:8080/"
        },
        "id": "fEInrxljXvhi",
        "outputId": "ee1b63a4-aac8-4072-fe28-6259b6b0e7b2"
      },
      "source": [
        "#Over Sampeling done using SMOTE Technique - for building a better prediction model \n",
        "from imblearn.over_sampling import SMOTE\n",
        "\n",
        "# Seed used by the random number generator set to 0 - random gen needs a number to start generating numbers from\n",
        "sm = SMOTE(random_state = 0) \n",
        "\n",
        "#Oversampeling training data only - test set to be used for predictions\n",
        "X_train_os, y_train_os = sm.fit_sample(X_train, y_train)\n",
        "\n",
        "#ploting oversampled trained data to see no imbalance\n",
        "sns.countplot(y_train_os).set(title='Oversampled Arrest_New', xlabel='(0) Not Arrested / (1) Arrested', ylabel='Count')\n"
      ],
      "execution_count": null,
      "outputs": [
        {
          "output_type": "stream",
          "text": [
            "/usr/local/lib/python3.7/dist-packages/sklearn/utils/deprecation.py:87: FutureWarning: Function safe_indexing is deprecated; safe_indexing is deprecated in version 0.22 and will be removed in version 0.24.\n",
            "  warnings.warn(msg, category=FutureWarning)\n",
            "/usr/local/lib/python3.7/dist-packages/seaborn/_decorators.py:43: FutureWarning: Pass the following variable as a keyword arg: x. From version 0.12, the only valid positional argument will be `data`, and passing other arguments without an explicit keyword will result in an error or misinterpretation.\n",
            "  FutureWarning\n"
          ],
          "name": "stderr"
        },
        {
          "output_type": "execute_result",
          "data": {
            "text/plain": [
              "[Text(0, 0.5, 'Count'),\n",
              " Text(0.5, 0, '(0) Not Arrested / (1) Arrested'),\n",
              " Text(0.5, 1.0, 'Oversampled Arrest_New')]"
            ]
          },
          "metadata": {
            "tags": []
          },
          "execution_count": 84
        },
        {
          "output_type": "display_data",
          "data": {
            "image/png": "[encoded data removed]",
            "text/plain": [
              "<Figure size 432x288 with 1 Axes>"
            ]
          },
          "metadata": {
            "tags": []
          }
        }
      ]
    },
    {
      "cell_type": "code",
      "metadata": {
        "colab": {
          "base_uri": "https://localhost:8080/"
        },
        "id": "iNJPOCxzTc9j",
        "outputId": "ecf7d6e4-3035-4da1-c865-8b0bf3b01c36"
      },
      "source": [
        "# LOGISTIC REGRESSION - After over sampeling\n",
        "\n",
        "#creating object for Logistic Regression with default parameters \n",
        "os_logreg = LogisticRegression()\n",
        "\n",
        "# Training Logistic Regression with oversampled train data\n",
        "logfit = logreg.fit(X_train_os, y_train_os)\n",
        "\n",
        "#viewing default parameters of os_logreg\n",
        "logfit"
      ],
      "execution_count": null,
      "outputs": [
        {
          "output_type": "execute_result",
          "data": {
            "text/plain": [
              "LogisticRegression(C=1.0, class_weight=None, dual=False, fit_intercept=True,\n",
              "                   intercept_scaling=1, l1_ratio=None, max_iter=100,\n",
              "                   multi_class='auto', n_jobs=None, penalty='l2',\n",
              "                   random_state=None, solver='lbfgs', tol=0.0001, verbose=0,\n",
              "                   warm_start=False)"
            ]
          },
          "metadata": {
            "tags": []
          },
          "execution_count": 85
        }
      ]
    },
    {
      "cell_type": "code",
      "metadata": {
        "id": "pWYh_bWMTeUc"
      },
      "source": [
        "#Predicting on X_test (predicted y value)\n",
        "y_pred_os = logreg.predict(X_test)"
      ],
      "execution_count": null,
      "outputs": []
    },
    {
      "cell_type": "code",
      "metadata": {
        "colab": {
          "base_uri": "https://localhost:8080/"
        },
        "id": "CrlPh-jN9gOS",
        "outputId": "a05742f4-f2fd-427b-e8cd-17c03a2f7598"
      },
      "source": [
        "# Generating classification report on oversampled data \n",
        "print('**** AFTER SAMPLING & BEFORE TUNING *****')\n",
        "print('******************************************')\n",
        "print(\" \")\n",
        "\n",
        "print(classification_report(y_test,y_pred_os))\n",
        "\n",
        "# The report shows improvement in predicting 1 as compared to logistic regression built with imbalanced data \n",
        "# Accuracy however is low at 56.2%"
      ],
      "execution_count": null,
      "outputs": [
        {
          "output_type": "stream",
          "text": [
            "**** AFTER SAMPLING & BEFORE TUNING *****\n",
            "******************************************\n",
            " \n",
            "              precision    recall  f1-score   support\n",
            "\n",
            "           0       0.81      0.56      0.66      3002\n",
            "           1       0.28      0.58      0.38       909\n",
            "\n",
            "    accuracy                           0.56      3911\n",
            "   macro avg       0.55      0.57      0.52      3911\n",
            "weighted avg       0.69      0.56      0.60      3911\n",
            "\n"
          ],
          "name": "stdout"
        }
      ]
    },
    {
      "cell_type": "code",
      "metadata": {
        "colab": {
          "base_uri": "https://localhost:8080/"
        },
        "id": "TRzMOsuZVz8m",
        "outputId": "37ec83bf-42dc-4df1-85c7-043b1bfb7e03"
      },
      "source": [
        "# Displaying Accuracy, Precision, Recall and F1 Score in more detail \n",
        "print('**** AFTER SAMPLING & BEFORE TUNING *****')\n",
        "print('******************************************')\n",
        "print(\" \")\n",
        "\n",
        "print('Accuracy Score : ' + str(accuracy_score(y_test,y_pred_os)))\n",
        "print('Precision Score : ' + str(precision_score(y_test,y_pred_os)))\n",
        "print('Recall Score : ' + str(recall_score(y_test,y_pred_os)))\n",
        "print('F1 Score : ' + str(f1_score(y_test,y_pred_os)))"
      ],
      "execution_count": null,
      "outputs": [
        {
          "output_type": "stream",
          "text": [
            "**** AFTER SAMPLING & BEFORE TUNING *****\n",
            "******************************************\n",
            " \n",
            "Accuracy Score : 0.5620046024034774\n",
            "Precision Score : 0.2827027027027027\n",
            "Recall Score : 0.5753575357535754\n",
            "F1 Score : 0.37912287060529176\n"
          ],
          "name": "stdout"
        }
      ]
    },
    {
      "cell_type": "code",
      "metadata": {
        "id": "hH4db93fxr0o",
        "colab": {
          "base_uri": "https://localhost:8080/"
        },
        "outputId": "a8d2d0f8-0d96-4ca1-9ab1-0a363c57dd17"
      },
      "source": [
        "# Generating Confusion Matrix \n",
        "confusion_matrix = metrics.confusion_matrix(y_test, y_pred_os)\n",
        "confusion_matrix\n",
        "fig, ax = plt.subplots()\n",
        "sns.heatmap(pd.DataFrame(confusion_matrix), annot=True, cmap='icefire' ,fmt='g')\n",
        "ax.xaxis.set_label_position(\"bottom\")\n",
        "plt.tight_layout()\n",
        "plt.title('Confusion matrix', y=1.1)\n",
        "plt.ylabel('Actual Values')\n",
        "plt.xlabel('Predicted Values')\n"
      ],
      "execution_count": null,
      "outputs": [
        {
          "output_type": "execute_result",
          "data": {
            "text/plain": [
              "Text(0.5, 12.5, 'Predicted Values')"
            ]
          },
          "metadata": {
            "tags": []
          },
          "execution_count": 89
        },
        {
          "output_type": "display_data",
          "data": {
            "image/png": "[encoded data removed]",
            "text/plain": [
              "<Figure size 432x288 with 2 Axes>"
            ]
          },
          "metadata": {
            "tags": []
          }
        }
      ]
    },
    {
      "cell_type": "code",
      "metadata": {
        "id": "8AkrsSBzHL_n"
      },
      "source": [
        "TN = confusion_matrix[0,0]\n",
        "TP = confusion_matrix[1,1]\n",
        "FN = confusion_matrix[1,0]\n",
        "FP = confusion_matrix[0,1]"
      ],
      "execution_count": null,
      "outputs": []
    },
    {
      "cell_type": "code",
      "metadata": {
        "colab": {
          "base_uri": "https://localhost:8080/"
        },
        "id": "IGZFTSDiHHwz",
        "outputId": "d7b521df-27cb-4564-b59b-2a584fd93032"
      },
      "source": [
        "print('**** AFTER SAMPLING & BEFORE TUNING *****')\n",
        "print('******************************************')\n",
        "print(\" \")\n",
        "print ('Model Accuracy: ', (TP+TN)/(TP+TN+FP+FN))\n",
        "print ('Misclassification Rate:', 1-(TP+TN)/(TP+TN+FP+FN))\n",
        "print ('True Positive Rate:', TP/(TP+FN))\n",
        "print ('True Negative Rate:', TN/(TN+FP))\n",
        "print ('Positive Predicted Value:', TP/(TP+FP))\n",
        "print ('Negative Predicted Value:', TN/(TN+FN))\n"
      ],
      "execution_count": null,
      "outputs": [
        {
          "output_type": "stream",
          "text": [
            "**** AFTER SAMPLING & BEFORE TUNING *****\n",
            "******************************************\n",
            " \n",
            "Model Accuracy:  0.5620046024034774\n",
            "Misclassification Rate: 0.4379953975965226\n",
            "True Positive Rate: 0.5753575357535754\n",
            "True Negative Rate: 0.5579613590939374\n",
            "Positive Predicted Value: 0.2827027027027027\n",
            "Negative Predicted Value: 0.8127122755943716\n"
          ],
          "name": "stdout"
        }
      ]
    },
    {
      "cell_type": "code",
      "metadata": {
        "colab": {
          "base_uri": "https://localhost:8080/"
        },
        "id": "_fuEUBWYzo43",
        "outputId": "c2a379cc-fa93-4bcb-86bb-220360514c65"
      },
      "source": [
        "#Evaluation Matrix \n",
        "print('**** AFTER SAMPLING & BEFORE TUNING *****')\n",
        "print('******************************************')\n",
        "print(\" \")\n",
        "print ('Model Accuracy: ', (TP+TN)/(TP+TN+FP+FN))\n",
        "print ('Misclassification Rate:', 1-(TP+TN)/(TP+TN+FP+FN))\n",
        "print ('Mean Squared Error: ', metrics.mean_squared_error(y_test, y_pred_os)) \n",
        "print ('Root Mean Squared Error: ', np.sqrt(metrics.mean_squared_error(y_test, y_pred_os)))\n",
        "print ('R-Squared: ', metrics.r2_score(y_test, y_pred_os))\n"
      ],
      "execution_count": null,
      "outputs": [
        {
          "output_type": "stream",
          "text": [
            "**** AFTER SAMPLING & BEFORE TUNING *****\n",
            "******************************************\n",
            " \n",
            "Model Accuracy:  0.5620046024034774\n",
            "Misclassification Rate: 0.4379953975965226\n",
            "Mean Squared Error:  0.4379953975965226\n",
            "Root Mean Squared Error:  0.6618122071981769\n",
            "R-Squared:  -1.4551080357869224\n"
          ],
          "name": "stdout"
        }
      ]
    },
    {
      "cell_type": "code",
      "metadata": {
        "id": "b-WjZj5qSWVF"
      },
      "source": [
        "## **LOGISTIC REGRESSION - MODEL PARAMETERS AND TUNING** \n",
        "# Logistic Regression for tuning \n",
        "t_logreg = LogisticRegression() "
      ],
      "execution_count": null,
      "outputs": []
    },
    {
      "cell_type": "code",
      "metadata": {
        "id": "jdGJVAf3URhT"
      },
      "source": [
        "# Parameters selected for Grid Search to go through and find best ones \n",
        "param_grids = [\n",
        "              {\n",
        "                  'penalty':['l1','l2'],\n",
        "                  'C': np.logspace (-4,4,20),\n",
        "                  'solver':['lbfgs','newton-cg','liblinear', 'sag','saga'],\n",
        "                  'class_weight':[{0:0.6, 1:0.4}],\n",
        "              }\n",
        "]\n"
      ],
      "execution_count": null,
      "outputs": []
    },
    {
      "cell_type": "code",
      "metadata": {
        "id": "jNRvrhIkVGgB"
      },
      "source": [
        "# Applying GridSearchCV for best parameters \n",
        "from sklearn.model_selection import GridSearchCV\n",
        "grid = GridSearchCV(t_logreg, param_grid = param_grids, cv = 3, verbose = True, n_jobs = -1)"
      ],
      "execution_count": null,
      "outputs": []
    },
    {
      "cell_type": "code",
      "metadata": {
        "colab": {
          "base_uri": "https://localhost:8080/"
        },
        "id": "98-HTkiiVfrg",
        "outputId": "f5881c84-0f59-46af-e759-1ca42d94e8aa"
      },
      "source": [
        "# Training model on best parameters \n",
        "best_grid = grid.fit(X_train_os,y_train_os)"
      ],
      "execution_count": null,
      "outputs": [
        {
          "output_type": "stream",
          "text": [
            "Fitting 3 folds for each of 200 candidates, totalling 600 fits\n"
          ],
          "name": "stdout"
        },
        {
          "output_type": "stream",
          "text": [
            "[Parallel(n_jobs=-1)]: Using backend LokyBackend with 2 concurrent workers.\n",
            "[Parallel(n_jobs=-1)]: Done 300 tasks      | elapsed:    9.1s\n",
            "[Parallel(n_jobs=-1)]: Done 600 out of 600 | elapsed:   20.5s finished\n"
          ],
          "name": "stderr"
        }
      ]
    },
    {
      "cell_type": "code",
      "metadata": {
        "colab": {
          "base_uri": "https://localhost:8080/"
        },
        "id": "dmFvPIl3Vvc6",
        "outputId": "629de442-24c8-4c51-df4f-de5785d4389e"
      },
      "source": [
        "# Best Parameters that Grid Search CV has selected to be applied to Logistic Regression \n",
        "# for tuning \n",
        "best_grid.best_estimator_"
      ],
      "execution_count": null,
      "outputs": [
        {
          "output_type": "execute_result",
          "data": {
            "text/plain": [
              "LogisticRegression(C=0.00026366508987303583, class_weight={0: 0.6, 1: 0.4},\n",
              "                   dual=False, fit_intercept=True, intercept_scaling=1,\n",
              "                   l1_ratio=None, max_iter=100, multi_class='auto', n_jobs=None,\n",
              "                   penalty='l2', random_state=None, solver='liblinear',\n",
              "                   tol=0.0001, verbose=0, warm_start=False)"
            ]
          },
          "metadata": {
            "tags": []
          },
          "execution_count": 97
        }
      ]
    },
    {
      "cell_type": "code",
      "metadata": {
        "id": "m0QcDR_7ueik"
      },
      "source": [
        "# Applying selected Parameters to Logistic Regression \n",
        "\n",
        "t_logreg = LogisticRegression(C=0.00026366508987303583, class_weight={0: 0.6, 1: 0.4},\n",
        "                   dual=False, fit_intercept=True, intercept_scaling=1,\n",
        "                   l1_ratio=None, max_iter=100, multi_class='auto', n_jobs=None,\n",
        "                   penalty='l2', random_state=None, solver='liblinear',\n",
        "                   tol=0.0001, verbose=0, warm_start=False)\n",
        "\n",
        "fit = t_logreg.fit(X_train_os,y_train_os)"
      ],
      "execution_count": null,
      "outputs": []
    },
    {
      "cell_type": "code",
      "metadata": {
        "id": "_tOmmCrAV7dJ"
      },
      "source": [
        "# Training Logistic Regression with new predicted value of y on tuned model\n",
        "new_y_pred = t_logreg.predict(X_test)"
      ],
      "execution_count": null,
      "outputs": []
    },
    {
      "cell_type": "code",
      "metadata": {
        "colab": {
          "base_uri": "https://localhost:8080/"
        },
        "id": "xj5RRnNNWs9B",
        "outputId": "0521eb7c-33bb-458c-9702-54b8eeca5bda"
      },
      "source": [
        "#Calculating f1 score, precision and recall \n",
        "print('**** AFTER TUNING *****')\n",
        "print('***********************')\n",
        "print(\" \")\n",
        "\n",
        "print(classification_report(y_test,new_y_pred))"
      ],
      "execution_count": null,
      "outputs": [
        {
          "output_type": "stream",
          "text": [
            "**** AFTER TUNING *****\n",
            "***********************\n",
            " \n",
            "              precision    recall  f1-score   support\n",
            "\n",
            "           0       0.78      0.92      0.84      3002\n",
            "           1       0.36      0.15      0.21       909\n",
            "\n",
            "    accuracy                           0.74      3911\n",
            "   macro avg       0.57      0.53      0.53      3911\n",
            "weighted avg       0.68      0.74      0.70      3911\n",
            "\n"
          ],
          "name": "stdout"
        }
      ]
    },
    {
      "cell_type": "code",
      "metadata": {
        "colab": {
          "base_uri": "https://localhost:8080/"
        },
        "id": "Ruby7AubfuDK",
        "outputId": "0b1c7880-ce59-47ab-a5df-dc796fc4e015"
      },
      "source": [
        "print('**** AFTER TUNING *****')\n",
        "print('***********************')\n",
        "print(\" \")\n",
        "acc = metrics.accuracy_score(y_test, new_y_pred)\n",
        "print(\"Accuracy:\", acc)\n",
        "print(\"Precision:\",metrics.precision_score(y_test, new_y_pred))\n",
        "print(\"Recall:\",metrics.recall_score(y_test, new_y_pred))\n",
        "print(\"Misclassification Score\", 1 - acc)"
      ],
      "execution_count": null,
      "outputs": [
        {
          "output_type": "stream",
          "text": [
            "**** AFTER TUNING *****\n",
            "***********************\n",
            " \n",
            "Accuracy: 0.7386857581181283\n",
            "Precision: 0.3554987212276215\n",
            "Recall: 0.15291529152915292\n",
            "Misclassification Score 0.2613142418818717\n"
          ],
          "name": "stdout"
        }
      ]
    },
    {
      "cell_type": "code",
      "metadata": {
        "colab": {
          "base_uri": "https://localhost:8080/"
        },
        "id": "LaxYPTOCcn3q",
        "outputId": "d86595b5-2349-433b-e9e2-3df023724a9a"
      },
      "source": [
        "# Confusion Matrix on tuned Log Reg Model \n",
        "new_confusion_matrix = metrics.confusion_matrix(y_test, new_y_pred)\n",
        "new_confusion_matrix\n",
        "fig, ax = plt.subplots()\n",
        "sns.heatmap(pd.DataFrame(new_confusion_matrix), annot=True, cmap='icefire_r' ,fmt='g')\n",
        "ax.xaxis.set_label_position(\"bottom\")\n",
        "plt.tight_layout()\n",
        "plt.title('Confusion matrix', y=1.1)\n",
        "plt.ylabel('Actual Values')\n",
        "plt.xlabel('Predicted Values')"
      ],
      "execution_count": null,
      "outputs": [
        {
          "output_type": "execute_result",
          "data": {
            "text/plain": [
              "Text(0.5, 12.5, 'Predicted Values')"
            ]
          },
          "metadata": {
            "tags": []
          },
          "execution_count": 102
        },
        {
          "output_type": "display_data",
          "data": {
            "image/png": "[encoded data removed]",
            "text/plain": [
              "<Figure size 432x288 with 2 Axes>"
            ]
          },
          "metadata": {
            "tags": []
          }
        }
      ]
    },
    {
      "cell_type": "code",
      "metadata": {
        "id": "d9zOXG4ndASx"
      },
      "source": [
        "TN_t=new_confusion_matrix[1][1]\n",
        "TP_t=new_confusion_matrix[0][0]\n",
        "FN_t=new_confusion_matrix[1][0]\n",
        "FP_t=new_confusion_matrix[0][1]"
      ],
      "execution_count": null,
      "outputs": []
    },
    {
      "cell_type": "code",
      "metadata": {
        "colab": {
          "base_uri": "https://localhost:8080/"
        },
        "id": "baBbgkn9dWj4",
        "outputId": "8b424287-6b7d-4f7d-98c5-fc051e0f370e"
      },
      "source": [
        "print('**** AFTER TUNING *****')\n",
        "print('***********************')\n",
        "print(\" \")\n",
        "print ('Model Accuracy: ', (TP_t+TN_t)/(TP_t+TN_t+FP_t+FN_t))\n",
        "print ('Misclassification Rate:', 1-(TP_t+TN_t)/(TP_t+TN_t+FP_t+FN_t))\n",
        "print ('True Positive Rate:', TP_t/(TP_t+FN_t))\n",
        "print ('True Negative Rate:', TN_t/(TN_t+FP_t))\n",
        "print ('Positive Predicted Value:', TP_t/(TP_t+FP_t))\n",
        "print ('Negative Predicted Value:', TN_t/(TN_t+FN_t))\n"
      ],
      "execution_count": null,
      "outputs": [
        {
          "output_type": "stream",
          "text": [
            "**** AFTER TUNING *****\n",
            "***********************\n",
            " \n",
            "Model Accuracy:  0.7386857581181283\n",
            "Misclassification Rate: 0.2613142418818717\n",
            "True Positive Rate: 0.78125\n",
            "True Negative Rate: 0.3554987212276215\n",
            "Positive Predicted Value: 0.916055962691539\n",
            "Negative Predicted Value: 0.15291529152915292\n"
          ],
          "name": "stdout"
        }
      ]
    },
    {
      "cell_type": "code",
      "metadata": {
        "colab": {
          "base_uri": "https://localhost:8080/"
        },
        "id": "eZwIdQEzdchY",
        "outputId": "82c5293f-d800-4f80-ffd7-e4d7d914f857"
      },
      "source": [
        "# Evaluation Matrix chosen \n",
        "print('**** AFTER TUNING *****')\n",
        "print('***********************')\n",
        "print(\" \")\n",
        "print ('Model Accuracy: ', (TP_t+TN_t)/(TP_t+TN_t+FP_t+FN_t))\n",
        "print ('Misclassification Rate:', 1-(TP_t+TN_t)/(TP_t+TN_t+FP_t+FN_t))\n",
        "print ('Mean Squared Error: ', metrics.mean_squared_error(y_test, new_y_pred)) \n",
        "print ('Root Mean Squared Error: ', np.sqrt(metrics.mean_squared_error(y_test, new_y_pred)))\n",
        "print ('R-Squared: ', metrics.r2_score(y_test, new_y_pred))"
      ],
      "execution_count": null,
      "outputs": [
        {
          "output_type": "stream",
          "text": [
            "**** AFTER TUNING *****\n",
            "***********************\n",
            " \n",
            "Model Accuracy:  0.7386857581181283\n",
            "Misclassification Rate: 0.2613142418818717\n",
            "Mean Squared Error:  0.26131424188187163\n",
            "Root Mean Squared Error:  0.5111890471067153\n",
            "R-Squared:  -0.464752138105216\n"
          ],
          "name": "stdout"
        }
      ]
    },
    {
      "cell_type": "markdown",
      "metadata": {
        "id": "pHfR5nx22TV4"
      },
      "source": [
        "# **DECISION TREES** - Basmah Zahid TP050310\n"
      ]
    },
    {
      "cell_type": "markdown",
      "metadata": {
        "id": "Yta4nNgNMb9F"
      },
      "source": [
        "## Here the default decision tree is built\n"
      ]
    },
    {
      "cell_type": "code",
      "metadata": {
        "id": "RdSIM0MggQNs"
      },
      "source": [
        "#import class of decision tree\n",
        "from sklearn.tree import DecisionTreeClassifier\n",
        "from sklearn.metrics import accuracy_score,confusion_matrix,classification_report,f1_score,recall_score,precision_score"
      ],
      "execution_count": null,
      "outputs": []
    },
    {
      "cell_type": "code",
      "metadata": {
        "id": "ieXjAtPpxlxJ",
        "colab": {
          "base_uri": "https://localhost:8080/"
        },
        "outputId": "1045b048-ff78-4c25-93a4-a3e81524c6d2"
      },
      "source": [
        "#pure tree \n",
        "dd = DecisionTreeClassifier()\n",
        "dd.fit(X_train,y_train)"
      ],
      "execution_count": null,
      "outputs": [
        {
          "output_type": "execute_result",
          "data": {
            "text/plain": [
              "DecisionTreeClassifier(ccp_alpha=0.0, class_weight=None, criterion='gini',\n",
              "                       max_depth=None, max_features=None, max_leaf_nodes=None,\n",
              "                       min_impurity_decrease=0.0, min_impurity_split=None,\n",
              "                       min_samples_leaf=1, min_samples_split=2,\n",
              "                       min_weight_fraction_leaf=0.0, presort='deprecated',\n",
              "                       random_state=None, splitter='best')"
            ]
          },
          "metadata": {
            "tags": []
          },
          "execution_count": 56
        }
      ]
    },
    {
      "cell_type": "code",
      "metadata": {
        "id": "aO0D0x4zxzKx",
        "colab": {
          "base_uri": "https://localhost:8080/"
        },
        "outputId": "8157f9df-4142-4346-fd45-89a7bb32ed92"
      },
      "source": [
        "#Accuracy Score\n",
        "dd_pred = dd.predict(X_test)\n",
        "print(classification_report(y_test,dd_pred))"
      ],
      "execution_count": null,
      "outputs": [
        {
          "output_type": "stream",
          "text": [
            "              precision    recall  f1-score   support\n",
            "\n",
            "           0       0.88      0.88      0.88      3002\n",
            "           1       0.60      0.61      0.60       909\n",
            "\n",
            "    accuracy                           0.81      3911\n",
            "   macro avg       0.74      0.74      0.74      3911\n",
            "weighted avg       0.82      0.81      0.81      3911\n",
            "\n"
          ],
          "name": "stdout"
        }
      ]
    },
    {
      "cell_type": "code",
      "metadata": {
        "id": "2QgqvrUezOPr",
        "colab": {
          "base_uri": "https://localhost:8080/"
        },
        "outputId": "3bc2ce6d-ce68-4732-a3b5-7925f70f0183"
      },
      "source": [
        "print(f'Train Accuracy: {dd.score(X_train,y_train):.6f}')\n",
        "print(f'Test Accuracy: {dd.score(X_test,y_test):.6f}')"
      ],
      "execution_count": null,
      "outputs": [
        {
          "output_type": "stream",
          "text": [
            "Train Accuracy: 0.999169\n",
            "Test Accuracy: 0.813858\n"
          ],
          "name": "stdout"
        }
      ]
    },
    {
      "cell_type": "code",
      "metadata": {
        "id": "Gywe0Ldq2EEL",
        "colab": {
          "base_uri": "https://localhost:8080/",
          "height": 300
        },
        "outputId": "6a29e63e-c027-443a-9f73-d7a2db339738"
      },
      "source": [
        "# confusion matrix heat map\n",
        "cmatrix =confusion_matrix(y_test,dd_pred) \n",
        "sns.heatmap(cmatrix,cmap='flare',annot=True, fmt='.0f')\n",
        "plt.title(\"Confusion Matrix\")\n"
      ],
      "execution_count": null,
      "outputs": [
        {
          "output_type": "execute_result",
          "data": {
            "text/plain": [
              "Text(0.5, 1.0, 'Confusion Matrix')"
            ]
          },
          "metadata": {
            "tags": []
          },
          "execution_count": 59
        },
        {
          "output_type": "display_data",
          "data": {
            "image/png": "[encoded data removed]",
            "text/plain": [
              "<Figure size 432x288 with 2 Axes>"
            ]
          },
          "metadata": {
            "tags": []
          }
        }
      ]
    },
    {
      "cell_type": "markdown",
      "metadata": {
        "id": "NQnlW_8_1wXe"
      },
      "source": [
        "## **Decision Tree** - FINAL\n",
        "\n",
        "**TASKS**\n",
        "1.   Oversampling is done to balance dataset\n",
        "2.   Model tuning with GridSearch and KFold\n",
        "3.   Evaluation using confusion matrix, classfication table and auc-roc chart\n",
        "\n",
        "\n",
        "\n",
        "\n",
        "\n"
      ]
    },
    {
      "cell_type": "code",
      "metadata": {
        "id": "5ObZxdFOzY89",
        "colab": {
          "base_uri": "https://localhost:8080/"
        },
        "outputId": "29f8b104-db8a-4199-d427-b61b027d2f27"
      },
      "source": [
        "#importing all the libraries that will be used below\n",
        "from sklearn.tree import DecisionTreeClassifier,tree\n",
        "#oversampling class\n",
        "from imblearn.over_sampling import SMOTE\n",
        "#counter class to see distribution of 0 and 1 in dataset\n",
        "from collections import Counter\n",
        "#class for model tuning and hyper parameters\n",
        "from sklearn.model_selection import GridSearchCV,KFold\n",
        "#metrics for evaluation\n",
        "from sklearn.metrics import accuracy_score,confusion_matrix,classification_report,f1_score,precision_score,recall_score,roc_curve, auc, roc_auc_score\n",
        "#for graphs\n",
        "from matplotlib import pyplot as plt\n",
        "import itertools"
      ],
      "execution_count": null,
      "outputs": [
        {
          "output_type": "stream",
          "text": [
            "/usr/local/lib/python3.7/dist-packages/sklearn/utils/deprecation.py:144: FutureWarning: The sklearn.tree.tree module is  deprecated in version 0.22 and will be removed in version 0.24. The corresponding classes / functions should instead be imported from sklearn.tree. Anything that cannot be imported from sklearn.tree is now part of the private API.\n",
            "  warnings.warn(message, FutureWarning)\n",
            "/usr/local/lib/python3.7/dist-packages/sklearn/externals/six.py:31: FutureWarning: The module is deprecated in version 0.21 and will be removed in version 0.23 since we've dropped support for Python 2.7. Please rely on the official version of six (https://pypi.org/project/six/).\n",
            "  \"(https://pypi.org/project/six/).\", FutureWarning)\n",
            "/usr/local/lib/python3.7/dist-packages/sklearn/utils/deprecation.py:144: FutureWarning: The sklearn.neighbors.base module is  deprecated in version 0.22 and will be removed in version 0.24. The corresponding classes / functions should instead be imported from sklearn.neighbors. Anything that cannot be imported from sklearn.neighbors is now part of the private API.\n",
            "  warnings.warn(message, FutureWarning)\n"
          ],
          "name": "stderr"
        }
      ]
    },
    {
      "cell_type": "code",
      "metadata": {
        "id": "vgm5e083AIp-",
        "colab": {
          "base_uri": "https://localhost:8080/"
        },
        "outputId": "6fa9ff13-8773-4142-8601-81d6c2bbcd23"
      },
      "source": [
        "#this shows an imbalance in numbers of 0 and 1 so we will do over sampling\n",
        "print(sorted(Counter(df['Arrest_New']).items()))"
      ],
      "execution_count": null,
      "outputs": [
        {
          "output_type": "stream",
          "text": [
            "[(0, 15045), (1, 4507)]\n"
          ],
          "name": "stdout"
        }
      ]
    },
    {
      "cell_type": "code",
      "metadata": {
        "id": "ECsekWRYr2vf",
        "colab": {
          "base_uri": "https://localhost:8080/"
        },
        "outputId": "ffad186d-3add-4bf3-9fa4-1d6ab18729c3"
      },
      "source": [
        "#transforming dataset to more balanced dataset\n",
        "smote = SMOTE(random_state = 2)\n",
        "X_train_oversample, y_train_oversample = smote.fit_sample(X_train, y_train.ravel())\n"
      ],
      "execution_count": null,
      "outputs": [
        {
          "output_type": "stream",
          "text": [
            "/usr/local/lib/python3.7/dist-packages/sklearn/utils/deprecation.py:87: FutureWarning: Function safe_indexing is deprecated; safe_indexing is deprecated in version 0.22 and will be removed in version 0.24.\n",
            "  warnings.warn(msg, category=FutureWarning)\n"
          ],
          "name": "stderr"
        }
      ]
    },
    {
      "cell_type": "code",
      "metadata": {
        "id": "A4mi-hsz22d-",
        "colab": {
          "base_uri": "https://localhost:8080/",
          "height": 555
        },
        "outputId": "6f6269e0-e970-485a-825c-f491563ed323"
      },
      "source": [
        "plt.figure(figsize=(8, 8))\n",
        "sns.countplot(y_train_oversample,palette=['#432d71',\"#FAAE2B\"])\n",
        "plt.title('Balanced Classes for Target = \"ARREST\"')\n",
        "plt.show()"
      ],
      "execution_count": null,
      "outputs": [
        {
          "output_type": "stream",
          "text": [
            "/usr/local/lib/python3.7/dist-packages/seaborn/_decorators.py:43: FutureWarning: Pass the following variable as a keyword arg: x. From version 0.12, the only valid positional argument will be `data`, and passing other arguments without an explicit keyword will result in an error or misinterpretation.\n",
            "  FutureWarning\n"
          ],
          "name": "stderr"
        },
        {
          "output_type": "display_data",
          "data": {
            "image/png": "[encoded data removed]",
            "text/plain": [
              "<Figure size 576x576 with 1 Axes>"
            ]
          },
          "metadata": {
            "tags": []
          }
        }
      ]
    },
    {
      "cell_type": "code",
      "metadata": {
        "id": "U3picg8F7gQu",
        "colab": {
          "base_uri": "https://localhost:8080/"
        },
        "outputId": "fd5f7cd9-840d-47ce-ab8d-e544120c7a00"
      },
      "source": [
        "#decision tree with default paramters - NO TUNING + Oversampled Data\n",
        "dc = DecisionTreeClassifier()\n",
        "#fitting decision tree with over sampled train data\n",
        "dc.fit(X_train_oversample,y_train_oversample)"
      ],
      "execution_count": null,
      "outputs": [
        {
          "output_type": "execute_result",
          "data": {
            "text/plain": [
              "DecisionTreeClassifier(ccp_alpha=0.0, class_weight=None, criterion='gini',\n",
              "                       max_depth=None, max_features=None, max_leaf_nodes=None,\n",
              "                       min_impurity_decrease=0.0, min_impurity_split=None,\n",
              "                       min_samples_leaf=1, min_samples_split=2,\n",
              "                       min_weight_fraction_leaf=0.0, presort='deprecated',\n",
              "                       random_state=None, splitter='best')"
            ]
          },
          "metadata": {
            "tags": []
          },
          "execution_count": 64
        }
      ]
    },
    {
      "cell_type": "code",
      "metadata": {
        "colab": {
          "base_uri": "https://localhost:8080/"
        },
        "id": "hYWpF2ZOSL-y",
        "outputId": "1823f05d-bbf7-4eed-f455-59e055024e68"
      },
      "source": [
        "print(f'Train Accuracy: {dc.score(X_train_oversample,y_train_oversample):.6f}')\n",
        "print(f'Test Accuracy: {dc.score(X_test,y_test):.6f}')"
      ],
      "execution_count": null,
      "outputs": [
        {
          "output_type": "stream",
          "text": [
            "Train Accuracy: 0.999460\n",
            "Test Accuracy: 0.801585\n"
          ],
          "name": "stdout"
        }
      ]
    },
    {
      "cell_type": "code",
      "metadata": {
        "id": "V0LsQD_S794f",
        "colab": {
          "base_uri": "https://localhost:8080/"
        },
        "outputId": "c8612df2-5366-4343-fd82-14c8b942347a"
      },
      "source": [
        "#Model Evaluation before any tuning is performed\n",
        "#classification table, confusion matrix\n",
        "#prediction test\n",
        "y_pred=dc.predict(X_test)\n",
        "\n",
        "#confusion matrix calculator for other metrics\n",
        "conm =confusion_matrix(y_test,y_pred)\n",
        "TP = conm[0,0] # true positive \n",
        "TN = conm[1,1] # true negatives\n",
        "FP = conm[0,1] # false positives\n",
        "FN = conm[1,0] # false negatives\n",
        "Total = TP+TN+FP+FN\n",
        "\n",
        "#all metrics before tuning\n",
        "Specificity = (TN)/(TN+FP)\n",
        "Sensitivity = (TP)/(TP+FN)\n",
        "Misclassification = 1-(accuracy_score(y_test,y_pred))\n",
        "print('Specificity           :',Specificity)\n",
        "print('Sensitivity           :',Sensitivity)\n",
        "print('Misclassification Rate:',Misclassification)\n",
        "print('Accuracy              :', accuracy_score(y_test,y_pred))\n",
        "print('Precision             :', precision_score(y_test,y_pred)) #positive predicted value\n",
        "print('Recall                :', recall_score(y_test,y_pred)) #true positive rate\n",
        "print('F1-Score              :', f1_score(y_test,y_pred))\n",
        "\n",
        "#classification report\n",
        "print(classification_report(y_test,y_pred))"
      ],
      "execution_count": null,
      "outputs": [
        {
          "output_type": "stream",
          "text": [
            "Specificity           : 0.5667001003009027\n",
            "Sensitivity           : 0.8819492107069321\n",
            "Misclassification Rate: 0.19841472769112756\n",
            "Accuracy              : 0.8015852723088724\n",
            "Precision             : 0.5667001003009027\n",
            "Recall                : 0.6215621562156216\n",
            "F1-Score              : 0.5928646379853094\n",
            "              precision    recall  f1-score   support\n",
            "\n",
            "           0       0.88      0.86      0.87      3002\n",
            "           1       0.57      0.62      0.59       909\n",
            "\n",
            "    accuracy                           0.80      3911\n",
            "   macro avg       0.72      0.74      0.73      3911\n",
            "weighted avg       0.81      0.80      0.80      3911\n",
            "\n"
          ],
          "name": "stdout"
        }
      ]
    },
    {
      "cell_type": "code",
      "metadata": {
        "id": "aVBPz4wC_z35",
        "colab": {
          "base_uri": "https://localhost:8080/",
          "height": 300
        },
        "outputId": "c241b3e1-21bb-4a0a-f028-ade2cd6f7dd5"
      },
      "source": [
        "# confusion matrix heat map\n",
        "cmatrix =confusion_matrix(y_test,y_pred) \n",
        "sns.heatmap(cmatrix,cmap='Set3',annot=True, fmt='.0f')\n",
        "plt.title(\"Confusion Matrix Before Tuning\")"
      ],
      "execution_count": null,
      "outputs": [
        {
          "output_type": "execute_result",
          "data": {
            "text/plain": [
              "Text(0.5, 1.0, 'Confusion Matrix Before Tuning')"
            ]
          },
          "metadata": {
            "tags": []
          },
          "execution_count": 67
        },
        {
          "output_type": "display_data",
          "data": {
            "image/png": "[encoded data removed]",
            "text/plain": [
              "<Figure size 432x288 with 2 Axes>"
            ]
          },
          "metadata": {
            "tags": []
          }
        }
      ]
    },
    {
      "cell_type": "markdown",
      "metadata": {
        "id": "u-R6S4KyAFed"
      },
      "source": [
        "## **After Oversampling**\n",
        "- K-Fold CV performed for Grid Search\n",
        "- Meta/Hyper parameters are selected\n",
        "- Grid Search is performed"
      ]
    },
    {
      "cell_type": "code",
      "metadata": {
        "id": "LOsHY1-lvlYh",
        "colab": {
          "base_uri": "https://localhost:8080/"
        },
        "outputId": "2602adbc-cf42-435b-b5ad-b55456207012"
      },
      "source": [
        "#K-fold cross validation\n",
        "kf = KFold(n_splits =5, random_state =47)"
      ],
      "execution_count": null,
      "outputs": [
        {
          "output_type": "stream",
          "text": [
            "/usr/local/lib/python3.7/dist-packages/sklearn/model_selection/_split.py:296: FutureWarning: Setting a random_state has no effect since shuffle is False. This will raise an error in 0.24. You should leave random_state to its default (None), or set shuffle=True.\n",
            "  FutureWarning\n"
          ],
          "name": "stderr"
        }
      ]
    },
    {
      "cell_type": "code",
      "metadata": {
        "id": "g5wkON3qv6XC"
      },
      "source": [
        "#dictionary for hyper parameters and model tuning\n",
        "param_dist= {\n",
        "   \"criterion\":[\"gini\", \"entropy\"],\n",
        "   \"max_depth\": [1,2,3,4,5,6,7,8],\n",
        "   \"min_samples_leaf\":[2,5,10,25,50,75,100],\n",
        "   \"min_samples_split\":[2,5,10,25,50,75,100],\n",
        "     }"
      ],
      "execution_count": null,
      "outputs": []
    },
    {
      "cell_type": "code",
      "metadata": {
        "id": "Mm4Rj-EvxgjX"
      },
      "source": [
        "#by using n_jobs = -1, we telling to use all processer to finish fast\n",
        "#cv = kfold validation, will do 5 kfold validation, best value for cv is 3/5/10\n",
        "grid = GridSearchCV(estimator = dc ,param_grid = param_dist,cv = kf, verbose = 2, n_jobs=-1)"
      ],
      "execution_count": null,
      "outputs": []
    },
    {
      "cell_type": "code",
      "metadata": {
        "id": "UGBr43cLyrkF",
        "colab": {
          "base_uri": "https://localhost:8080/"
        },
        "outputId": "df155d34-b5ba-46ff-e13b-4c7de0e8835c"
      },
      "source": [
        "#fit of model\n",
        "grid.fit(X_train_oversample,y_train_oversample)"
      ],
      "execution_count": null,
      "outputs": [
        {
          "output_type": "stream",
          "text": [
            "Fitting 5 folds for each of 784 candidates, totalling 3920 fits\n"
          ],
          "name": "stdout"
        },
        {
          "output_type": "stream",
          "text": [
            "[Parallel(n_jobs=-1)]: Using backend LokyBackend with 2 concurrent workers.\n",
            "[Parallel(n_jobs=-1)]: Done 130 tasks      | elapsed:    3.1s\n",
            "[Parallel(n_jobs=-1)]: Done 1098 tasks      | elapsed:   36.1s\n",
            "[Parallel(n_jobs=-1)]: Done 1679 tasks      | elapsed:  1.2min\n",
            "[Parallel(n_jobs=-1)]: Done 1962 tasks      | elapsed:  1.5min\n",
            "[Parallel(n_jobs=-1)]: Done 3396 tasks      | elapsed:  2.9min\n",
            "[Parallel(n_jobs=-1)]: Done 3920 out of 3920 | elapsed:  3.8min finished\n"
          ],
          "name": "stderr"
        },
        {
          "output_type": "execute_result",
          "data": {
            "text/plain": [
              "GridSearchCV(cv=KFold(n_splits=5, random_state=47, shuffle=False),\n",
              "             error_score=nan,\n",
              "             estimator=DecisionTreeClassifier(ccp_alpha=0.0, class_weight=None,\n",
              "                                              criterion='gini', max_depth=None,\n",
              "                                              max_features=None,\n",
              "                                              max_leaf_nodes=None,\n",
              "                                              min_impurity_decrease=0.0,\n",
              "                                              min_impurity_split=None,\n",
              "                                              min_samples_leaf=1,\n",
              "                                              min_samples_split=2,\n",
              "                                              min_weight_fraction_leaf=0.0,\n",
              "                                              presort='deprecated',\n",
              "                                              random_state=None,\n",
              "                                              splitter='best'),\n",
              "             iid='deprecated', n_jobs=-1,\n",
              "             param_grid={'criterion': ['gini', 'entropy'],\n",
              "                         'max_depth': [1, 2, 3, 4, 5, 6, 7, 8],\n",
              "                         'min_samples_leaf': [2, 5, 10, 25, 50, 75, 100],\n",
              "                         'min_samples_split': [2, 5, 10, 25, 50, 75, 100]},\n",
              "             pre_dispatch='2*n_jobs', refit=True, return_train_score=False,\n",
              "             scoring=None, verbose=2)"
            ]
          },
          "metadata": {
            "tags": []
          },
          "execution_count": 71
        }
      ]
    },
    {
      "cell_type": "code",
      "metadata": {
        "id": "1eI0Oyae8Gpt",
        "colab": {
          "base_uri": "https://localhost:8080/",
          "height": 1000
        },
        "outputId": "c35c50e6-dd7c-412a-c578-1001f2568f9a"
      },
      "source": [
        "#result of grid search with the ranking of best parameter for modelling\n",
        "score_dc = pd.DataFrame(grid.cv_results_)\n",
        "score_dc"
      ],
      "execution_count": null,
      "outputs": [
        {
          "output_type": "execute_result",
          "data": {
            "text/html": [
              "<div>\n",
              "<style scoped>\n",
              "    .dataframe tbody tr th:only-of-type {\n",
              "        vertical-align: middle;\n",
              "    }\n",
              "\n",
              "    .dataframe tbody tr th {\n",
              "        vertical-align: top;\n",
              "    }\n",
              "\n",
              "    .dataframe thead th {\n",
              "        text-align: right;\n",
              "    }\n",
              "</style>\n",
              "<table border=\"1\" class=\"dataframe\">\n",
              "  <thead>\n",
              "    <tr style=\"text-align: right;\">\n",
              "      <th></th>\n",
              "      <th>mean_fit_time</th>\n",
              "      <th>std_fit_time</th>\n",
              "      <th>mean_score_time</th>\n",
              "      <th>std_score_time</th>\n",
              "      <th>param_criterion</th>\n",
              "      <th>param_max_depth</th>\n",
              "      <th>param_min_samples_leaf</th>\n",
              "      <th>param_min_samples_split</th>\n",
              "      <th>params</th>\n",
              "      <th>split0_test_score</th>\n",
              "      <th>split1_test_score</th>\n",
              "      <th>split2_test_score</th>\n",
              "      <th>split3_test_score</th>\n",
              "      <th>split4_test_score</th>\n",
              "      <th>mean_test_score</th>\n",
              "      <th>std_test_score</th>\n",
              "      <th>rank_test_score</th>\n",
              "    </tr>\n",
              "  </thead>\n",
              "  <tbody>\n",
              "    <tr>\n",
              "      <th>0</th>\n",
              "      <td>0.031046</td>\n",
              "      <td>0.004572</td>\n",
              "      <td>0.001807</td>\n",
              "      <td>0.000330</td>\n",
              "      <td>gini</td>\n",
              "      <td>1</td>\n",
              "      <td>2</td>\n",
              "      <td>2</td>\n",
              "      <td>{'criterion': 'gini', 'max_depth': 1, 'min_sam...</td>\n",
              "      <td>0.600457</td>\n",
              "      <td>0.619473</td>\n",
              "      <td>0.612414</td>\n",
              "      <td>0.656010</td>\n",
              "      <td>0.000000</td>\n",
              "      <td>0.497671</td>\n",
              "      <td>0.249525</td>\n",
              "      <td>687</td>\n",
              "    </tr>\n",
              "    <tr>\n",
              "      <th>1</th>\n",
              "      <td>0.024069</td>\n",
              "      <td>0.001610</td>\n",
              "      <td>0.001436</td>\n",
              "      <td>0.000096</td>\n",
              "      <td>gini</td>\n",
              "      <td>1</td>\n",
              "      <td>2</td>\n",
              "      <td>5</td>\n",
              "      <td>{'criterion': 'gini', 'max_depth': 1, 'min_sam...</td>\n",
              "      <td>0.600457</td>\n",
              "      <td>0.619473</td>\n",
              "      <td>0.612414</td>\n",
              "      <td>0.656010</td>\n",
              "      <td>0.000000</td>\n",
              "      <td>0.497671</td>\n",
              "      <td>0.249525</td>\n",
              "      <td>687</td>\n",
              "    </tr>\n",
              "    <tr>\n",
              "      <th>2</th>\n",
              "      <td>0.025404</td>\n",
              "      <td>0.003906</td>\n",
              "      <td>0.001455</td>\n",
              "      <td>0.000113</td>\n",
              "      <td>gini</td>\n",
              "      <td>1</td>\n",
              "      <td>2</td>\n",
              "      <td>10</td>\n",
              "      <td>{'criterion': 'gini', 'max_depth': 1, 'min_sam...</td>\n",
              "      <td>0.600457</td>\n",
              "      <td>0.619473</td>\n",
              "      <td>0.612414</td>\n",
              "      <td>0.656010</td>\n",
              "      <td>0.000000</td>\n",
              "      <td>0.497671</td>\n",
              "      <td>0.249525</td>\n",
              "      <td>687</td>\n",
              "    </tr>\n",
              "    <tr>\n",
              "      <th>3</th>\n",
              "      <td>0.024292</td>\n",
              "      <td>0.001580</td>\n",
              "      <td>0.001434</td>\n",
              "      <td>0.000079</td>\n",
              "      <td>gini</td>\n",
              "      <td>1</td>\n",
              "      <td>2</td>\n",
              "      <td>25</td>\n",
              "      <td>{'criterion': 'gini', 'max_depth': 1, 'min_sam...</td>\n",
              "      <td>0.600457</td>\n",
              "      <td>0.619473</td>\n",
              "      <td>0.612414</td>\n",
              "      <td>0.656010</td>\n",
              "      <td>0.000000</td>\n",
              "      <td>0.497671</td>\n",
              "      <td>0.249525</td>\n",
              "      <td>687</td>\n",
              "    </tr>\n",
              "    <tr>\n",
              "      <th>4</th>\n",
              "      <td>0.025430</td>\n",
              "      <td>0.002188</td>\n",
              "      <td>0.001429</td>\n",
              "      <td>0.000091</td>\n",
              "      <td>gini</td>\n",
              "      <td>1</td>\n",
              "      <td>2</td>\n",
              "      <td>50</td>\n",
              "      <td>{'criterion': 'gini', 'max_depth': 1, 'min_sam...</td>\n",
              "      <td>0.600457</td>\n",
              "      <td>0.619473</td>\n",
              "      <td>0.612414</td>\n",
              "      <td>0.656010</td>\n",
              "      <td>0.000000</td>\n",
              "      <td>0.497671</td>\n",
              "      <td>0.249525</td>\n",
              "      <td>687</td>\n",
              "    </tr>\n",
              "    <tr>\n",
              "      <th>...</th>\n",
              "      <td>...</td>\n",
              "      <td>...</td>\n",
              "      <td>...</td>\n",
              "      <td>...</td>\n",
              "      <td>...</td>\n",
              "      <td>...</td>\n",
              "      <td>...</td>\n",
              "      <td>...</td>\n",
              "      <td>...</td>\n",
              "      <td>...</td>\n",
              "      <td>...</td>\n",
              "      <td>...</td>\n",
              "      <td>...</td>\n",
              "      <td>...</td>\n",
              "      <td>...</td>\n",
              "      <td>...</td>\n",
              "      <td>...</td>\n",
              "    </tr>\n",
              "    <tr>\n",
              "      <th>779</th>\n",
              "      <td>0.204527</td>\n",
              "      <td>0.015115</td>\n",
              "      <td>0.001702</td>\n",
              "      <td>0.000040</td>\n",
              "      <td>entropy</td>\n",
              "      <td>8</td>\n",
              "      <td>100</td>\n",
              "      <td>10</td>\n",
              "      <td>{'criterion': 'entropy', 'max_depth': 8, 'min_...</td>\n",
              "      <td>0.772105</td>\n",
              "      <td>0.759601</td>\n",
              "      <td>0.758148</td>\n",
              "      <td>0.786382</td>\n",
              "      <td>0.685074</td>\n",
              "      <td>0.752262</td>\n",
              "      <td>0.035102</td>\n",
              "      <td>155</td>\n",
              "    </tr>\n",
              "    <tr>\n",
              "      <th>780</th>\n",
              "      <td>0.200879</td>\n",
              "      <td>0.013471</td>\n",
              "      <td>0.001711</td>\n",
              "      <td>0.000049</td>\n",
              "      <td>entropy</td>\n",
              "      <td>8</td>\n",
              "      <td>100</td>\n",
              "      <td>25</td>\n",
              "      <td>{'criterion': 'entropy', 'max_depth': 8, 'min_...</td>\n",
              "      <td>0.772105</td>\n",
              "      <td>0.759601</td>\n",
              "      <td>0.758148</td>\n",
              "      <td>0.786382</td>\n",
              "      <td>0.685074</td>\n",
              "      <td>0.752262</td>\n",
              "      <td>0.035102</td>\n",
              "      <td>155</td>\n",
              "    </tr>\n",
              "    <tr>\n",
              "      <th>781</th>\n",
              "      <td>0.206182</td>\n",
              "      <td>0.019919</td>\n",
              "      <td>0.001733</td>\n",
              "      <td>0.000082</td>\n",
              "      <td>entropy</td>\n",
              "      <td>8</td>\n",
              "      <td>100</td>\n",
              "      <td>50</td>\n",
              "      <td>{'criterion': 'entropy', 'max_depth': 8, 'min_...</td>\n",
              "      <td>0.772105</td>\n",
              "      <td>0.759601</td>\n",
              "      <td>0.758148</td>\n",
              "      <td>0.786382</td>\n",
              "      <td>0.685074</td>\n",
              "      <td>0.752262</td>\n",
              "      <td>0.035102</td>\n",
              "      <td>155</td>\n",
              "    </tr>\n",
              "    <tr>\n",
              "      <th>782</th>\n",
              "      <td>0.200519</td>\n",
              "      <td>0.016076</td>\n",
              "      <td>0.001760</td>\n",
              "      <td>0.000109</td>\n",
              "      <td>entropy</td>\n",
              "      <td>8</td>\n",
              "      <td>100</td>\n",
              "      <td>75</td>\n",
              "      <td>{'criterion': 'entropy', 'max_depth': 8, 'min_...</td>\n",
              "      <td>0.772105</td>\n",
              "      <td>0.759601</td>\n",
              "      <td>0.758148</td>\n",
              "      <td>0.786382</td>\n",
              "      <td>0.685074</td>\n",
              "      <td>0.752262</td>\n",
              "      <td>0.035102</td>\n",
              "      <td>155</td>\n",
              "    </tr>\n",
              "    <tr>\n",
              "      <th>783</th>\n",
              "      <td>0.196058</td>\n",
              "      <td>0.021935</td>\n",
              "      <td>0.001641</td>\n",
              "      <td>0.000205</td>\n",
              "      <td>entropy</td>\n",
              "      <td>8</td>\n",
              "      <td>100</td>\n",
              "      <td>100</td>\n",
              "      <td>{'criterion': 'entropy', 'max_depth': 8, 'min_...</td>\n",
              "      <td>0.772105</td>\n",
              "      <td>0.759601</td>\n",
              "      <td>0.758148</td>\n",
              "      <td>0.786382</td>\n",
              "      <td>0.685074</td>\n",
              "      <td>0.752262</td>\n",
              "      <td>0.035102</td>\n",
              "      <td>155</td>\n",
              "    </tr>\n",
              "  </tbody>\n",
              "</table>\n",
              "<p>784 rows × 17 columns</p>\n",
              "</div>"
            ],
            "text/plain": [
              "     mean_fit_time  std_fit_time  ...  std_test_score  rank_test_score\n",
              "0         0.031046      0.004572  ...        0.249525              687\n",
              "1         0.024069      0.001610  ...        0.249525              687\n",
              "2         0.025404      0.003906  ...        0.249525              687\n",
              "3         0.024292      0.001580  ...        0.249525              687\n",
              "4         0.025430      0.002188  ...        0.249525              687\n",
              "..             ...           ...  ...             ...              ...\n",
              "779       0.204527      0.015115  ...        0.035102              155\n",
              "780       0.200879      0.013471  ...        0.035102              155\n",
              "781       0.206182      0.019919  ...        0.035102              155\n",
              "782       0.200519      0.016076  ...        0.035102              155\n",
              "783       0.196058      0.021935  ...        0.035102              155\n",
              "\n",
              "[784 rows x 17 columns]"
            ]
          },
          "metadata": {
            "tags": []
          },
          "execution_count": 72
        }
      ]
    },
    {
      "cell_type": "code",
      "metadata": {
        "id": "-lgyFfogRatx",
        "colab": {
          "base_uri": "https://localhost:8080/",
          "height": 566
        },
        "outputId": "767fc94d-f48d-4d02-e9cc-f694c68f57a2"
      },
      "source": [
        "mm = score_dc.sort_values(\"rank_test_score\")\n",
        "mm.head(5)"
      ],
      "execution_count": null,
      "outputs": [
        {
          "output_type": "execute_result",
          "data": {
            "text/html": [
              "<div>\n",
              "<style scoped>\n",
              "    .dataframe tbody tr th:only-of-type {\n",
              "        vertical-align: middle;\n",
              "    }\n",
              "\n",
              "    .dataframe tbody tr th {\n",
              "        vertical-align: top;\n",
              "    }\n",
              "\n",
              "    .dataframe thead th {\n",
              "        text-align: right;\n",
              "    }\n",
              "</style>\n",
              "<table border=\"1\" class=\"dataframe\">\n",
              "  <thead>\n",
              "    <tr style=\"text-align: right;\">\n",
              "      <th></th>\n",
              "      <th>mean_fit_time</th>\n",
              "      <th>std_fit_time</th>\n",
              "      <th>mean_score_time</th>\n",
              "      <th>std_score_time</th>\n",
              "      <th>param_criterion</th>\n",
              "      <th>param_max_depth</th>\n",
              "      <th>param_min_samples_leaf</th>\n",
              "      <th>param_min_samples_split</th>\n",
              "      <th>params</th>\n",
              "      <th>split0_test_score</th>\n",
              "      <th>split1_test_score</th>\n",
              "      <th>split2_test_score</th>\n",
              "      <th>split3_test_score</th>\n",
              "      <th>split4_test_score</th>\n",
              "      <th>mean_test_score</th>\n",
              "      <th>std_test_score</th>\n",
              "      <th>rank_test_score</th>\n",
              "    </tr>\n",
              "  </thead>\n",
              "  <tbody>\n",
              "    <tr>\n",
              "      <th>361</th>\n",
              "      <td>0.144694</td>\n",
              "      <td>0.013002</td>\n",
              "      <td>0.001724</td>\n",
              "      <td>0.000058</td>\n",
              "      <td>gini</td>\n",
              "      <td>8</td>\n",
              "      <td>10</td>\n",
              "      <td>50</td>\n",
              "      <td>{'criterion': 'gini', 'max_depth': 8, 'min_sam...</td>\n",
              "      <td>0.818389</td>\n",
              "      <td>0.808595</td>\n",
              "      <td>0.769359</td>\n",
              "      <td>0.815653</td>\n",
              "      <td>0.754827</td>\n",
              "      <td>0.793364</td>\n",
              "      <td>0.026140</td>\n",
              "      <td>1</td>\n",
              "    </tr>\n",
              "    <tr>\n",
              "      <th>358</th>\n",
              "      <td>0.145222</td>\n",
              "      <td>0.012976</td>\n",
              "      <td>0.001776</td>\n",
              "      <td>0.000067</td>\n",
              "      <td>gini</td>\n",
              "      <td>8</td>\n",
              "      <td>10</td>\n",
              "      <td>5</td>\n",
              "      <td>{'criterion': 'gini', 'max_depth': 8, 'min_sam...</td>\n",
              "      <td>0.817974</td>\n",
              "      <td>0.809010</td>\n",
              "      <td>0.769151</td>\n",
              "      <td>0.814615</td>\n",
              "      <td>0.754619</td>\n",
              "      <td>0.793074</td>\n",
              "      <td>0.026035</td>\n",
              "      <td>2</td>\n",
              "    </tr>\n",
              "    <tr>\n",
              "      <th>363</th>\n",
              "      <td>0.144901</td>\n",
              "      <td>0.006179</td>\n",
              "      <td>0.002768</td>\n",
              "      <td>0.002009</td>\n",
              "      <td>gini</td>\n",
              "      <td>8</td>\n",
              "      <td>10</td>\n",
              "      <td>100</td>\n",
              "      <td>{'criterion': 'gini', 'max_depth': 8, 'min_sam...</td>\n",
              "      <td>0.819635</td>\n",
              "      <td>0.807764</td>\n",
              "      <td>0.771019</td>\n",
              "      <td>0.814200</td>\n",
              "      <td>0.752751</td>\n",
              "      <td>0.793074</td>\n",
              "      <td>0.026382</td>\n",
              "      <td>3</td>\n",
              "    </tr>\n",
              "    <tr>\n",
              "      <th>359</th>\n",
              "      <td>0.141333</td>\n",
              "      <td>0.009706</td>\n",
              "      <td>0.001705</td>\n",
              "      <td>0.000062</td>\n",
              "      <td>gini</td>\n",
              "      <td>8</td>\n",
              "      <td>10</td>\n",
              "      <td>10</td>\n",
              "      <td>{'criterion': 'gini', 'max_depth': 8, 'min_sam...</td>\n",
              "      <td>0.817974</td>\n",
              "      <td>0.809010</td>\n",
              "      <td>0.769151</td>\n",
              "      <td>0.814200</td>\n",
              "      <td>0.754619</td>\n",
              "      <td>0.792991</td>\n",
              "      <td>0.025967</td>\n",
              "      <td>4</td>\n",
              "    </tr>\n",
              "    <tr>\n",
              "      <th>362</th>\n",
              "      <td>0.141213</td>\n",
              "      <td>0.009210</td>\n",
              "      <td>0.001717</td>\n",
              "      <td>0.000047</td>\n",
              "      <td>gini</td>\n",
              "      <td>8</td>\n",
              "      <td>10</td>\n",
              "      <td>75</td>\n",
              "      <td>{'criterion': 'gini', 'max_depth': 8, 'min_sam...</td>\n",
              "      <td>0.820257</td>\n",
              "      <td>0.807972</td>\n",
              "      <td>0.770604</td>\n",
              "      <td>0.813785</td>\n",
              "      <td>0.752128</td>\n",
              "      <td>0.792949</td>\n",
              "      <td>0.026725</td>\n",
              "      <td>5</td>\n",
              "    </tr>\n",
              "  </tbody>\n",
              "</table>\n",
              "</div>"
            ],
            "text/plain": [
              "     mean_fit_time  std_fit_time  ...  std_test_score  rank_test_score\n",
              "361       0.144694      0.013002  ...        0.026140                1\n",
              "358       0.145222      0.012976  ...        0.026035                2\n",
              "363       0.144901      0.006179  ...        0.026382                3\n",
              "359       0.141333      0.009706  ...        0.025967                4\n",
              "362       0.141213      0.009210  ...        0.026725                5\n",
              "\n",
              "[5 rows x 17 columns]"
            ]
          },
          "metadata": {
            "tags": []
          },
          "execution_count": 73
        }
      ]
    },
    {
      "cell_type": "code",
      "metadata": {
        "id": "qfpVdY1i8ZBv",
        "colab": {
          "base_uri": "https://localhost:8080/"
        },
        "outputId": "c8587a21-461d-402e-b10e-f2b416d09bab"
      },
      "source": [
        "#overfitting has been reduced, better accuracy\n",
        "print(f'Train Accuracy: {grid.score(X_train_oversample,y_train_oversample):.6f}') #train value after tuning\n",
        "print(f'Test Accuracy: {grid.score(X_test,y_test):.6f}')#test value after tuning"
      ],
      "execution_count": null,
      "outputs": [
        {
          "output_type": "stream",
          "text": [
            "Train Accuracy: 0.835174\n",
            "Test Accuracy: 0.851956\n"
          ],
          "name": "stdout"
        }
      ]
    },
    {
      "cell_type": "code",
      "metadata": {
        "id": "PHB79fu2y-HZ",
        "colab": {
          "base_uri": "https://localhost:8080/"
        },
        "outputId": "c6f46162-15b4-48dc-ac90-804784ce1fc1"
      },
      "source": [
        "grid.best_params_ #best parameters for the model"
      ],
      "execution_count": null,
      "outputs": [
        {
          "output_type": "execute_result",
          "data": {
            "text/plain": [
              "{'criterion': 'gini',\n",
              " 'max_depth': 8,\n",
              " 'min_samples_leaf': 10,\n",
              " 'min_samples_split': 50}"
            ]
          },
          "metadata": {
            "tags": []
          },
          "execution_count": 75
        }
      ]
    },
    {
      "cell_type": "markdown",
      "metadata": {
        "id": "p3zyUTRDAMHu"
      },
      "source": [
        "\n",
        "## **Model Tuning Results & Model Evaluation**\n",
        "- build new model with grid search results and perform evaluation\n",
        "- Classification chart (inc. Misclassification Rate, Sensitivity and Specificity)\n",
        "- AUC-ROC Chart\n",
        "-Confusion Matrix"
      ]
    },
    {
      "cell_type": "code",
      "metadata": {
        "id": "wzODxJLIR2JB",
        "colab": {
          "base_uri": "https://localhost:8080/"
        },
        "outputId": "37e52745-135e-4746-d4d1-bf715991cbd2"
      },
      "source": [
        "new_dc = DecisionTreeClassifier(criterion = 'gini',max_depth=8,min_samples_leaf=10,min_samples_split=50)\n",
        "new_dc.fit(X_train_oversample,y_train_oversample)"
      ],
      "execution_count": null,
      "outputs": [
        {
          "output_type": "execute_result",
          "data": {
            "text/plain": [
              "DecisionTreeClassifier(ccp_alpha=0.0, class_weight=None, criterion='gini',\n",
              "                       max_depth=8, max_features=None, max_leaf_nodes=None,\n",
              "                       min_impurity_decrease=0.0, min_impurity_split=None,\n",
              "                       min_samples_leaf=10, min_samples_split=50,\n",
              "                       min_weight_fraction_leaf=0.0, presort='deprecated',\n",
              "                       random_state=None, splitter='best')"
            ]
          },
          "metadata": {
            "tags": []
          },
          "execution_count": 76
        }
      ]
    },
    {
      "cell_type": "code",
      "metadata": {
        "id": "ECpXT3yCSriN"
      },
      "source": [
        "new_dc_pred = new_dc.predict(X_test)"
      ],
      "execution_count": null,
      "outputs": []
    },
    {
      "cell_type": "markdown",
      "metadata": {
        "id": "j5MrDgrxqnji"
      },
      "source": [
        "**Classification Chart**"
      ]
    },
    {
      "cell_type": "code",
      "metadata": {
        "colab": {
          "base_uri": "https://localhost:8080/"
        },
        "id": "z1_jF_unQOTj",
        "outputId": "a683c533-a2c9-40e0-dbfb-1bf3c448b7d2"
      },
      "source": [
        "#confusion Matrix calcualtor\n",
        "cfm =confusion_matrix(y_test,new_dc_pred)\n",
        "TP = cfm[0,0] # true positive \n",
        "TN = cfm[1,1] # true negatives\n",
        "FP = cfm[0,1] # false positives\n",
        "FN = cfm[1,0] # false negatives\n",
        "Total = TP+TN+FP+FN\n",
        "\n",
        "#all metrics after tuning and oversampling\n",
        "\n",
        "Specificity = (TN)/(TN+FP)\n",
        "Sensitivity = (TP)/(TP+FN)\n",
        "Misclassification = 1-(accuracy_score(y_test,new_dc_pred))\n",
        "print('Specificity           :',Specificity)\n",
        "print('Sensitivity           :',Sensitivity)\n",
        "print('Misclassification Rate:',Misclassification)\n",
        "print('Model Results After Tuning')\n",
        "print('Accuracy              :', accuracy_score(y_test,new_dc_pred))\n",
        "print('Precision             :', precision_score(y_test,new_dc_pred))\n",
        "print('Recall                :', recall_score(y_test,new_dc_pred))\n",
        "print('F1-Score              :', f1_score(y_test,new_dc_pred))\n",
        "print(classification_report(y_test,new_dc_pred))"
      ],
      "execution_count": null,
      "outputs": [
        {
          "output_type": "stream",
          "text": [
            "Specificity           : 0.7285129604365621\n",
            "Sensitivity           : 0.8820012586532411\n",
            "Misclassification Rate: 0.14676553311173612\n",
            "Model Results After Tuning\n",
            "Accuracy              : 0.8532344668882639\n",
            "Precision             : 0.7285129604365621\n",
            "Recall                : 0.5874587458745875\n",
            "F1-Score              : 0.6504263093788064\n",
            "              precision    recall  f1-score   support\n",
            "\n",
            "           0       0.88      0.93      0.91      3002\n",
            "           1       0.73      0.59      0.65       909\n",
            "\n",
            "    accuracy                           0.85      3911\n",
            "   macro avg       0.81      0.76      0.78      3911\n",
            "weighted avg       0.85      0.85      0.85      3911\n",
            "\n"
          ],
          "name": "stdout"
        }
      ]
    },
    {
      "cell_type": "markdown",
      "metadata": {
        "id": "WHIB40FSqkxG"
      },
      "source": [
        "**Confusion Matrix**"
      ]
    },
    {
      "cell_type": "code",
      "metadata": {
        "id": "UAkgZNZW9gAx",
        "colab": {
          "base_uri": "https://localhost:8080/"
        },
        "outputId": "5ddbc8bc-2826-49dc-a39e-46dcd9eb2bf4"
      },
      "source": [
        "#confusion matrix heat map\n",
        "conm =confusion_matrix(y_test,new_dc_pred)\n",
        "sns.heatmap(conm,cmap='Reds',annot=True, fmt='.0f')\n",
        "plt.title('Confusion Matrix After Tuning')"
      ],
      "execution_count": null,
      "outputs": [
        {
          "output_type": "execute_result",
          "data": {
            "text/plain": [
              "Text(0.5, 1.0, 'Confusion Matrix After Tuning')"
            ]
          },
          "metadata": {
            "tags": []
          },
          "execution_count": 79
        },
        {
          "output_type": "display_data",
          "data": {
            "image/png": "[encoded data removed]",
            "text/plain": [
              "<Figure size 432x288 with 2 Axes>"
            ]
          },
          "metadata": {
            "tags": []
          }
        }
      ]
    },
    {
      "cell_type": "markdown",
      "metadata": {
        "id": "-wmdHDBnqhCi"
      },
      "source": [
        "**AUC - ROC Chart**"
      ]
    },
    {
      "cell_type": "code",
      "metadata": {
        "colab": {
          "base_uri": "https://localhost:8080/"
        },
        "id": "adOWdkYJfoVu",
        "outputId": "e5a5a0b5-785e-4656-9246-7679f852246e"
      },
      "source": [
        "#rechecking accuracy scores\n",
        "print(f'Train Accuracy: {new_dc.score(X_train_oversample,y_train_oversample):.6f}') #train value after tuning\n",
        "print(f'Test Accuracy: {new_dc.score(X_test,y_test):.6f}')#test value after tuning"
      ],
      "execution_count": null,
      "outputs": [
        {
          "output_type": "stream",
          "text": [
            "Train Accuracy: 0.835174\n",
            "Test Accuracy: 0.853234\n"
          ],
          "name": "stdout"
        }
      ]
    },
    {
      "cell_type": "code",
      "metadata": {
        "id": "GusTrXYyf1-A"
      },
      "source": [
        "#prediction probabilities\n",
        "x_probs = [0 for _ in range(len(y_test))] \n",
        "new_dc_probs = new_dc.predict_proba(X_test)\n",
        "dc_probs = dc.predict_proba(X_test)"
      ],
      "execution_count": null,
      "outputs": []
    },
    {
      "cell_type": "code",
      "metadata": {
        "id": "SrhsdUwSf2Eu"
      },
      "source": [
        "new_dc_probs = new_dc_probs[:,1] #Keeping positive prob\n",
        "dc_probs = dc_probs[:,1]"
      ],
      "execution_count": null,
      "outputs": []
    },
    {
      "cell_type": "code",
      "metadata": {
        "id": "g--MR8QAgXWI"
      },
      "source": [
        "#computing auroc and roc curve value\n",
        "x_auc = roc_auc_score(y_test,x_probs)\n",
        "new_dc_auc = roc_auc_score(y_test,new_dc_probs)\n",
        "dc_auc = roc_auc_score(y_test,dc_probs)"
      ],
      "execution_count": null,
      "outputs": []
    },
    {
      "cell_type": "code",
      "metadata": {
        "colab": {
          "base_uri": "https://localhost:8080/"
        },
        "id": "HZZLXnUwgoaV",
        "outputId": "be419dee-c9fd-458b-fd7e-23194f9f4fd4"
      },
      "source": [
        "#AUC-ROC valuce\n",
        "print ('Random prediction AUROC = %.3f' %(x_auc))\n",
        "print ('Decision Tree prediction AUROC = %.3f'%(new_dc_auc))\n",
        "print ('Decision Tree prediction AUROC - no tuning = %.3f'%(dc_auc))"
      ],
      "execution_count": null,
      "outputs": [
        {
          "output_type": "stream",
          "text": [
            "Random prediction AUROC = 0.500\n",
            "Decision Tree prediction AUROC = 0.845\n",
            "Decision Tree prediction AUROC - no tuning = 0.739\n"
          ],
          "name": "stdout"
        }
      ]
    },
    {
      "cell_type": "code",
      "metadata": {
        "id": "ifl9sAsPg4hx"
      },
      "source": [
        "#roc curve values\n",
        "x_fpr,x_tpr,_ = roc_curve (y_test,x_probs)\n",
        "new_dc_fpr,new_dc_tpr,_ = roc_curve(y_test,new_dc_probs)\n",
        "dc_fpr,dc_tpr,_ = roc_curve(y_test,dc_probs)"
      ],
      "execution_count": null,
      "outputs": []
    },
    {
      "cell_type": "code",
      "metadata": {
        "colab": {
          "base_uri": "https://localhost:8080/"
        },
        "id": "Qo9uYvH9hIGs",
        "outputId": "a9cc25ef-39f1-4570-db7e-ddc0acfbfea8"
      },
      "source": [
        "#chart for roc curve \n",
        "import matplotlib.pyplot as plt\n",
        "\n",
        "#plotting roc curve\n",
        "plt.plot(x_fpr,x_tpr, linestyle = ':', label = 'Random Prediction (AUROC = %0.3f)' %x_auc)\n",
        "plt.plot(new_dc_fpr,new_dc_tpr, linestyle = 'solid', label = 'Decision Tree Prediction (AUROC = %0.3f)' %new_dc_auc)\n",
        "plt.plot(dc_fpr,dc_tpr, linestyle = 'solid', label = 'DT prediction - no tuning (AUROC = %0.3f)' %dc_auc)\n",
        "\n",
        "#title\n",
        "plt.title ('ROC PLOT')\n",
        "#axis labels\n",
        "plt.xlabel('FALSE POSITIVE RATE')\n",
        "plt.ylabel('TRUE POSTIVE RATE')\n",
        "#show legend\n",
        "plt.legend()\n",
        "#show plot\n",
        "plt.show()\n",
        "\n",
        "\n",
        "#compares perforamnce of different learning models however it can be used to "
      ],
      "execution_count": null,
      "outputs": [
        {
          "output_type": "display_data",
          "data": {
            "image/png": "[encoded data removed]",
            "text/plain": [
              "<Figure size 432x288 with 1 Axes>"
            ]
          },
          "metadata": {
            "tags": []
          }
        }
      ]
    },
    {
      "cell_type": "code",
      "metadata": {
        "colab": {
          "base_uri": "https://localhost:8080/"
        },
        "id": "lEQ2y84Ij0C5",
        "outputId": "1b2b5af6-056e-429c-d189-765114f23f68"
      },
      "source": [
        "print('Decision Tree (Tuned) %.3f' % new_dc_auc)"
      ],
      "execution_count": null,
      "outputs": [
        {
          "output_type": "stream",
          "text": [
            "Decision Tree (Tuned) 0.845\n"
          ],
          "name": "stdout"
        }
      ]
    },
    {
      "cell_type": "markdown",
      "metadata": {
        "id": "Hup8CKrZqt_V"
      },
      "source": [
        "# **SUPPORT VECTOR MACHINE**  - Justin Louis Halim TP051944\n"
      ]
    },
    {
      "cell_type": "code",
      "metadata": {
        "id": "PnmJs7h4rWS9"
      },
      "source": [
        "# initially apply support vector classifier with rbf kernel\n",
        "from sklearn.svm import SVC\n",
        "svc=SVC(kernel='rbf')\n",
        "svc.fit(X_train,y_train)\n",
        "yhat=svc.predict(X_test)"
      ],
      "execution_count": null,
      "outputs": []
    },
    {
      "cell_type": "code",
      "metadata": {
        "id": "EnyDZoFMrZQc"
      },
      "source": [
        "# initial SVM accuracy score\n",
        "from sklearn.metrics import accuracy_score,confusion_matrix,classification_report,f1_score\n",
        "accuracySVC = accuracy_score(y_test,yhat)\n",
        "accuracySVC"
      ],
      "execution_count": null,
      "outputs": []
    },
    {
      "cell_type": "code",
      "metadata": {
        "id": "MhKKj_nsrcaR"
      },
      "source": [
        "# confusion matrix heat map\n",
        "sns.heatmap(confusion_matrix(y_test,yhat),cmap='Greens',annot=True, fmt='.0f')"
      ],
      "execution_count": null,
      "outputs": []
    },
    {
      "cell_type": "code",
      "metadata": {
        "id": "9eqIbhA5rs_B"
      },
      "source": [
        "# classification report\n",
        "print(classification_report(y_test,yhat))"
      ],
      "execution_count": null,
      "outputs": []
    },
    {
      "cell_type": "code",
      "metadata": {
        "id": "_oMHbK0l3EOw"
      },
      "source": [
        "# SVM kernels \n",
        "kernels = ['Polynomial', 'RBF', 'Sigmoid','Linear']\n",
        "def getClassifier(ktype):\n",
        "    if ktype == 0:\n",
        "        # Polynomial kernel\n",
        "        return SVC(kernel='poly', degree=8, gamma=\"auto\")\n",
        "    elif ktype == 1:\n",
        "        # Radial Basis Function kernel\n",
        "        return SVC(kernel='rbf', gamma=\"auto\")\n",
        "    elif ktype == 2:\n",
        "        # Sigmoid kernel\n",
        "        return SVC(kernel='sigmoid', gamma=\"auto\")\n",
        "    elif ktype == 3:\n",
        "        # Linear kernel\n",
        "        return SVC(kernel='linear', gamma=\"auto\")"
      ],
      "execution_count": null,
      "outputs": []
    },
    {
      "cell_type": "code",
      "metadata": {
        "id": "AJBwMqtC3ME8"
      },
      "source": [
        "for i in range(4):\n",
        "\n",
        "# Train a SVC model using different kernal\n",
        "    svclassifier = getClassifier(i)\n",
        "\n",
        "# Making prediction\n",
        "    svclassifier.fit(X_train, y_train)\n",
        "    y_pred = svclassifier.predict(X_test)\n",
        "\n",
        "# Print Model Evaluation Classification Report\n",
        "    print(\"Evaluation:\", kernels[i], \"kernel\")\n",
        "    print(classification_report(y_test,y_pred))"
      ],
      "execution_count": null,
      "outputs": []
    },
    {
      "cell_type": "code",
      "metadata": {
        "id": "AGQQibmJ3OxM"
      },
      "source": [
        "# import grid search to choose meta parameter\n",
        "from sklearn.model_selection import GridSearchCV"
      ],
      "execution_count": null,
      "outputs": []
    },
    {
      "cell_type": "code",
      "metadata": {
        "id": "5pehVIU23RXI"
      },
      "source": [
        "# grid search parameters\n",
        "param_grid = {'C': [0.1,1, 10, 100], 'gamma': ['auto'],'kernel': ['rbf', 'poly', 'sigmoid']}"
      ],
      "execution_count": null,
      "outputs": []
    },
    {
      "cell_type": "code",
      "metadata": {
        "id": "buFNnELB3Thb"
      },
      "source": [
        "# hyperparameter tuning with Grid Search\n",
        "grid = GridSearchCV(SVC(),param_grid,refit=True,verbose=2,n_jobs=4)\n",
        "grid.fit(X_train,y_train)"
      ],
      "execution_count": null,
      "outputs": []
    },
    {
      "cell_type": "code",
      "metadata": {
        "id": "VWqur8Xf3WLP"
      },
      "source": [
        "# best class and parameters of the model\n",
        "print(grid.best_estimator_)"
      ],
      "execution_count": null,
      "outputs": []
    },
    {
      "cell_type": "code",
      "metadata": {
        "id": "2V1s-uAy3WVd"
      },
      "source": [
        "# model evaluation classification report\n",
        "grid_predictions = grid.predict(X_test)\n",
        "print(confusion_matrix(y_test,grid_predictions))\n",
        "print(classification_report(y_test,grid_predictions))"
      ],
      "execution_count": null,
      "outputs": []
    },
    {
      "cell_type": "code",
      "metadata": {
        "id": "nvAUlhT4ntbc"
      },
      "source": [
        "# confusion matrix heat map\n",
        "sns.heatmap(confusion_matrix(y_test,grid_predictions),cmap='Greens',annot=True, fmt='.0f')"
      ],
      "execution_count": null,
      "outputs": []
    },
    {
      "cell_type": "code",
      "metadata": {
        "id": "rsBVZdHkqJtB"
      },
      "source": [
        "# model accuracy score\n",
        "accuracySVC2 = accuracy_score(y_test,grid_predictions)\n",
        "accuracySVC2"
      ],
      "execution_count": null,
      "outputs": []
    },
    {
      "cell_type": "code",
      "metadata": {
        "id": "xEeIbBzSql6o"
      },
      "source": [
        "# confusion matrix calculator\n",
        "cm = confusion_matrix (y_test,grid_predictions)\n",
        "\n",
        "TN=cm[1][1]\n",
        "TP=cm[0][0]\n",
        "FN=cm[1][0]\n",
        "FP=cm[0][1]"
      ],
      "execution_count": null,
      "outputs": []
    },
    {
      "cell_type": "code",
      "metadata": {
        "id": "H1KPcqAoyQh3"
      },
      "source": [
        "# rates and scores evaluation\n",
        "print ('Accuracy Score = ', (TP+TN)/(TP+TN+FP+FN))\n",
        "print ('Misclassification Score = ', 1-(TP+TN)/(TP+TN+FP+FN))\n",
        "print ('Sensitivity Rate = ', TP/(TP+FN))\n",
        "print ('Specificity Rate = ', TN/(TN+FP))\n",
        "print ('Positive Predicted Value = ', TP/(TP+FP))\n",
        "print ('Negative Predicted Value = ', TN/(TN+FN))\n",
        "print ('Positive Likelihood Ratio = ', ((TP/(TP+FN))/(1-(TN/(TN+FP)))))\n",
        "print ('Negative Likelihood Ratio = ', ((1-(TP/(TP+FN)))/(TN/(TN+FP))))"
      ],
      "execution_count": null,
      "outputs": []
    },
    {
      "cell_type": "code",
      "metadata": {
        "id": "Jp-Uh7gbbL0k"
      },
      "source": [
        "# MAE, MSE, RMSE, R2 evaluation\n",
        "from sklearn import metrics\n",
        "from sklearn.metrics import mean_squared_error, r2_score\n",
        "\n",
        "print('Mean Absolute Error:', metrics.mean_absolute_error(y_test, grid_predictions))\n",
        "print('Mean Squared Error:', metrics.mean_squared_error(y_test, grid_predictions))\n",
        "print('Root Mean Squared Error:', np.sqrt(metrics.mean_squared_error(y_test, grid_predictions)))\n",
        "print('R square:',r2_score(y_test, grid_predictions))"
      ],
      "execution_count": null,
      "outputs": []
    }
  ]
}